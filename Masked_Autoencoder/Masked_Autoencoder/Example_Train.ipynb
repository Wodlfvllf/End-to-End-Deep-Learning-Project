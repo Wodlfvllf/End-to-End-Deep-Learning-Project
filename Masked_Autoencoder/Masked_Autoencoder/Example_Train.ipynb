{
 "cells": [
  {
   "cell_type": "code",
   "execution_count": 1,
   "id": "72e39838-a2fd-4f08-8eda-3d4388555374",
   "metadata": {},
   "outputs": [],
   "source": [
    "from utils_mae import *\n",
    "from Model_mae import *\n",
    "from dataset_mae import *\n",
    "from Train_mae import *\n",
    "from Reconstruct_mae import *"
   ]
  },
  {
   "cell_type": "code",
   "execution_count": 2,
   "id": "a2de8df4-2c13-49f2-8d56-920e3ded3598",
   "metadata": {},
   "outputs": [],
   "source": [
    "X_train = np.load('/DATA/Shashank/X_train.npy')"
   ]
  },
  {
   "cell_type": "code",
   "execution_count": 3,
   "id": "1b0fe55f-5789-444f-b799-a3b020f36e9c",
   "metadata": {},
   "outputs": [],
   "source": [
    "transform = torchvision.transforms.Compose([torchvision.transforms.ToTensor()])"
   ]
  },
  {
   "cell_type": "code",
   "execution_count": 4,
   "id": "8827a798-95e4-4e53-9830-92565b1dd05a",
   "metadata": {},
   "outputs": [],
   "source": [
    "dataset = Custom_Dataset(X_train, transform)"
   ]
  },
  {
   "cell_type": "code",
   "execution_count": 5,
   "id": "85c87c9b-fce7-4742-bee2-eda108807dc0",
   "metadata": {},
   "outputs": [],
   "source": [
    "model = mae_vit_base_patch16_dec512d8b(img_size=125)"
   ]
  },
  {
   "cell_type": "code",
   "execution_count": 6,
   "id": "17836a14-7d4c-4048-bf5f-60f1d094b999",
   "metadata": {},
   "outputs": [],
   "source": [
    "train_size = int(0.8 * len(dataset))\n",
    "val_size = len(dataset) - train_size\n",
    "train_dataset, val_dataset = torch.utils.data.random_split(dataset, [train_size, val_size])\n",
    "training_loss = []\n",
    "validation_loss = []\n",
    "# Create data loaders\n",
    "train_dataloader = DataLoader(train_dataset, batch_size=64, shuffle=True)\n",
    "val_dataloader = DataLoader(val_dataset, batch_size=64, shuffle=False)\n",
    "\n",
    "DEVICE = torch.torch.device(\"cuda\")\n",
    "NUM_GPU = torch.cuda.device_count()\n",
    "if NUM_GPU > 1:\n",
    "    model = nn.DataParallel(model)\n",
    "model = model.to(DEVICE)"
   ]
  },
  {
   "cell_type": "code",
   "execution_count": 7,
   "id": "fcbf2b2f-9e56-410c-ab9c-cf484ee9ad64",
   "metadata": {},
   "outputs": [],
   "source": [
    "trainer = Trainer(model = model, device = DEVICE, epochs = 1, batch_size = 32)"
   ]
  },
  {
   "cell_type": "code",
   "execution_count": 9,
   "id": "46e75447-534a-467b-8718-8c167af7d961",
   "metadata": {},
   "outputs": [
    {
     "name": "stderr",
     "output_type": "stream",
     "text": [
      "Epoch 1/1 (Train): 100%|██████████| 750/750 [08:38<00:00,  1.45batch/s]\n",
      "Epoch 1/1 (Val): 100%|██████████| 188/188 [00:46<00:00,  4.05batch/s]\n"
     ]
    },
    {
     "name": "stdout",
     "output_type": "stream",
     "text": [
      "Epoch 1/1, Train Loss: 0.9459, Val Loss: 0.9160\n"
     ]
    }
   ],
   "source": [
    "train_loss, val_loss = trainer.model_train(train_dataloader, val_dataloader)"
   ]
  },
  {
   "cell_type": "code",
   "execution_count": 12,
   "id": "e1dd44da-281a-47e1-9528-044d885f615f",
   "metadata": {},
   "outputs": [
    {
     "data": {
      "image/png": "[encoded data removed]",
      "text/plain": [
       "<Figure size 640x480 with 1 Axes>"
      ]
     },
     "metadata": {},
     "output_type": "display_data"
    }
   ],
   "source": [
    "import matplotlib.pyplot as plt\n",
    "plt.plot(train_loss, label = 'Training_loss')\n",
    "plt.plot(val_loss, label = 'Validation_loss')\n",
    "plt.legend()\n",
    "plt.show()"
   ]
  },
  {
   "cell_type": "code",
   "execution_count": null,
   "id": "1df0921a-2009-490a-957e-105a505702e0",
   "metadata": {},
   "outputs": [],
   "source": []
  }
 ],
 "metadata": {
  "kernelspec": {
   "display_name": "Python 3 (ipykernel)",
   "language": "python",
   "name": "python3"
  },
  "language_info": {
   "codemirror_mode": {
    "name": "ipython",
    "version": 3
   },
   "file_extension": ".py",
   "mimetype": "text/x-python",
   "name": "python",
   "nbconvert_exporter": "python",
   "pygments_lexer": "ipython3",
   "version": "3.10.0"
  }
 },
 "nbformat": 4,
 "nbformat_minor": 5
}
