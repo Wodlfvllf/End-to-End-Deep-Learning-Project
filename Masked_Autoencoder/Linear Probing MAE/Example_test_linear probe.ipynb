{
 "cells": [
  {
   "cell_type": "code",
   "execution_count": null,
   "id": "b735e1ae-b01b-400c-b5df-53631ca74e61",
   "metadata": {},
   "outputs": [],
   "source": [
    "!pip install einops"
   ]
  },
  {
   "cell_type": "code",
   "execution_count": null,
   "id": "3de023b1-71db-4f59-adca-1186ff707a79",
   "metadata": {},
   "outputs": [],
   "source": [
    "from utils import *\n",
    "from model import *\n",
    "from dataset import *\n",
    "from train import *\n",
    "from predict import *"
   ]
  },
  {
   "cell_type": "code",
   "execution_count": null,
   "id": "a2b8ed45-1e53-4039-a630-2aa23d64d4c6",
   "metadata": {},
   "outputs": [],
   "source": [
    "# Load You dataset\n",
    "x = np.random.rand(1,125,125,8)\n",
    "y = 1.0"
   ]
  },
  {
   "cell_type": "code",
   "execution_count": null,
   "id": "d9022128-30b4-4677-9c70-4306a0138efe",
   "metadata": {},
   "outputs": [],
   "source": [
    "transform = torchvision.transforms.Compose([torchvision.transforms.ToTensor()])"
   ]
  },
  {
   "cell_type": "code",
   "execution_count": null,
   "id": "010143d0-2aaf-47f4-a403-4116000f003f",
   "metadata": {},
   "outputs": [],
   "source": [
    "dataset = Custom_Dataset(x, y, transform,mode = 'test')"
   ]
  },
  {
   "cell_type": "code",
   "execution_count": null,
   "id": "9335b00c-950f-446a-a0b2-37173065f30a",
   "metadata": {},
   "outputs": [],
   "source": [
    "dataloader = DataLoader(dataset, batch_size = 1, shuffle = True)"
   ]
  },
  {
   "cell_type": "code",
   "execution_count": null,
   "id": "b045b313-7d76-42f1-b0c7-cae4f5cf6873",
   "metadata": {},
   "outputs": [],
   "source": [
    "model = mae_vit_base_patch16_dec512d8b(img_size=125, mask_ratio = 0.75)\n",
    "\n",
    "# If pretraining is peformed before load pretrained weights\n",
    "model = torch.load('/DATA/Shashank/GSOC 2024/Masked_Autoencoder/Masked_Autoencoder/model.pth')\n"
   ]
  },
  {
   "cell_type": "code",
   "execution_count": null,
   "id": "fc726578-a061-4799-b812-552e26e828fd",
   "metadata": {},
   "outputs": [],
   "source": [
    "# Instanitate Classifier\n",
    "encoder = model.encoder\n",
    "classifier = VIT_classifier(encoder, 2)"
   ]
  },
  {
   "cell_type": "code",
   "execution_count": null,
   "id": "671f1bac-326d-432b-a858-11a4b4d83d5f",
   "metadata": {},
   "outputs": [],
   "source": [
    "NUM_GPU = torch.cuda.device_count()\n",
    "if NUM_GPU > 1:\n",
    "    classifier = nn.DataParallel(classifier)\n",
    "classifier = classifier.to('cuda')"
   ]
  },
  {
   "cell_type": "code",
   "execution_count": null,
   "id": "9472df06-ca13-426b-805e-383ec3c3ce1a",
   "metadata": {},
   "outputs": [],
   "source": [
    "predict = Predict(classifier)"
   ]
  },
  {
   "cell_type": "code",
   "execution_count": null,
   "id": "36e829fb-3e24-44df-88f8-59f543fb673a",
   "metadata": {},
   "outputs": [],
   "source": [
    "for batch in dataloader:\n",
    "    x = batch['img'].to('cuda').float()\n",
    "    \n",
    "    op = predict.predict(x)"
   ]
  },
  {
   "cell_type": "code",
   "execution_count": null,
   "id": "0fa03799-1504-4289-abd6-b53caadb89f0",
   "metadata": {},
   "outputs": [],
   "source": [
    "op"
   ]
  },
  {
   "cell_type": "code",
   "execution_count": null,
   "id": "0675150f-3711-4977-8b81-60c9acb76f41",
   "metadata": {},
   "outputs": [],
   "source": []
  }
 ],
 "metadata": {
  "kernelspec": {
   "display_name": "Python 3 (ipykernel)",
   "language": "python",
   "name": "python3"
  },
  "language_info": {
   "codemirror_mode": {
    "name": "ipython",
    "version": 3
   },
   "file_extension": ".py",
   "mimetype": "text/x-python",
   "name": "python",
   "nbconvert_exporter": "python",
   "pygments_lexer": "ipython3",
   "version": "3.10.0"
  }
 },
 "nbformat": 4,
 "nbformat_minor": 5
}
