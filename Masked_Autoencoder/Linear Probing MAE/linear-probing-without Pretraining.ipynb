{
 "cells": [
  {
   "cell_type": "code",
   "execution_count": 1,
   "id": "c8553d7f",
   "metadata": {
    "_cell_guid": "b1076dfc-b9ad-4769-8c92-a6c4dae69d19",
    "_uuid": "8f2839f25d086af736a60e9eeb907d3b93b6e0e5",
    "execution": {
     "iopub.execute_input": "2024-03-18T18:33:22.553678Z",
     "iopub.status.busy": "2024-03-18T18:33:22.553336Z",
     "iopub.status.idle": "2024-03-18T18:33:22.558801Z",
     "shell.execute_reply": "2024-03-18T18:33:22.557925Z"
    },
    "papermill": {
     "duration": 0.018947,
     "end_time": "2024-03-18T18:33:22.561071",
     "exception": false,
     "start_time": "2024-03-18T18:33:22.542124",
     "status": "completed"
    },
    "tags": []
   },
   "outputs": [],
   "source": [
    "# # This Python 3 environment comes with many helpful analytics libraries installed\n",
    "# # It is defined by the kaggle/python Docker image: https://github.com/kaggle/docker-python\n",
    "# # For example, here's several helpful packages to load\n",
    "\n",
    "# import numpy as np # linear algebra\n",
    "# import pandas as pd # data processing, CSV file I/O (e.g. pd.read_csv)\n",
    "\n",
    "# # Input data files are available in the read-only \"../input/\" directory\n",
    "# # For example, running this (by clicking run or pressing Shift+Enter) will list all files under the input directory\n",
    "\n",
    "# import os\n",
    "# for dirname, _, filenames in os.walk('/kaggle/input'):\n",
    "#     for filename in filenames:\n",
    "#         print(os.path.join(dirname, filename))\n",
    "\n",
    "# # You can write up to 20GB to the current directory (/kaggle/working/) that gets preserved as output when you create a version using \"Save & Run All\" \n",
    "# # You can also write temporary files to /kaggle/temp/, but they won't be saved outside of the current session"
   ]
  },
  {
   "cell_type": "code",
   "execution_count": 2,
   "id": "ac46e963",
   "metadata": {
    "execution": {
     "iopub.execute_input": "2024-03-18T18:33:22.581176Z",
     "iopub.status.busy": "2024-03-18T18:33:22.580829Z",
     "iopub.status.idle": "2024-03-18T18:33:53.846637Z",
     "shell.execute_reply": "2024-03-18T18:33:53.845414Z"
    },
    "papermill": {
     "duration": 31.278557,
     "end_time": "2024-03-18T18:33:53.849318",
     "exception": false,
     "start_time": "2024-03-18T18:33:22.570761",
     "status": "completed"
    },
    "tags": []
   },
   "outputs": [
    {
     "name": "stdout",
     "output_type": "stream",
     "text": [
      "Collecting torchview\r\n",
      "  Downloading torchview-0.2.6-py3-none-any.whl.metadata (12 kB)\r\n",
      "Downloading torchview-0.2.6-py3-none-any.whl (25 kB)\r\n",
      "Installing collected packages: torchview\r\n",
      "Successfully installed torchview-0.2.6\r\n",
      "Collecting torchviz\r\n",
      "  Downloading torchviz-0.0.2.tar.gz (4.9 kB)\r\n",
      "  Preparing metadata (setup.py) ... \u001b[?25l-\b \bdone\r\n",
      "\u001b[?25hRequirement already satisfied: torch in /opt/conda/lib/python3.10/site-packages (from torchviz) (2.1.2)\r\n",
      "Requirement already satisfied: graphviz in /opt/conda/lib/python3.10/site-packages (from torchviz) (0.20.1)\r\n",
      "Requirement already satisfied: filelock in /opt/conda/lib/python3.10/site-packages (from torch->torchviz) (3.13.1)\r\n",
      "Requirement already satisfied: typing-extensions in /opt/conda/lib/python3.10/site-packages (from torch->torchviz) (4.9.0)\r\n",
      "Requirement already satisfied: sympy in /opt/conda/lib/python3.10/site-packages (from torch->torchviz) (1.12)\r\n",
      "Requirement already satisfied: networkx in /opt/conda/lib/python3.10/site-packages (from torch->torchviz) (3.2.1)\r\n",
      "Requirement already satisfied: jinja2 in /opt/conda/lib/python3.10/site-packages (from torch->torchviz) (3.1.2)\r\n",
      "Requirement already satisfied: fsspec in /opt/conda/lib/python3.10/site-packages (from torch->torchviz) (2024.2.0)\r\n",
      "Requirement already satisfied: MarkupSafe>=2.0 in /opt/conda/lib/python3.10/site-packages (from jinja2->torch->torchviz) (2.1.3)\r\n",
      "Requirement already satisfied: mpmath>=0.19 in /opt/conda/lib/python3.10/site-packages (from sympy->torch->torchviz) (1.3.0)\r\n",
      "Building wheels for collected packages: torchviz\r\n",
      "  Building wheel for torchviz (setup.py) ... \u001b[?25l-\b \b\\\b \bdone\r\n",
      "\u001b[?25h  Created wheel for torchviz: filename=torchviz-0.0.2-py3-none-any.whl size=4131 sha256=20fb1affe9b34e6fdfdd1a5e05dc1dad5014d387d21ab09d7df8f91b603cc87f\r\n",
      "  Stored in directory: /root/.cache/pip/wheels/4c/97/88/a02973217949e0db0c9f4346d154085f4725f99c4f15a87094\r\n",
      "Successfully built torchviz\r\n",
      "Installing collected packages: torchviz\r\n",
      "Successfully installed torchviz-0.0.2\r\n"
     ]
    }
   ],
   "source": [
    "!pip install torchview\n",
    "!pip install torchviz"
   ]
  },
  {
   "cell_type": "code",
   "execution_count": 3,
   "id": "fea2b51d",
   "metadata": {
    "execution": {
     "iopub.execute_input": "2024-03-18T18:33:53.871562Z",
     "iopub.status.busy": "2024-03-18T18:33:53.871186Z",
     "iopub.status.idle": "2024-03-18T18:33:59.120063Z",
     "shell.execute_reply": "2024-03-18T18:33:59.119049Z"
    },
    "papermill": {
     "duration": 5.262993,
     "end_time": "2024-03-18T18:33:59.122532",
     "exception": false,
     "start_time": "2024-03-18T18:33:53.859539",
     "status": "completed"
    },
    "tags": []
   },
   "outputs": [
    {
     "data": {
      "text/plain": [
       "<torch._C.Generator at 0x7f27bb811550>"
      ]
     },
     "execution_count": 3,
     "metadata": {},
     "output_type": "execute_result"
    }
   ],
   "source": [
    "import pandas as pd\n",
    "import numpy as np\n",
    "import csv\n",
    "import torch\n",
    "import ctypes\n",
    "import gc\n",
    "libc = ctypes.CDLL(\"libc.so.6\")\n",
    "seed = 42\n",
    "torch.manual_seed(seed)"
   ]
  },
  {
   "cell_type": "code",
   "execution_count": 4,
   "id": "a243a8e0",
   "metadata": {
    "execution": {
     "iopub.execute_input": "2024-03-18T18:33:59.145901Z",
     "iopub.status.busy": "2024-03-18T18:33:59.145405Z",
     "iopub.status.idle": "2024-03-18T18:34:37.682829Z",
     "shell.execute_reply": "2024-03-18T18:34:37.681902Z"
    },
    "papermill": {
     "duration": 38.551627,
     "end_time": "2024-03-18T18:34:37.685468",
     "exception": false,
     "start_time": "2024-03-18T18:33:59.133841",
     "status": "completed"
    },
    "tags": []
   },
   "outputs": [
    {
     "name": "stdout",
     "output_type": "stream",
     "text": [
      "Groups in the HDF5 file:\n",
      "Y\n",
      "jet\n",
      "Dataset shape: (10000, 125, 125, 8)\n",
      "Dataset dtype: float32\n",
      "Dataset shape: (10000, 1)\n",
      "Dataset dtype: float32\n",
      "Dataset attributes:\n"
     ]
    }
   ],
   "source": [
    "# Open the HDF5 file\n",
    "import h5py\n",
    "with h5py.File('/kaggle/input/autoencoders-labelled/Dataset_Specific_labelled.h5', 'r') as file:\n",
    "    # List all the groups in the file\n",
    "    print(\"Groups in the HDF5 file:\")\n",
    "    for group in file:\n",
    "        print(group)\n",
    "\n",
    "    # Get information about a specific dataset\n",
    "    dataset = file['jet']\n",
    "    print(\"Dataset shape:\", dataset.shape)\n",
    "    print(\"Dataset dtype:\", dataset.dtype)\n",
    "    \n",
    "    dataset = file['Y']\n",
    "    print(\"Dataset shape:\", dataset.shape)\n",
    "    print(\"Dataset dtype:\", dataset.dtype)\n",
    "\n",
    "\n",
    "    # Explore attributes of the dataset\n",
    "    print(\"Dataset attributes:\")\n",
    "    for attr_name, attr_value in dataset.attrs.items():\n",
    "        print(f\"{attr_name}: {attr_value}\")\n",
    "\n",
    "    X = np.array(file['jet'][:])\n",
    "    Y = np.array(file['Y'][:])\n",
    "    # Explore more datasets, groups, and attributes as needed\n"
   ]
  },
  {
   "cell_type": "code",
   "execution_count": 5,
   "id": "49dea15f",
   "metadata": {
    "execution": {
     "iopub.execute_input": "2024-03-18T18:34:37.708102Z",
     "iopub.status.busy": "2024-03-18T18:34:37.707751Z",
     "iopub.status.idle": "2024-03-18T18:34:37.714504Z",
     "shell.execute_reply": "2024-03-18T18:34:37.713571Z"
    },
    "papermill": {
     "duration": 0.02036,
     "end_time": "2024-03-18T18:34:37.716703",
     "exception": false,
     "start_time": "2024-03-18T18:34:37.696343",
     "status": "completed"
    },
    "tags": []
   },
   "outputs": [
    {
     "data": {
      "text/plain": [
       "(10000, 125, 125, 8)"
      ]
     },
     "execution_count": 5,
     "metadata": {},
     "output_type": "execute_result"
    }
   ],
   "source": [
    "X.shape"
   ]
  },
  {
   "cell_type": "code",
   "execution_count": null,
   "id": "f5a93035",
   "metadata": {
    "papermill": {
     "duration": 0.010239,
     "end_time": "2024-03-18T18:34:37.738439",
     "exception": false,
     "start_time": "2024-03-18T18:34:37.728200",
     "status": "completed"
    },
    "tags": []
   },
   "outputs": [],
   "source": []
  },
  {
   "cell_type": "code",
   "execution_count": 6,
   "id": "ef2e24ee",
   "metadata": {
    "execution": {
     "iopub.execute_input": "2024-03-18T18:34:37.760992Z",
     "iopub.status.busy": "2024-03-18T18:34:37.760637Z",
     "iopub.status.idle": "2024-03-18T18:34:37.773170Z",
     "shell.execute_reply": "2024-03-18T18:34:37.772220Z"
    },
    "papermill": {
     "duration": 0.026222,
     "end_time": "2024-03-18T18:34:37.775270",
     "exception": false,
     "start_time": "2024-03-18T18:34:37.749048",
     "status": "completed"
    },
    "tags": []
   },
   "outputs": [],
   "source": [
    "import numpy as np\n",
    "\n",
    "import torch\n",
    "\n",
    "def get_2d_sincos_pos_embed(embed_dim, grid_size, cls_token=False):\n",
    "    \"\"\"\n",
    "    grid_size: int of the grid height and width\n",
    "    return:\n",
    "    pos_embed: [grid_size*grid_size, embed_dim] or [1+grid_size*grid_size, embed_dim] (w/ or w/o cls_token)\n",
    "    \"\"\"\n",
    "    grid_h = np.arange(grid_size, dtype=np.float32)\n",
    "    grid_w = np.arange(grid_size, dtype=np.float32)\n",
    "    grid = np.meshgrid(grid_w, grid_h)  # here w goes first\n",
    "    grid = np.stack(grid, axis=0)\n",
    "\n",
    "    grid = grid.reshape([2, 1, grid_size, grid_size])\n",
    "    pos_embed = get_2d_sincos_pos_embed_from_grid(embed_dim, grid)\n",
    "    if cls_token:\n",
    "        pos_embed = np.concatenate([np.zeros([1, embed_dim]), pos_embed], axis=0)\n",
    "    return pos_embed\n",
    "\n",
    "\n",
    "def get_2d_sincos_pos_embed_from_grid(embed_dim, grid):\n",
    "    assert embed_dim % 2 == 0\n",
    "\n",
    "    # use half of dimensions to encode grid_h\n",
    "    emb_h = get_1d_sincos_pos_embed_from_grid(embed_dim // 2, grid[0])  # (H*W, D/2)\n",
    "    emb_w = get_1d_sincos_pos_embed_from_grid(embed_dim // 2, grid[1])  # (H*W, D/2)\n",
    "\n",
    "    emb = np.concatenate([emb_h, emb_w], axis=1) # (H*W, D)\n",
    "    return emb\n",
    "\n",
    "\n",
    "def get_1d_sincos_pos_embed_from_grid(embed_dim, pos):\n",
    "    \"\"\"\n",
    "    embed_dim: output dimension for each position\n",
    "    pos: a list of positions to be encoded: size (M,)\n",
    "    out: (M, D)\n",
    "    \"\"\"\n",
    "    assert embed_dim % 2 == 0\n",
    "    omega = np.arange(embed_dim // 2, dtype='float32')\n",
    "    omega /= embed_dim / 2.\n",
    "    omega = 1. / 10000**omega  # (D/2,)\n",
    "\n",
    "    pos = pos.reshape(-1)  # (M,)\n",
    "    out = np.einsum('m,d->md', pos, omega)  # (M, D/2), outer product\n",
    "\n",
    "    emb_sin = np.sin(out) # (M, D/2)\n",
    "    emb_cos = np.cos(out) # (M, D/2)\n",
    "\n",
    "    emb = np.concatenate([emb_sin, emb_cos], axis=1)  # (M, D)\n",
    "    return emb\n"
   ]
  },
  {
   "cell_type": "code",
   "execution_count": 7,
   "id": "931e19e0",
   "metadata": {
    "execution": {
     "iopub.execute_input": "2024-03-18T18:34:37.798341Z",
     "iopub.status.busy": "2024-03-18T18:34:37.798038Z",
     "iopub.status.idle": "2024-03-18T18:34:44.266802Z",
     "shell.execute_reply": "2024-03-18T18:34:44.265906Z"
    },
    "papermill": {
     "duration": 6.48354,
     "end_time": "2024-03-18T18:34:44.269432",
     "exception": false,
     "start_time": "2024-03-18T18:34:37.785892",
     "status": "completed"
    },
    "tags": []
   },
   "outputs": [],
   "source": [
    "from functools import partial\n",
    "\n",
    "import torch\n",
    "import torch.nn as nn\n",
    "\n",
    "from timm.models.vision_transformer import PatchEmbed, Block\n",
    "from functools import partial\n",
    "\n",
    "import torch\n",
    "import torch.nn as nn\n",
    "\n",
    "from timm.models.vision_transformer import PatchEmbed, Block\n",
    "\n",
    "class Encoder(nn.Module):\n",
    "    def __init__(self, img_size=224, patch_size=16, in_chans=8,\n",
    "                 embed_dim=1024, depth=24, num_heads=16,\n",
    "                 decoder_embed_dim=512, decoder_depth=8, decoder_num_heads=16,\n",
    "                 mlp_ratio=4., norm_layer=nn.LayerNorm, norm_pix_loss=False):\n",
    "        super().__init__()\n",
    "\n",
    "        # --------------------------------------------------------------------------\n",
    "        # MAE encoder specifics\n",
    "        self.mask_ratio = 0.75\n",
    "        self.patch_embed = PatchEmbed(img_size, patch_size, in_chans, embed_dim)\n",
    "        num_patches = self.patch_embed.num_patches\n",
    "\n",
    "        self.cls_token = nn.Parameter(torch.zeros(1, 1, embed_dim))\n",
    "        self.pos_embed = nn.Parameter(torch.zeros(1, num_patches + 1, embed_dim), requires_grad=False)  # fixed sin-cos embedding\n",
    "\n",
    "        self.blocks = nn.ModuleList([\n",
    "            Block(embed_dim, num_heads, mlp_ratio, qkv_bias=True, norm_layer=norm_layer)\n",
    "            for i in range(depth)])\n",
    "        \n",
    "        self.norm = norm_layer(embed_dim)\n",
    "\n",
    "        self.initialize_weights()\n",
    "\n",
    "    def initialize_weights(self):\n",
    "        # initialization\n",
    "        # initialize (and freeze) pos_embed by sin-cos embedding\n",
    "        pos_embed = get_2d_sincos_pos_embed(self.pos_embed.shape[-1], int(self.patch_embed.num_patches**.5), cls_token=True)\n",
    "        self.pos_embed.data.copy_(torch.from_numpy(pos_embed).float().unsqueeze(0))\n",
    "\n",
    "        # initialize patch_embed like nn.Linear (instead of nn.Conv2d)\n",
    "        w = self.patch_embed.proj.weight.data\n",
    "        torch.nn.init.xavier_uniform_(w.view([w.shape[0], -1]))\n",
    "\n",
    "        # timm's trunc_normal_(std=.02) is effectively normal_(std=0.02) as cutoff is too big (2.)\n",
    "        torch.nn.init.normal_(self.cls_token, std=.02)\n",
    "\n",
    "        # initialize nn.Linear and nn.LayerNorm\n",
    "        self.apply(self._init_weights)\n",
    "    \n",
    "    def _init_weights(self, m):\n",
    "        if isinstance(m, nn.Linear):\n",
    "            # we use xavier_uniform following official JAX ViT:\n",
    "            torch.nn.init.xavier_uniform_(m.weight)\n",
    "            if isinstance(m, nn.Linear) and m.bias is not None:\n",
    "                nn.init.constant_(m.bias, 0)\n",
    "        elif isinstance(m, nn.LayerNorm):\n",
    "            nn.init.constant_(m.bias, 0)\n",
    "            nn.init.constant_(m.weight, 1.0)\n",
    "        \n",
    "    def patchify(self, imgs):\n",
    "        \"\"\"\n",
    "        imgs: (N, 8, H, W)\n",
    "        x: (N, L, patch_size**2 *3)\n",
    "        \"\"\"\n",
    "        p = self.patch_embed.patch_size[0]\n",
    "        assert imgs.shape[2] == imgs.shape[3] and imgs.shape[2] % p == 0\n",
    "\n",
    "        h = w = imgs.shape[2] // p\n",
    "        x = imgs.reshape(shape=(imgs.shape[0], 8, h, p, w, p))\n",
    "        x = torch.einsum('nchpwq->nhwpqc', x)\n",
    "        x = x.reshape(shape=(imgs.shape[0], h * w, p**2 * 8))\n",
    "        return x\n",
    "\n",
    "    def unpatchify(self, x):\n",
    "        \"\"\"\n",
    "        x: (N, L, patch_size**2 *3)\n",
    "        imgs: (N, 8, H, W)\n",
    "        \"\"\"\n",
    "        p = self.patch_embed.patch_size[0]\n",
    "        h = w = int(x.shape[1]**.5)\n",
    "        assert h * w == x.shape[1]\n",
    "        \n",
    "        x = x.reshape(shape=(x.shape[0], h, w, p, p, 8))\n",
    "        x = torch.einsum('nhwpqc->nchpwq', x)\n",
    "        imgs = x.reshape(shape=(x.shape[0], 8, h * p, h * p))\n",
    "        return imgs\n",
    "\n",
    "    def random_masking(self, x, mask_ratio):\n",
    "        \"\"\"\n",
    "        Perform per-sample random masking by per-sample shuffling.\n",
    "        Per-sample shuffling is done by argsort random noise.\n",
    "        x: [N, L, D], sequence\n",
    "        \"\"\"\n",
    "        N, L, D = x.shape  # batch, length, dim\n",
    "        len_keep = int(L * (1 - mask_ratio))\n",
    "        \n",
    "        noise = torch.rand(N, L, device=x.device)  # noise in [0, 1]\n",
    "        \n",
    "        # sort noise for each sample\n",
    "        ids_shuffle = torch.argsort(noise, dim=1)  # ascend: small is keep, large is remove\n",
    "        ids_restore = torch.argsort(ids_shuffle, dim=1)\n",
    "\n",
    "        # keep the first subset\n",
    "        ids_keep = ids_shuffle[:, :len_keep]\n",
    "        x_masked = torch.gather(x, dim=1, index=ids_keep.unsqueeze(-1).repeat(1, 1, D))\n",
    "\n",
    "        # generate the binary mask: 0 is keep, 1 is remove\n",
    "        mask = torch.ones([N, L], device=x.device)\n",
    "        mask[:, :len_keep] = 0\n",
    "        # unshuffle to get the binary mask\n",
    "        mask = torch.gather(mask, dim=1, index=ids_restore)\n",
    "\n",
    "        return x_masked, mask, ids_restore\n",
    "    \n",
    "    def forward(self, x):\n",
    "        \n",
    "        imgs = self.patchify(x)\n",
    "        \n",
    "        # embed patches\n",
    "        x = self.patch_embed(x)\n",
    "\n",
    "        # add pos embed w/o cls token\n",
    "        x = x + self.pos_embed[:, 1:, :]\n",
    "\n",
    "        # masking: length -> length * mask_ratio\n",
    "        x, mask, ids_restore = self.random_masking(x, self.mask_ratio)\n",
    "\n",
    "        # append cls token\n",
    "        cls_token = self.cls_token + self.pos_embed[:, :1, :]\n",
    "        cls_tokens = cls_token.expand(x.shape[0], -1, -1)\n",
    "        x = torch.cat((cls_tokens, x), dim=1)\n",
    "\n",
    "        # apply Transformer blocks\n",
    "        for blk in self.blocks:\n",
    "            x = blk(x)\n",
    "        x = self.norm(x)\n",
    "        \n",
    "        \n",
    "        \n",
    "        return x, mask, ids_restore, imgs\n",
    "    \n",
    "class Decoder(nn.Module):\n",
    "    def __init__(self, img_size=224, patch_size=16, in_chans=8,\n",
    "                 embed_dim=1024, depth=24, num_heads=16,\n",
    "                 decoder_embed_dim=512, decoder_depth=8, decoder_num_heads=16,\n",
    "                 mlp_ratio=4., norm_layer=nn.LayerNorm, norm_pix_loss=False):\n",
    "        super().__init__()\n",
    "\n",
    "        self.num_patches = (img_size//patch_size)**2\n",
    "        self.decoder_embed = nn.Linear(embed_dim, decoder_embed_dim, bias=True)\n",
    "\n",
    "        self.mask_token = nn.Parameter(torch.zeros(1, 1, decoder_embed_dim))\n",
    "\n",
    "        self.decoder_pos_embed = nn.Parameter(torch.zeros(1, self.num_patches + 1, decoder_embed_dim), requires_grad=False)  # fixed sin-cos embedding\n",
    "\n",
    "        self.decoder_blocks = nn.ModuleList([\n",
    "            Block(decoder_embed_dim, decoder_num_heads, mlp_ratio, qkv_bias=True, norm_layer=norm_layer)\n",
    "            for i in range(decoder_depth)])\n",
    "\n",
    "        self.decoder_norm = norm_layer(decoder_embed_dim)\n",
    "        self.decoder_pred = nn.Linear(decoder_embed_dim, patch_size**2 * in_chans, bias=True) # decoder to patch\n",
    "        # --------------------------------------------------------------------------\n",
    "\n",
    "        self.norm_pix_loss = norm_pix_loss\n",
    "\n",
    "        self.initialize_weights()\n",
    "\n",
    "    def initialize_weights(self):\n",
    "        # initialization\n",
    "        # initialize (and freeze) pos_embed by sin-cos embedding\n",
    "\n",
    "        decoder_pos_embed = get_2d_sincos_pos_embed(self.decoder_pos_embed.shape[-1], int(self.num_patches**.5), cls_token=True)\n",
    "        self.decoder_pos_embed.data.copy_(torch.from_numpy(decoder_pos_embed).float().unsqueeze(0))\n",
    "\n",
    "        # timm's trunc_normal_(std=.02) is effectively normal_(std=0.02) as cutoff is too big (2.)\n",
    "        torch.nn.init.normal_(self.mask_token, std=.02)\n",
    "\n",
    "        # initialize nn.Linear and nn.LayerNorm\n",
    "        self.apply(self._init_weights)\n",
    "\n",
    "    def _init_weights(self, m):\n",
    "        if isinstance(m, nn.Linear):\n",
    "            # we use xavier_uniform following official JAX ViT:\n",
    "            torch.nn.init.xavier_uniform_(m.weight)\n",
    "            if isinstance(m, nn.Linear) and m.bias is not None:\n",
    "                nn.init.constant_(m.bias, 0)\n",
    "        elif isinstance(m, nn.LayerNorm):\n",
    "            nn.init.constant_(m.bias, 0)\n",
    "            nn.init.constant_(m.weight, 1.0)\n",
    "\n",
    "    def patchify(self, imgs):\n",
    "        \"\"\"\n",
    "        imgs: (N, 8, H, W)\n",
    "        x: (N, L, patch_size**2 *3)\n",
    "        \"\"\"\n",
    "        p = self.patch_embed.patch_size[0]\n",
    "        assert imgs.shape[2] == imgs.shape[3] and imgs.shape[2] % p == 0\n",
    "\n",
    "        h = w = imgs.shape[2] // p\n",
    "        x = imgs.reshape(shape=(imgs.shape[0], 8, h, p, w, p))\n",
    "        x = torch.einsum('nchpwq->nhwpqc', x)\n",
    "        x = x.reshape(shape=(imgs.shape[0], h * w, p**2 * 8))\n",
    "        return x\n",
    "\n",
    "    def unpatchify(self, x):\n",
    "        \"\"\"\n",
    "        x: (N, L, patch_size**2 *3)\n",
    "        imgs: (N, 8, H, W)\n",
    "        \"\"\"\n",
    "        p = self.patch_embed.patch_size[0]\n",
    "        h = w = int(x.shape[1]**.5)\n",
    "        assert h * w == x.shape[1]\n",
    "        \n",
    "        x = x.reshape(shape=(x.shape[0], h, w, p, p, 8))\n",
    "        x = torch.einsum('nhwpqc->nchpwq', x)\n",
    "        imgs = x.reshape(shape=(x.shape[0], 8, h * p, h * p))\n",
    "        return imgs\n",
    "\n",
    "    def forward(self, x, ids_restore):\n",
    "        # embed tokens\n",
    "        x = self.decoder_embed(x)\n",
    "\n",
    "        # append mask tokens to sequence\n",
    "        mask_tokens = self.mask_token.repeat(x.shape[0], ids_restore.shape[1] + 1 - x.shape[1], 1)\n",
    "        x_ = torch.cat([x[:, 1:, :], mask_tokens], dim=1)  # no cls token\n",
    "        x_ = torch.gather(x_, dim=1, index=ids_restore.unsqueeze(-1).repeat(1, 1, x.shape[2]))  # unshuffle\n",
    "        x = torch.cat([x[:, :1, :], x_], dim=1)  # append cls token\n",
    "\n",
    "        # add pos embed\n",
    "        x = x + self.decoder_pos_embed\n",
    "\n",
    "        # apply Transformer blocks\n",
    "        for blk in self.decoder_blocks:\n",
    "            x = blk(x)\n",
    "        x = self.decoder_norm(x)\n",
    "\n",
    "        # predictor projection\n",
    "        x = self.decoder_pred(x)\n",
    "\n",
    "        # remove cls token\n",
    "        x = x[:, 1:, :]\n",
    "\n",
    "        return x\n",
    "    \n",
    "class Masked_VIT(nn.Module):\n",
    "    def __init__(self, encoder, decoder, mask_ratio):\n",
    "        super().__init__()\n",
    "        \n",
    "        self.encoder = encoder\n",
    "        self.decoder = decoder\n",
    "        self.mask_ratio = mask_ratio\n",
    "        \n",
    "    def forward(self, x):\n",
    "        x, mask, ids_restore, imgs = self.encoder(x)\n",
    "        pred = self.decoder(x, ids_restore)\n",
    "        \n",
    "        return imgs, pred, mask\n",
    "    \n",
    "def mae_vit_base_patch16_dec512d8b(img_size=125, mask_ratio = 0.75, **kwargs):\n",
    "    encoder = Encoder(\n",
    "        img_size=img_size, patch_size=5, embed_dim=768, depth=8, num_heads=12,\n",
    "        decoder_embed_dim=512, decoder_depth=4, decoder_num_heads=16,\n",
    "        mlp_ratio=4, norm_layer=partial(nn.LayerNorm, eps=1e-6), **kwargs)\n",
    "    \n",
    "    decoder = Decoder(\n",
    "        img_size=img_size, patch_size=5, embed_dim=768, depth=8, num_heads=12,\n",
    "        decoder_embed_dim=512, decoder_depth=4, decoder_num_heads=16,\n",
    "        mlp_ratio=4, norm_layer=partial(nn.LayerNorm, eps=1e-6), **kwargs)\n",
    "    \n",
    "    model = Masked_VIT(encoder, decoder, mask_ratio)\n",
    "    \n",
    "    return model\n",
    "\n",
    "# Instantiate the model\n",
    "model = mae_vit_base_patch16_dec512d8b(img_size=125, mask_ratio = 0.75)\n",
    "# model = torch.load('/kaggle/input/pretrained-weights-autoencoder/model.pth')"
   ]
  },
  {
   "cell_type": "code",
   "execution_count": 8,
   "id": "40b4701e",
   "metadata": {
    "execution": {
     "iopub.execute_input": "2024-03-18T18:34:44.291800Z",
     "iopub.status.busy": "2024-03-18T18:34:44.291481Z",
     "iopub.status.idle": "2024-03-18T18:34:58.849735Z",
     "shell.execute_reply": "2024-03-18T18:34:58.848460Z"
    },
    "papermill": {
     "duration": 14.572388,
     "end_time": "2024-03-18T18:34:58.852568",
     "exception": false,
     "start_time": "2024-03-18T18:34:44.280180",
     "status": "completed"
    },
    "tags": []
   },
   "outputs": [
    {
     "name": "stdout",
     "output_type": "stream",
     "text": [
      "Collecting einops\r\n",
      "  Downloading einops-0.7.0-py3-none-any.whl.metadata (13 kB)\r\n",
      "Downloading einops-0.7.0-py3-none-any.whl (44 kB)\r\n",
      "\u001b[2K   \u001b[90m━━━━━━━━━━━━━━━━━━━━━━━━━━━━━━━━━━━━━━━━\u001b[0m \u001b[32m44.6/44.6 kB\u001b[0m \u001b[31m648.7 kB/s\u001b[0m eta \u001b[36m0:00:00\u001b[0m\r\n",
      "\u001b[?25hInstalling collected packages: einops\r\n",
      "Successfully installed einops-0.7.0\r\n"
     ]
    }
   ],
   "source": [
    "!pip install einops"
   ]
  },
  {
   "cell_type": "code",
   "execution_count": 9,
   "id": "ac4848c5",
   "metadata": {
    "execution": {
     "iopub.execute_input": "2024-03-18T18:34:58.879325Z",
     "iopub.status.busy": "2024-03-18T18:34:58.878298Z",
     "iopub.status.idle": "2024-03-18T18:34:58.883962Z",
     "shell.execute_reply": "2024-03-18T18:34:58.882899Z"
    },
    "papermill": {
     "duration": 0.021513,
     "end_time": "2024-03-18T18:34:58.886219",
     "exception": false,
     "start_time": "2024-03-18T18:34:58.864706",
     "status": "completed"
    },
    "tags": []
   },
   "outputs": [],
   "source": [
    "# model.module.encoder"
   ]
  },
  {
   "cell_type": "code",
   "execution_count": 10,
   "id": "b8be828e",
   "metadata": {
    "execution": {
     "iopub.execute_input": "2024-03-18T18:34:58.911878Z",
     "iopub.status.busy": "2024-03-18T18:34:58.911451Z",
     "iopub.status.idle": "2024-03-18T18:34:58.943135Z",
     "shell.execute_reply": "2024-03-18T18:34:58.942170Z"
    },
    "papermill": {
     "duration": 0.047332,
     "end_time": "2024-03-18T18:34:58.945696",
     "exception": false,
     "start_time": "2024-03-18T18:34:58.898364",
     "status": "completed"
    },
    "tags": []
   },
   "outputs": [],
   "source": [
    "from einops import repeat, rearrange\n",
    "from einops.layers.torch import Rearrange\n",
    "class VIT_classifier(nn.Module):\n",
    "    def __init__(self, encoder, num_classes):\n",
    "        super().__init__()\n",
    "        self.encoder = encoder\n",
    "        self.patch_embed = encoder.patch_embed\n",
    "        self.cls_token = encoder.cls_token\n",
    "        self.pos_embed = encoder.pos_embed  # Corrected attribute name\n",
    "        self.patchify = encoder.patchify\n",
    "        self.transformer = encoder.blocks  # Corrected attribute name\n",
    "        self.layer_norm = encoder.norm  # Corrected attribute name\n",
    "        self.head = torch.nn.Linear(self.pos_embed.shape[-1], num_classes)\n",
    "        self.blocks = encoder.blocks\n",
    "        \n",
    "        self.avg_pool = nn.AdaptiveAvgPool1d((1))\n",
    "        self.flatten = nn.Flatten()\n",
    "        self.fc = nn.Linear(in_features=625, out_features=64)\n",
    "        self.fc_1 = nn.Linear(in_features=64, out_features=1)\n",
    "        self.sigmoid = nn.Sigmoid()\n",
    "        \n",
    "    def forward(self, x):\n",
    "        \n",
    "        x = self.patch_embed(x)\n",
    "        \n",
    "        x = x + self.pos_embed[:, 1:, :]\n",
    "\n",
    "        # append cls token\n",
    "        cls_token = self.cls_token + self.pos_embed[:, :1, :]\n",
    "        cls_tokens = cls_token.expand(x.shape[0], -1, -1)\n",
    "        x = torch.cat((cls_tokens, x), dim=1)\n",
    "\n",
    "        # apply Transformer blocks\n",
    "        for blk in self.blocks:\n",
    "            x = blk(x)\n",
    "        \n",
    "        x = self.layer_norm(x)\n",
    "        \n",
    "        x = x[:,1:,:]\n",
    "        x = self.avg_pool(x)\n",
    "        x = self.flatten(x)\n",
    "        x = self.fc(x)\n",
    "        x = self.fc_1(x)\n",
    "        x = self.sigmoid(x)\n",
    "        \n",
    "        return x\n",
    "\n",
    "encoder = model.encoder\n",
    "classifier = VIT_classifier(encoder, 2)"
   ]
  },
  {
   "cell_type": "code",
   "execution_count": 11,
   "id": "770e0752",
   "metadata": {
    "execution": {
     "iopub.execute_input": "2024-03-18T18:34:58.971516Z",
     "iopub.status.busy": "2024-03-18T18:34:58.970672Z",
     "iopub.status.idle": "2024-03-18T18:34:58.976152Z",
     "shell.execute_reply": "2024-03-18T18:34:58.975123Z"
    },
    "papermill": {
     "duration": 0.020706,
     "end_time": "2024-03-18T18:34:58.978526",
     "exception": false,
     "start_time": "2024-03-18T18:34:58.957820",
     "status": "completed"
    },
    "tags": []
   },
   "outputs": [],
   "source": [
    "# import torchvision\n",
    "# from torchview import draw_graph\n",
    "# from torchviz import make_dot\n",
    "\n",
    "# # # encoder = Encoder(\n",
    "# # #         img_size=125, patch_size=5, embed_dim=768, depth=8, num_heads=12,\n",
    "# # #         decoder_embed_dim=512, decoder_depth=4, decoder_num_heads=16,\n",
    "# # #         mlp_ratio=4, norm_layer=partial(nn.LayerNorm, eps=1e-6)\n",
    "# # # encoder = model.encoder\n",
    "\n",
    "# model_graph = draw_graph(classifier, input_size=(1,8,125,125), expand_nested=True)\n",
    "# model_graph.visual_graph"
   ]
  },
  {
   "cell_type": "code",
   "execution_count": 12,
   "id": "a23fa138",
   "metadata": {
    "execution": {
     "iopub.execute_input": "2024-03-18T18:34:59.003756Z",
     "iopub.status.busy": "2024-03-18T18:34:59.003373Z",
     "iopub.status.idle": "2024-03-18T18:34:59.008034Z",
     "shell.execute_reply": "2024-03-18T18:34:59.006996Z"
    },
    "papermill": {
     "duration": 0.020148,
     "end_time": "2024-03-18T18:34:59.010671",
     "exception": false,
     "start_time": "2024-03-18T18:34:58.990523",
     "status": "completed"
    },
    "tags": []
   },
   "outputs": [],
   "source": [
    "import torchvision"
   ]
  },
  {
   "cell_type": "code",
   "execution_count": 13,
   "id": "c2c27472",
   "metadata": {
    "execution": {
     "iopub.execute_input": "2024-03-18T18:34:59.035714Z",
     "iopub.status.busy": "2024-03-18T18:34:59.035382Z",
     "iopub.status.idle": "2024-03-18T18:35:20.644854Z",
     "shell.execute_reply": "2024-03-18T18:35:20.643868Z"
    },
    "papermill": {
     "duration": 21.624445,
     "end_time": "2024-03-18T18:35:20.647623",
     "exception": false,
     "start_time": "2024-03-18T18:34:59.023178",
     "status": "completed"
    },
    "tags": []
   },
   "outputs": [],
   "source": [
    "for _z in range(8):\n",
    "    X[:,:,:,_z] = (X[:,:,:,_z] - X[:,:,:,_z].mean()) / (X[:,:,:,_z].std())"
   ]
  },
  {
   "cell_type": "code",
   "execution_count": 14,
   "id": "04f142a4",
   "metadata": {
    "execution": {
     "iopub.execute_input": "2024-03-18T18:35:20.673320Z",
     "iopub.status.busy": "2024-03-18T18:35:20.672921Z",
     "iopub.status.idle": "2024-03-18T18:35:21.520305Z",
     "shell.execute_reply": "2024-03-18T18:35:21.518907Z"
    },
    "papermill": {
     "duration": 0.862797,
     "end_time": "2024-03-18T18:35:21.522627",
     "exception": false,
     "start_time": "2024-03-18T18:35:20.659830",
     "status": "completed"
    },
    "tags": []
   },
   "outputs": [
    {
     "name": "stdout",
     "output_type": "stream",
     "text": [
      "torch.Size([8, 125, 125])\n",
      "(1,)\n"
     ]
    }
   ],
   "source": [
    "import os\n",
    "import torch\n",
    "import pandas as pd\n",
    "from skimage import io, transform\n",
    "import numpy as np\n",
    "import matplotlib.pyplot as plt\n",
    "from torch.utils.data import Dataset, DataLoader\n",
    "from torchvision import transforms, utils\n",
    "\n",
    "class Custom_Dataset(Dataset):\n",
    "    def __init__(self, x, y, transform):\n",
    "        self.x = x\n",
    "        self.y = y\n",
    "        self.transform = transform\n",
    "        \n",
    "    def __len__(self):\n",
    "        return self.x.shape[0]\n",
    "    \n",
    "    def __getitem__(self,idx):\n",
    "        if torch.is_tensor(idx):\n",
    "            idx = idx.tolist()\n",
    "        img_1 = self.x[idx]\n",
    "        label = self.y[idx]\n",
    "        \n",
    "        if self.transform:\n",
    "            img_1 = self.transform(img_1)\n",
    "            \n",
    "        sample = {'img' : img_1, 'label' : label}\n",
    "        \n",
    "        return sample\n",
    "    \n",
    "transform = torchvision.transforms.Compose([torchvision.transforms.ToTensor()])\n",
    "\n",
    "dataset = Custom_Dataset(X, Y, transform = transform)\n",
    "sample = dataset.__getitem__(0)\n",
    "print((sample['img']).shape)\n",
    "print(sample['label'].shape)"
   ]
  },
  {
   "cell_type": "code",
   "execution_count": 15,
   "id": "97f1d480",
   "metadata": {
    "execution": {
     "iopub.execute_input": "2024-03-18T18:35:21.550211Z",
     "iopub.status.busy": "2024-03-18T18:35:21.549287Z",
     "iopub.status.idle": "2024-03-18T18:35:21.554413Z",
     "shell.execute_reply": "2024-03-18T18:35:21.553409Z"
    },
    "papermill": {
     "duration": 0.020428,
     "end_time": "2024-03-18T18:35:21.556549",
     "exception": false,
     "start_time": "2024-03-18T18:35:21.536121",
     "status": "completed"
    },
    "tags": []
   },
   "outputs": [],
   "source": [
    "DEVICE = torch.device('cuda')"
   ]
  },
  {
   "cell_type": "code",
   "execution_count": 16,
   "id": "70d91ca7",
   "metadata": {
    "execution": {
     "iopub.execute_input": "2024-03-18T18:35:21.581078Z",
     "iopub.status.busy": "2024-03-18T18:35:21.580759Z",
     "iopub.status.idle": "2024-03-18T18:35:25.201885Z",
     "shell.execute_reply": "2024-03-18T18:35:25.200856Z"
    },
    "papermill": {
     "duration": 3.636122,
     "end_time": "2024-03-18T18:35:25.204436",
     "exception": false,
     "start_time": "2024-03-18T18:35:21.568314",
     "status": "completed"
    },
    "tags": []
   },
   "outputs": [],
   "source": [
    "import torch\n",
    "import torch.nn as nn\n",
    "import torch.nn.functional as F\n",
    "import pandas as pd\n",
    "import numpy as np\n",
    "import h5py\n",
    "from torch import Tensor\n",
    "from typing import Type\n",
    "import os\n",
    "import torch\n",
    "import pandas as pd\n",
    "from skimage import io, transform\n",
    "import numpy as np\n",
    "import matplotlib.pyplot as plt\n",
    "from torch.utils.data import Dataset, DataLoader\n",
    "from torchvision import transforms, utils\n",
    "import torchvision\n",
    "from torchview import draw_graph\n",
    "from torchviz import make_dot\n",
    "import warnings\n",
    "warnings.filterwarnings(\"ignore\")\n",
    "from torchmetrics import Accuracy\n",
    "import copy\n",
    "import torch.optim as optim\n",
    "import tqdm\n",
    "from tqdm import tqdm\n",
    "from torchmetrics import Accuracy\n",
    "from torch.utils.data import TensorDataset,random_split,SubsetRandomSampler, ConcatDataset\n",
    "from sklearn.model_selection import KFold\n",
    "import matplotlib.pyplot as plt\n",
    "from torchvision.datasets import ImageFolder\n",
    "from PIL import Image\n",
    "\n",
    "\n",
    "def model_train(fold, model, epochs, train_dataloader, test_dataloader):\n",
    "    \n",
    "    # --------------------Loss function and optimizer--------------------\n",
    "    criterion = nn.BCELoss()  # Binary Cross Entropy\n",
    "    optimizer = optim.AdamW(model.parameters(), lr=1.5e-5)\n",
    "    # -------------------------------------------------------------------\n",
    "\n",
    "    best_acc = -np.inf  # Init to negative infinity\n",
    "    best_weights = None\n",
    "    accuracy = Accuracy(task = 'binary').to(DEVICE)\n",
    " \n",
    "    train_losses = []\n",
    "    val_losses = []\n",
    "    train_accuracies = []\n",
    "    val_accuracies = []\n",
    "\n",
    "    for epoch in range(epochs):\n",
    "        train_pred = []\n",
    "        val_pred = []\n",
    "        \n",
    "        # --------------------Training Loop--------------------\n",
    "        model.train()\n",
    "        for batch in tqdm(train_dataloader):\n",
    "            images, labels = batch['img'], batch['label']\n",
    "            images = images.to(DEVICE)\n",
    "            labels = labels.to(DEVICE)\n",
    "\n",
    "            optimizer.zero_grad()\n",
    "            outputs = model(images)\n",
    "            loss = criterion(outputs, labels)\n",
    "            loss.backward()\n",
    "            optimizer.step()\n",
    "\n",
    "            train_pred.append(loss.item())\n",
    "\n",
    "            # Calculate training accuracy\n",
    "            train_acc = accuracy(outputs, labels)\n",
    "            train_accuracies.append(train_acc.item())\n",
    "\n",
    "        train_loss = np.mean(train_pred)\n",
    "        # -------------------------------------------------------\n",
    "        # -------------------------------------------------------\n",
    "        \n",
    "        # --------------------Validation Loop--------------------\n",
    "        model.eval()\n",
    "        with torch.no_grad():\n",
    "            for val_batch in tqdm(test_dataloader):\n",
    "                val_images, val_labels = val_batch['img'], val_batch['label']\n",
    "                val_images = val_images.to(DEVICE)\n",
    "                val_labels = val_labels.to(DEVICE)\n",
    "\n",
    "                val_outputs = model(val_images)\n",
    "                val_loss = criterion(val_outputs, val_labels)\n",
    "                val_pred.append(val_loss.item())\n",
    "\n",
    "                # Calculate validation accuracy\n",
    "                val_acc = accuracy(val_outputs, val_labels)\n",
    "                val_accuracies.append(val_acc.item())\n",
    "\n",
    "        val_loss = np.mean(val_pred)\n",
    "        # -------------------------------------------------------\n",
    "        # -------------------------------------------------------\n",
    "        \n",
    "        # Print and store losses and accuracies\n",
    "        print(f'Epoch {epoch+1}/{epochs}, Train Loss: {train_loss:.4f}, Train Accuracy: {np.mean(train_accuracies):.4f}, Valid Loss: {val_loss:.4f}, Valid Accuracy: {np.mean(val_accuracies):.4f}')\n",
    "        train_losses.append(train_loss)\n",
    "        val_losses.append(val_loss)\n",
    "\n",
    "        # Save best model\n",
    "        if max(train_accuracies) > best_acc:\n",
    "            best_acc = max(train_accuracies)\n",
    "            best_weights = copy.deepcopy(model.state_dict())\n",
    "    \n",
    "    # Save the best model\n",
    "    torch.save(best_weights, f'./best_model_{fold}.pth')\n",
    "\n",
    "    # Plot training and validation losses\n",
    "    return train_losses, val_losses, train_accuracies, val_accuracies\n"
   ]
  },
  {
   "cell_type": "code",
   "execution_count": 17,
   "id": "6890976c",
   "metadata": {
    "execution": {
     "iopub.execute_input": "2024-03-18T18:35:25.230534Z",
     "iopub.status.busy": "2024-03-18T18:35:25.229936Z",
     "iopub.status.idle": "2024-03-18T18:35:25.463165Z",
     "shell.execute_reply": "2024-03-18T18:35:25.461987Z"
    },
    "papermill": {
     "duration": 0.249464,
     "end_time": "2024-03-18T18:35:25.466189",
     "exception": false,
     "start_time": "2024-03-18T18:35:25.216725",
     "status": "completed"
    },
    "tags": []
   },
   "outputs": [],
   "source": [
    "del classifier\n",
    "gc.collect()\n",
    "torch.cuda.empty_cache()"
   ]
  },
  {
   "cell_type": "code",
   "execution_count": 18,
   "id": "7a1e8f3f",
   "metadata": {
    "execution": {
     "iopub.execute_input": "2024-03-18T18:35:25.500005Z",
     "iopub.status.busy": "2024-03-18T18:35:25.499247Z",
     "iopub.status.idle": "2024-03-18T18:35:25.504439Z",
     "shell.execute_reply": "2024-03-18T18:35:25.503198Z"
    },
    "papermill": {
     "duration": 0.027003,
     "end_time": "2024-03-18T18:35:25.506824",
     "exception": false,
     "start_time": "2024-03-18T18:35:25.479821",
     "status": "completed"
    },
    "tags": []
   },
   "outputs": [],
   "source": [
    "# model = mae_vit_base_patch16_dec512d8b(img_size=125)"
   ]
  },
  {
   "cell_type": "code",
   "execution_count": 19,
   "id": "a913e982",
   "metadata": {
    "execution": {
     "iopub.execute_input": "2024-03-18T18:35:25.535435Z",
     "iopub.status.busy": "2024-03-18T18:35:25.535106Z",
     "iopub.status.idle": "2024-03-18T20:04:53.227627Z",
     "shell.execute_reply": "2024-03-18T20:04:53.226321Z"
    },
    "papermill": {
     "duration": 5367.710241,
     "end_time": "2024-03-18T20:04:53.230356",
     "exception": false,
     "start_time": "2024-03-18T18:35:25.520115",
     "status": "completed"
    },
    "tags": []
   },
   "outputs": [
    {
     "name": "stderr",
     "output_type": "stream",
     "text": [
      "100%|██████████| 125/125 [05:29<00:00,  2.64s/it]\n",
      "100%|██████████| 32/32 [00:26<00:00,  1.21it/s]\n"
     ]
    },
    {
     "name": "stdout",
     "output_type": "stream",
     "text": [
      "Epoch 1/15, Train Loss: 0.6930, Train Accuracy: 0.5084, Valid Loss: 0.6919, Valid Accuracy: 0.5312\n"
     ]
    },
    {
     "name": "stderr",
     "output_type": "stream",
     "text": [
      "100%|██████████| 125/125 [05:32<00:00,  2.66s/it]\n",
      "100%|██████████| 32/32 [00:26<00:00,  1.21it/s]\n"
     ]
    },
    {
     "name": "stdout",
     "output_type": "stream",
     "text": [
      "Epoch 2/15, Train Loss: 0.6930, Train Accuracy: 0.5084, Valid Loss: 0.6919, Valid Accuracy: 0.5312\n"
     ]
    },
    {
     "name": "stderr",
     "output_type": "stream",
     "text": [
      "100%|██████████| 125/125 [05:30<00:00,  2.65s/it]\n",
      "100%|██████████| 32/32 [00:26<00:00,  1.22it/s]\n"
     ]
    },
    {
     "name": "stdout",
     "output_type": "stream",
     "text": [
      "Epoch 3/15, Train Loss: 0.6915, Train Accuracy: 0.5091, Valid Loss: 0.6856, Valid Accuracy: 0.5677\n"
     ]
    },
    {
     "name": "stderr",
     "output_type": "stream",
     "text": [
      "100%|██████████| 125/125 [05:30<00:00,  2.64s/it]\n",
      "100%|██████████| 32/32 [00:26<00:00,  1.21it/s]\n"
     ]
    },
    {
     "name": "stdout",
     "output_type": "stream",
     "text": [
      "Epoch 4/15, Train Loss: 0.6824, Train Accuracy: 0.5384, Valid Loss: 0.6722, Valid Accuracy: 0.5887\n"
     ]
    },
    {
     "name": "stderr",
     "output_type": "stream",
     "text": [
      "100%|██████████| 125/125 [05:31<00:00,  2.65s/it]\n",
      "100%|██████████| 32/32 [00:26<00:00,  1.21it/s]\n"
     ]
    },
    {
     "name": "stdout",
     "output_type": "stream",
     "text": [
      "Epoch 5/15, Train Loss: 0.6652, Train Accuracy: 0.5600, Valid Loss: 0.6498, Valid Accuracy: 0.6047\n"
     ]
    },
    {
     "name": "stderr",
     "output_type": "stream",
     "text": [
      "100%|██████████| 125/125 [05:32<00:00,  2.66s/it]\n",
      "100%|██████████| 32/32 [00:26<00:00,  1.21it/s]\n"
     ]
    },
    {
     "name": "stdout",
     "output_type": "stream",
     "text": [
      "Epoch 6/15, Train Loss: 0.6335, Train Accuracy: 0.5812, Valid Loss: 0.6285, Valid Accuracy: 0.6176\n"
     ]
    },
    {
     "name": "stderr",
     "output_type": "stream",
     "text": [
      "100%|██████████| 125/125 [05:31<00:00,  2.65s/it]\n",
      "100%|██████████| 32/32 [00:26<00:00,  1.21it/s]\n"
     ]
    },
    {
     "name": "stdout",
     "output_type": "stream",
     "text": [
      "Epoch 7/15, Train Loss: 0.6173, Train Accuracy: 0.5973, Valid Loss: 0.6082, Valid Accuracy: 0.6295\n"
     ]
    },
    {
     "name": "stderr",
     "output_type": "stream",
     "text": [
      "100%|██████████| 125/125 [05:31<00:00,  2.65s/it]\n",
      "100%|██████████| 32/32 [00:26<00:00,  1.21it/s]\n"
     ]
    },
    {
     "name": "stdout",
     "output_type": "stream",
     "text": [
      "Epoch 8/15, Train Loss: 0.6127, Train Accuracy: 0.6088, Valid Loss: 0.5938, Valid Accuracy: 0.6400\n"
     ]
    },
    {
     "name": "stderr",
     "output_type": "stream",
     "text": [
      "100%|██████████| 125/125 [05:31<00:00,  2.66s/it]\n",
      "100%|██████████| 32/32 [00:26<00:00,  1.21it/s]\n"
     ]
    },
    {
     "name": "stdout",
     "output_type": "stream",
     "text": [
      "Epoch 9/15, Train Loss: 0.5774, Train Accuracy: 0.6220, Valid Loss: 0.5486, Valid Accuracy: 0.6522\n"
     ]
    },
    {
     "name": "stderr",
     "output_type": "stream",
     "text": [
      "100%|██████████| 125/125 [05:31<00:00,  2.66s/it]\n",
      "100%|██████████| 32/32 [00:26<00:00,  1.20it/s]\n"
     ]
    },
    {
     "name": "stdout",
     "output_type": "stream",
     "text": [
      "Epoch 10/15, Train Loss: 0.5352, Train Accuracy: 0.6362, Valid Loss: 0.5218, Valid Accuracy: 0.6635\n"
     ]
    },
    {
     "name": "stderr",
     "output_type": "stream",
     "text": [
      "100%|██████████| 125/125 [05:31<00:00,  2.66s/it]\n",
      "100%|██████████| 32/32 [00:26<00:00,  1.20it/s]\n"
     ]
    },
    {
     "name": "stdout",
     "output_type": "stream",
     "text": [
      "Epoch 11/15, Train Loss: 0.5161, Train Accuracy: 0.6479, Valid Loss: 0.5728, Valid Accuracy: 0.6695\n"
     ]
    },
    {
     "name": "stderr",
     "output_type": "stream",
     "text": [
      "100%|██████████| 125/125 [05:30<00:00,  2.65s/it]\n",
      "100%|██████████| 32/32 [00:26<00:00,  1.21it/s]\n"
     ]
    },
    {
     "name": "stdout",
     "output_type": "stream",
     "text": [
      "Epoch 12/15, Train Loss: 0.5093, Train Accuracy: 0.6580, Valid Loss: 0.4864, Valid Accuracy: 0.6794\n"
     ]
    },
    {
     "name": "stderr",
     "output_type": "stream",
     "text": [
      "100%|██████████| 125/125 [05:30<00:00,  2.65s/it]\n",
      "100%|██████████| 32/32 [00:26<00:00,  1.21it/s]\n"
     ]
    },
    {
     "name": "stdout",
     "output_type": "stream",
     "text": [
      "Epoch 13/15, Train Loss: 0.4954, Train Accuracy: 0.6672, Valid Loss: 0.4882, Valid Accuracy: 0.6867\n"
     ]
    },
    {
     "name": "stderr",
     "output_type": "stream",
     "text": [
      "100%|██████████| 125/125 [05:31<00:00,  2.65s/it]\n",
      "100%|██████████| 32/32 [00:26<00:00,  1.21it/s]\n"
     ]
    },
    {
     "name": "stdout",
     "output_type": "stream",
     "text": [
      "Epoch 14/15, Train Loss: 0.4767, Train Accuracy: 0.6758, Valid Loss: 0.5227, Valid Accuracy: 0.6919\n"
     ]
    },
    {
     "name": "stderr",
     "output_type": "stream",
     "text": [
      "100%|██████████| 125/125 [05:31<00:00,  2.66s/it]\n",
      "100%|██████████| 32/32 [00:26<00:00,  1.21it/s]\n"
     ]
    },
    {
     "name": "stdout",
     "output_type": "stream",
     "text": [
      "Epoch 15/15, Train Loss: 0.5238, Train Accuracy: 0.6813, Valid Loss: 0.5265, Valid Accuracy: 0.6951\n"
     ]
    }
   ],
   "source": [
    "train_size = int(0.8 * len(dataset))\n",
    "val_size = len(dataset) - train_size\n",
    "train_dataset, val_dataset = torch.utils.data.random_split(dataset, [train_size, val_size])\n",
    "training_loss = []\n",
    "validation_loss = []\n",
    "# Create data loaders\n",
    "train_dataloader = DataLoader(train_dataset, batch_size=64, shuffle=True)\n",
    "val_dataloader = DataLoader(val_dataset, batch_size=64, shuffle=False)\n",
    "classifier = VIT_classifier(model.encoder, 2)\n",
    "NUM_GPU = torch.cuda.device_count()\n",
    "if NUM_GPU > 1:\n",
    "    classifier = nn.DataParallel(classifier)\n",
    "classifier = classifier.to(DEVICE)\n",
    "\n",
    "train_losses, val_losses, train_accuracies, val_accuracies = model_train(1,classifier, 15, train_dataloader, val_dataloader)"
   ]
  },
  {
   "cell_type": "code",
   "execution_count": 20,
   "id": "b4b78041",
   "metadata": {
    "execution": {
     "iopub.execute_input": "2024-03-18T20:04:53.670340Z",
     "iopub.status.busy": "2024-03-18T20:04:53.669959Z",
     "iopub.status.idle": "2024-03-18T20:04:53.674862Z",
     "shell.execute_reply": "2024-03-18T20:04:53.673628Z"
    },
    "papermill": {
     "duration": 0.224912,
     "end_time": "2024-03-18T20:04:53.677203",
     "exception": false,
     "start_time": "2024-03-18T20:04:53.452291",
     "status": "completed"
    },
    "tags": []
   },
   "outputs": [],
   "source": [
    "# torch.save(model, f'./best_model.pth')"
   ]
  },
  {
   "cell_type": "code",
   "execution_count": 21,
   "id": "492b8998",
   "metadata": {
    "execution": {
     "iopub.execute_input": "2024-03-18T20:04:54.109047Z",
     "iopub.status.busy": "2024-03-18T20:04:54.108177Z",
     "iopub.status.idle": "2024-03-18T20:04:54.112707Z",
     "shell.execute_reply": "2024-03-18T20:04:54.111861Z"
    },
    "papermill": {
     "duration": 0.224331,
     "end_time": "2024-03-18T20:04:54.114655",
     "exception": false,
     "start_time": "2024-03-18T20:04:53.890324",
     "status": "completed"
    },
    "tags": []
   },
   "outputs": [],
   "source": [
    "encoder = classifier.module.encoder"
   ]
  },
  {
   "cell_type": "code",
   "execution_count": 22,
   "id": "1bc6a68c",
   "metadata": {
    "execution": {
     "iopub.execute_input": "2024-03-18T20:04:54.555254Z",
     "iopub.status.busy": "2024-03-18T20:04:54.554856Z",
     "iopub.status.idle": "2024-03-18T20:04:54.898892Z",
     "shell.execute_reply": "2024-03-18T20:04:54.898034Z"
    },
    "papermill": {
     "duration": 0.569385,
     "end_time": "2024-03-18T20:04:54.901326",
     "exception": false,
     "start_time": "2024-03-18T20:04:54.331941",
     "status": "completed"
    },
    "tags": []
   },
   "outputs": [],
   "source": [
    "torch.save(encoder, 'encoder.pth')"
   ]
  },
  {
   "cell_type": "code",
   "execution_count": 23,
   "id": "0d110155",
   "metadata": {
    "execution": {
     "iopub.execute_input": "2024-03-18T20:04:55.379217Z",
     "iopub.status.busy": "2024-03-18T20:04:55.378536Z",
     "iopub.status.idle": "2024-03-18T20:04:55.747051Z",
     "shell.execute_reply": "2024-03-18T20:04:55.746141Z"
    },
    "papermill": {
     "duration": 0.609555,
     "end_time": "2024-03-18T20:04:55.749692",
     "exception": false,
     "start_time": "2024-03-18T20:04:55.140137",
     "status": "completed"
    },
    "tags": []
   },
   "outputs": [],
   "source": [
    "torch.save(classifier.module, 'model.pth')"
   ]
  },
  {
   "cell_type": "code",
   "execution_count": 24,
   "id": "c4302097",
   "metadata": {
    "execution": {
     "iopub.execute_input": "2024-03-18T20:04:56.204610Z",
     "iopub.status.busy": "2024-03-18T20:04:56.203932Z",
     "iopub.status.idle": "2024-03-18T20:04:56.530763Z",
     "shell.execute_reply": "2024-03-18T20:04:56.529815Z"
    },
    "papermill": {
     "duration": 0.562162,
     "end_time": "2024-03-18T20:04:56.532964",
     "exception": false,
     "start_time": "2024-03-18T20:04:55.970802",
     "status": "completed"
    },
    "tags": []
   },
   "outputs": [
    {
     "data": {
      "image/png": "[encoded data removed]",
      "text/plain": [
       "<Figure size 640x480 with 1 Axes>"
      ]
     },
     "metadata": {},
     "output_type": "display_data"
    }
   ],
   "source": [
    "plt.plot(train_losses, label='Training Loss')\n",
    "plt.plot(val_losses, label='Validation Loss')\n",
    "plt.xlabel('Epochs')\n",
    "plt.ylabel('Loss')\n",
    "plt.legend()\n",
    "plt.show()"
   ]
  },
  {
   "cell_type": "code",
   "execution_count": 25,
   "id": "0f74ef6b",
   "metadata": {
    "execution": {
     "iopub.execute_input": "2024-03-18T20:04:56.981084Z",
     "iopub.status.busy": "2024-03-18T20:04:56.980688Z",
     "iopub.status.idle": "2024-03-18T20:04:56.993095Z",
     "shell.execute_reply": "2024-03-18T20:04:56.992102Z"
    },
    "papermill": {
     "duration": 0.236485,
     "end_time": "2024-03-18T20:04:56.994981",
     "exception": false,
     "start_time": "2024-03-18T20:04:56.758496",
     "status": "completed"
    },
    "tags": []
   },
   "outputs": [],
   "source": [
    "# class MaskedAutoencoderViT(nn.Module):\n",
    "#     \"\"\" Masked Autoencoder with VisionTransformer backbone\n",
    "#     \"\"\"\n",
    "#     def __init__(self, img_size=224, patch_size=16, in_chans=8,\n",
    "#                  embed_dim=1024, depth=24, num_heads=16,\n",
    "#                  decoder_embed_dim=512, decoder_depth=8, decoder_num_heads=16,\n",
    "#                  mlp_ratio=4., norm_layer=nn.LayerNorm, norm_pix_loss=False):\n",
    "#         super().__init__()\n",
    "\n",
    "#         # --------------------------------------------------------------------------\n",
    "#         # MAE encoder specifics\n",
    "#         self.patch_embed = PatchEmbed(img_size, patch_size, in_chans, embed_dim)\n",
    "#         num_patches = self.patch_embed.num_patches\n",
    "\n",
    "#         self.cls_token = nn.Parameter(torch.zeros(1, 1, embed_dim))\n",
    "#         self.pos_embed = nn.Parameter(torch.zeros(1, num_patches + 1, embed_dim), requires_grad=False)  # fixed sin-cos embedding\n",
    "\n",
    "#         self.blocks = nn.ModuleList([\n",
    "#             Block(embed_dim, num_heads, mlp_ratio, qkv_bias=True, norm_layer=norm_layer)\n",
    "#             for i in range(depth)])\n",
    "#         self.norm = norm_layer(embed_dim)\n",
    "#         # --------------------------------------------------------------------------\n",
    "\n",
    "#         # --------------------------------------------------------------------------\n",
    "#         # MAE decoder specifics\n",
    "#         self.decoder_embed = nn.Linear(embed_dim, decoder_embed_dim, bias=True)\n",
    "\n",
    "#         self.mask_token = nn.Parameter(torch.zeros(1, 1, decoder_embed_dim))\n",
    "\n",
    "#         self.decoder_pos_embed = nn.Parameter(torch.zeros(1, num_patches + 1, decoder_embed_dim), requires_grad=False)  # fixed sin-cos embedding\n",
    "\n",
    "#         self.decoder_blocks = nn.ModuleList([\n",
    "#             Block(decoder_embed_dim, decoder_num_heads, mlp_ratio, qkv_bias=True, norm_layer=norm_layer)\n",
    "#             for i in range(decoder_depth)])\n",
    "\n",
    "#         self.decoder_norm = norm_layer(decoder_embed_dim)\n",
    "#         self.decoder_pred = nn.Linear(decoder_embed_dim, patch_size**2 * in_chans, bias=True) # decoder to patch\n",
    "#         # --------------------------------------------------------------------------\n",
    "\n",
    "#         self.norm_pix_loss = norm_pix_loss\n",
    "\n",
    "#         self.initialize_weights()\n",
    "\n",
    "#     def initialize_weights(self):\n",
    "#         # initialization\n",
    "#         # initialize (and freeze) pos_embed by sin-cos embedding\n",
    "#         pos_embed = get_2d_sincos_pos_embed(self.pos_embed.shape[-1], int(self.patch_embed.num_patches**.5), cls_token=True)\n",
    "#         self.pos_embed.data.copy_(torch.from_numpy(pos_embed).float().unsqueeze(0))\n",
    "\n",
    "#         decoder_pos_embed = get_2d_sincos_pos_embed(self.decoder_pos_embed.shape[-1], int(self.patch_embed.num_patches**.5), cls_token=True)\n",
    "#         self.decoder_pos_embed.data.copy_(torch.from_numpy(decoder_pos_embed).float().unsqueeze(0))\n",
    "\n",
    "#         # initialize patch_embed like nn.Linear (instead of nn.Conv2d)\n",
    "#         w = self.patch_embed.proj.weight.data\n",
    "#         torch.nn.init.xavier_uniform_(w.view([w.shape[0], -1]))\n",
    "\n",
    "#         # timm's trunc_normal_(std=.02) is effectively normal_(std=0.02) as cutoff is too big (2.)\n",
    "#         torch.nn.init.normal_(self.cls_token, std=.02)\n",
    "#         torch.nn.init.normal_(self.mask_token, std=.02)\n",
    "\n",
    "#         # initialize nn.Linear and nn.LayerNorm\n",
    "#         self.apply(self._init_weights)\n",
    "\n",
    "#     def _init_weights(self, m):\n",
    "#         if isinstance(m, nn.Linear):\n",
    "#             # we use xavier_uniform following official JAX ViT:\n",
    "#             torch.nn.init.xavier_uniform_(m.weight)\n",
    "#             if isinstance(m, nn.Linear) and m.bias is not None:\n",
    "#                 nn.init.constant_(m.bias, 0)\n",
    "#         elif isinstance(m, nn.LayerNorm):\n",
    "#             nn.init.constant_(m.bias, 0)\n",
    "#             nn.init.constant_(m.weight, 1.0)\n",
    "\n",
    "#     def patchify(self, imgs):\n",
    "#         \"\"\"\n",
    "#         imgs: (N, 8, H, W)\n",
    "#         x: (N, L, patch_size**2 *3)\n",
    "#         \"\"\"\n",
    "#         p = self.patch_embed.patch_size[0]\n",
    "#         assert imgs.shape[2] == imgs.shape[3] and imgs.shape[2] % p == 0\n",
    "\n",
    "#         h = w = imgs.shape[2] // p\n",
    "#         x = imgs.reshape(shape=(imgs.shape[0], 8, h, p, w, p))\n",
    "#         x = torch.einsum('nchpwq->nhwpqc', x)\n",
    "#         x = x.reshape(shape=(imgs.shape[0], h * w, p**2 * 8))\n",
    "#         return x\n",
    "\n",
    "#     def unpatchify(self, x):\n",
    "#         \"\"\"\n",
    "#         x: (N, L, patch_size**2 *3)\n",
    "#         imgs: (N, 8, H, W)\n",
    "#         \"\"\"\n",
    "#         p = self.patch_embed.patch_size[0]\n",
    "#         h = w = int(x.shape[1]**.5)\n",
    "#         assert h * w == x.shape[1]\n",
    "        \n",
    "#         x = x.reshape(shape=(x.shape[0], h, w, p, p, 8))\n",
    "#         x = torch.einsum('nhwpqc->nchpwq', x)\n",
    "#         imgs = x.reshape(shape=(x.shape[0], 8, h * p, h * p))\n",
    "#         return imgs\n",
    "\n",
    "#     def random_masking(self, x, mask_ratio):\n",
    "#         \"\"\"\n",
    "#         Perform per-sample random masking by per-sample shuffling.\n",
    "#         Per-sample shuffling is done by argsort random noise.\n",
    "#         x: [N, L, D], sequence\n",
    "#         \"\"\"\n",
    "#         N, L, D = x.shape  # batch, length, dim\n",
    "#         len_keep = int(L * (1 - mask_ratio))\n",
    "        \n",
    "#         noise = torch.rand(N, L, device=x.device)  # noise in [0, 1]\n",
    "        \n",
    "#         # sort noise for each sample\n",
    "#         ids_shuffle = torch.argsort(noise, dim=1)  # ascend: small is keep, large is remove\n",
    "#         ids_restore = torch.argsort(ids_shuffle, dim=1)\n",
    "\n",
    "#         # keep the first subset\n",
    "#         ids_keep = ids_shuffle[:, :len_keep]\n",
    "#         x_masked = torch.gather(x, dim=1, index=ids_keep.unsqueeze(-1).repeat(1, 1, D))\n",
    "\n",
    "#         # generate the binary mask: 0 is keep, 1 is remove\n",
    "#         mask = torch.ones([N, L], device=x.device)\n",
    "#         mask[:, :len_keep] = 0\n",
    "#         # unshuffle to get the binary mask\n",
    "#         mask = torch.gather(mask, dim=1, index=ids_restore)\n",
    "\n",
    "#         return x_masked, mask, ids_restore\n",
    "\n",
    "#     def forward_encoder(self, x, mask_ratio):\n",
    "#         # embed patches\n",
    "#         x = self.patch_embed(x)\n",
    "\n",
    "#         # add pos embed w/o cls token\n",
    "#         x = x + self.pos_embed[:, 1:, :]\n",
    "\n",
    "#         # masking: length -> length * mask_ratio\n",
    "#         x, mask, ids_restore = self.random_masking(x, mask_ratio)\n",
    "\n",
    "#         # append cls token\n",
    "#         cls_token = self.cls_token + self.pos_embed[:, :1, :]\n",
    "#         cls_tokens = cls_token.expand(x.shape[0], -1, -1)\n",
    "#         x = torch.cat((cls_tokens, x), dim=1)\n",
    "\n",
    "#         # apply Transformer blocks\n",
    "#         for blk in self.blocks:\n",
    "#             x = blk(x)\n",
    "#         x = self.norm(x)\n",
    "\n",
    "#         return x, mask, ids_restore\n",
    "\n",
    "#     def forward_decoder(self, x, ids_restore):\n",
    "#         # embed tokens\n",
    "#         x = self.decoder_embed(x)\n",
    "\n",
    "#         # append mask tokens to sequence\n",
    "#         mask_tokens = self.mask_token.repeat(x.shape[0], ids_restore.shape[1] + 1 - x.shape[1], 1)\n",
    "#         x_ = torch.cat([x[:, 1:, :], mask_tokens], dim=1)  # no cls token\n",
    "#         x_ = torch.gather(x_, dim=1, index=ids_restore.unsqueeze(-1).repeat(1, 1, x.shape[2]))  # unshuffle\n",
    "#         x = torch.cat([x[:, :1, :], x_], dim=1)  # append cls token\n",
    "\n",
    "#         # add pos embed\n",
    "#         x = x + self.decoder_pos_embed\n",
    "\n",
    "#         # apply Transformer blocks\n",
    "#         for blk in self.decoder_blocks:\n",
    "#             x = blk(x)\n",
    "#         x = self.decoder_norm(x)\n",
    "\n",
    "#         # predictor projection\n",
    "#         x = self.decoder_pred(x)\n",
    "\n",
    "#         # remove cls token\n",
    "#         x = x[:, 1:, :]\n",
    "\n",
    "#         return x\n",
    "\n",
    "#     def forward(self, imgs, mask_ratio=0.75):\n",
    "#         latent, mask, ids_restore = self.forward_encoder(imgs, mask_ratio)\n",
    "#         pred = self.forward_decoder(latent, ids_restore)  # [N, L, p*p*3]\n",
    "# #         loss = self.forward_loss(imgs, pred, mask)\n",
    "#         imgs = self.patchify(imgs)\n",
    "#         return imgs, pred, mask\n",
    "\n",
    "\n",
    "# # def mae_vit_base_patch16_dec512d8b(**kwargs):\n",
    "# #     model = MaskedAutoencoderViT(\n",
    "# #         img_size=125,patch_size=5, embed_dim=768, depth=12, num_heads=12,\n",
    "# #         decoder_embed_dim=512, decoder_depth=8, decoder_num_heads=16,\n",
    "# #         mlp_ratio=4, norm_layer=partial(nn.LayerNorm, eps=1e-6), **kwargs)\n",
    "# #     return model\n",
    "\n",
    "\n",
    "# # # set recommended archs\n",
    "# # model = mae_vit_base_patch16_dec512d8b (img_size = 125) # decoder: 512 dim, 8 blocks\n",
    "# def mae_vit_base_patch16_dec512d8b(img_size=125, **kwargs):\n",
    "#     model = MaskedAutoencoderViT(\n",
    "#         img_size=img_size, patch_size=5, embed_dim=768, depth=8, num_heads=12,\n",
    "#         decoder_embed_dim=512, decoder_depth=4, decoder_num_heads=16,\n",
    "#         mlp_ratio=4, norm_layer=partial(nn.LayerNorm, eps=1e-6), **kwargs)\n",
    "#     return model\n",
    "\n",
    "# # Instantiate the model\n",
    "# model = mae_vit_base_patch16_dec512d8b(img_size=125)\n"
   ]
  }
 ],
 "metadata": {
  "kaggle": {
   "accelerator": "nvidiaTeslaT4",
   "dataSources": [
    {
     "datasetId": 4495984,
     "sourceId": 7701936,
     "sourceType": "datasetVersion"
    },
    {
     "datasetId": 4605304,
     "sourceId": 7852519,
     "sourceType": "datasetVersion"
    }
   ],
   "dockerImageVersionId": 30665,
   "isGpuEnabled": true,
   "isInternetEnabled": true,
   "language": "python",
   "sourceType": "notebook"
  },
  "kernelspec": {
   "display_name": "Python 3",
   "language": "python",
   "name": "python3"
  },
  "language_info": {
   "codemirror_mode": {
    "name": "ipython",
    "version": 3
   },
   "file_extension": ".py",
   "mimetype": "text/x-python",
   "name": "python",
   "nbconvert_exporter": "python",
   "pygments_lexer": "ipython3",
   "version": "3.10.13"
  },
  "papermill": {
   "default_parameters": {},
   "duration": 5501.229971,
   "end_time": "2024-03-18T20:05:00.566166",
   "environment_variables": {},
   "exception": null,
   "input_path": "__notebook__.ipynb",
   "output_path": "__notebook__.ipynb",
   "parameters": {},
   "start_time": "2024-03-18T18:33:19.336195",
   "version": "2.5.0"
  }
 },
 "nbformat": 4,
 "nbformat_minor": 5
}
