{
 "cells": [
  {
   "cell_type": "code",
   "execution_count": 1,
   "id": "e26291df",
   "metadata": {
    "_cell_guid": "b1076dfc-b9ad-4769-8c92-a6c4dae69d19",
    "_uuid": "8f2839f25d086af736a60e9eeb907d3b93b6e0e5",
    "execution": {
     "iopub.execute_input": "2024-03-17T06:25:38.349950Z",
     "iopub.status.busy": "2024-03-17T06:25:38.349664Z",
     "iopub.status.idle": "2024-03-17T06:26:06.210956Z",
     "shell.execute_reply": "2024-03-17T06:26:06.209811Z"
    },
    "papermill": {
     "duration": 27.871178,
     "end_time": "2024-03-17T06:26:06.213374",
     "exception": false,
     "start_time": "2024-03-17T06:25:38.342196",
     "status": "completed"
    },
    "tags": []
   },
   "outputs": [
    {
     "name": "stdout",
     "output_type": "stream",
     "text": [
      "Collecting torchview\r\n",
      "  Downloading torchview-0.2.6-py3-none-any.whl.metadata (12 kB)\r\n",
      "Downloading torchview-0.2.6-py3-none-any.whl (25 kB)\r\n",
      "Installing collected packages: torchview\r\n",
      "Successfully installed torchview-0.2.6\r\n",
      "Collecting torchviz\r\n",
      "  Downloading torchviz-0.0.2.tar.gz (4.9 kB)\r\n",
      "  Preparing metadata (setup.py) ... \u001b[?25l-\b \bdone\r\n",
      "\u001b[?25hRequirement already satisfied: torch in /opt/conda/lib/python3.10/site-packages (from torchviz) (2.1.2)\r\n",
      "Requirement already satisfied: graphviz in /opt/conda/lib/python3.10/site-packages (from torchviz) (0.20.1)\r\n",
      "Requirement already satisfied: filelock in /opt/conda/lib/python3.10/site-packages (from torch->torchviz) (3.13.1)\r\n",
      "Requirement already satisfied: typing-extensions in /opt/conda/lib/python3.10/site-packages (from torch->torchviz) (4.9.0)\r\n",
      "Requirement already satisfied: sympy in /opt/conda/lib/python3.10/site-packages (from torch->torchviz) (1.12)\r\n",
      "Requirement already satisfied: networkx in /opt/conda/lib/python3.10/site-packages (from torch->torchviz) (3.2.1)\r\n",
      "Requirement already satisfied: jinja2 in /opt/conda/lib/python3.10/site-packages (from torch->torchviz) (3.1.2)\r\n",
      "Requirement already satisfied: fsspec in /opt/conda/lib/python3.10/site-packages (from torch->torchviz) (2023.12.2)\r\n",
      "Requirement already satisfied: MarkupSafe>=2.0 in /opt/conda/lib/python3.10/site-packages (from jinja2->torch->torchviz) (2.1.3)\r\n",
      "Requirement already satisfied: mpmath>=0.19 in /opt/conda/lib/python3.10/site-packages (from sympy->torch->torchviz) (1.3.0)\r\n",
      "Building wheels for collected packages: torchviz\r\n",
      "  Building wheel for torchviz (setup.py) ... \u001b[?25l-\b \b\\\b \bdone\r\n",
      "\u001b[?25h  Created wheel for torchviz: filename=torchviz-0.0.2-py3-none-any.whl size=4131 sha256=82d3614ec451825e61da84043f704fc436a083da8424223ca79c111d6b861eef\r\n",
      "  Stored in directory: /root/.cache/pip/wheels/4c/97/88/a02973217949e0db0c9f4346d154085f4725f99c4f15a87094\r\n",
      "Successfully built torchviz\r\n",
      "Installing collected packages: torchviz\r\n",
      "Successfully installed torchviz-0.0.2\r\n"
     ]
    }
   ],
   "source": [
    "!pip install torchview\n",
    "!pip install torchviz"
   ]
  },
  {
   "cell_type": "code",
   "execution_count": 2,
   "id": "a6d6ecfe",
   "metadata": {
    "execution": {
     "iopub.execute_input": "2024-03-17T06:26:06.230367Z",
     "iopub.status.busy": "2024-03-17T06:26:06.229613Z",
     "iopub.status.idle": "2024-03-17T06:26:16.596798Z",
     "shell.execute_reply": "2024-03-17T06:26:16.595804Z"
    },
    "papermill": {
     "duration": 10.37871,
     "end_time": "2024-03-17T06:26:16.599838",
     "exception": false,
     "start_time": "2024-03-17T06:26:06.221128",
     "status": "completed"
    },
    "tags": []
   },
   "outputs": [],
   "source": [
    "import torch\n",
    "import torch.nn as nn\n",
    "import torch.nn.functional as F\n",
    "import pandas as pd\n",
    "import numpy as np\n",
    "import h5py\n",
    "from torch import Tensor\n",
    "from typing import Type\n",
    "import os\n",
    "import torch\n",
    "import pandas as pd\n",
    "from skimage import io, transform\n",
    "import numpy as np\n",
    "import matplotlib.pyplot as plt\n",
    "from torch.utils.data import Dataset, DataLoader\n",
    "from torchvision import transforms, utils\n",
    "import torchvision\n",
    "from torchview import draw_graph\n",
    "from torchviz import make_dot\n",
    "import warnings\n",
    "warnings.filterwarnings(\"ignore\")\n",
    "from torchmetrics import Accuracy\n",
    "import copy\n",
    "import torch.optim as optim\n",
    "import tqdm\n",
    "from tqdm import tqdm\n",
    "from torchmetrics import Accuracy\n",
    "from torch.utils.data import TensorDataset,random_split,SubsetRandomSampler, ConcatDataset\n",
    "from sklearn.model_selection import KFold\n",
    "import matplotlib.pyplot as plt"
   ]
  },
  {
   "cell_type": "code",
   "execution_count": 3,
   "id": "1daeaa09",
   "metadata": {
    "execution": {
     "iopub.execute_input": "2024-03-17T06:26:16.621824Z",
     "iopub.status.busy": "2024-03-17T06:26:16.620754Z",
     "iopub.status.idle": "2024-03-17T06:26:31.646519Z",
     "shell.execute_reply": "2024-03-17T06:26:31.645626Z"
    },
    "papermill": {
     "duration": 15.03757,
     "end_time": "2024-03-17T06:26:31.648523",
     "exception": false,
     "start_time": "2024-03-17T06:26:16.610953",
     "status": "completed"
    },
    "tags": []
   },
   "outputs": [
    {
     "data": {
      "text/plain": [
       "0.0"
      ]
     },
     "execution_count": 3,
     "metadata": {},
     "output_type": "execute_result"
    }
   ],
   "source": [
    "# -------------------------------------------------------\n",
    "#                   Electron Images\n",
    "# -------------------------------------------------------\n",
    "filename = \"/kaggle/input/gsoc-common-task-1-classification/Common Task - 1/SingleElectronPt50_IMGCROPS_n249k_RHv1.hdf5\"\n",
    "hf = h5py.File(filename, 'r')\n",
    "X_Electron = np.array(hf[\"X\"][:])\n",
    "Y_Electron = np.array(hf[\"y\"][:])\n",
    "Y_Electron[0]\n",
    "\n",
    "# -------------------------------------------------------\n",
    "#                   Photon Images\n",
    "# -------------------------------------------------------\n",
    "filename1 = '/kaggle/input/gsoc-common-task-1-classification/Common Task - 1/SinglePhotonPt50_IMGCROPS_n249k_RHv1.hdf5'\n",
    "h = h5py.File(filename1, 'r')\n",
    "X_Photon = np.array(h[\"X\"][:])\n",
    "Y_Photon = np.array(h[\"y\"][:])\n",
    "Y_Photon[0]"
   ]
  },
  {
   "cell_type": "code",
   "execution_count": 4,
   "id": "6a5c62ea",
   "metadata": {
    "execution": {
     "iopub.execute_input": "2024-03-17T06:26:31.665282Z",
     "iopub.status.busy": "2024-03-17T06:26:31.665006Z",
     "iopub.status.idle": "2024-03-17T06:26:31.892679Z",
     "shell.execute_reply": "2024-03-17T06:26:31.891789Z"
    },
    "papermill": {
     "duration": 0.238361,
     "end_time": "2024-03-17T06:26:31.894818",
     "exception": false,
     "start_time": "2024-03-17T06:26:31.656457",
     "status": "completed"
    },
    "tags": []
   },
   "outputs": [
    {
     "data": {
      "text/plain": [
       "<matplotlib.image.AxesImage at 0x797db1bb1990>"
      ]
     },
     "execution_count": 4,
     "metadata": {},
     "output_type": "execute_result"
    },
    {
     "data": {
      "image/png": "[encoded data removed]",
      "text/plain": [
       "<Figure size 640x480 with 1 Axes>"
      ]
     },
     "metadata": {},
     "output_type": "display_data"
    }
   ],
   "source": [
    "# -------------------------------------------------------\n",
    "#                   Electron Plot\n",
    "# -------------------------------------------------------\n",
    "\n",
    "\n",
    "img = X_Electron[26500]\n",
    "img = (img*255)\n",
    "imgg = np.zeros((32,32,1))\n",
    "img = np.dstack([img, imgg])\n",
    "img = img.astype('uint8')\n",
    "plt.imshow(img)"
   ]
  },
  {
   "cell_type": "code",
   "execution_count": 5,
   "id": "1ae10525",
   "metadata": {
    "execution": {
     "iopub.execute_input": "2024-03-17T06:26:31.912267Z",
     "iopub.status.busy": "2024-03-17T06:26:31.911970Z",
     "iopub.status.idle": "2024-03-17T06:26:43.023130Z",
     "shell.execute_reply": "2024-03-17T06:26:43.022153Z"
    },
    "papermill": {
     "duration": 11.122588,
     "end_time": "2024-03-17T06:26:43.025487",
     "exception": false,
     "start_time": "2024-03-17T06:26:31.902899",
     "status": "completed"
    },
    "tags": []
   },
   "outputs": [
    {
     "data": {
      "image/png": "[encoded data removed]",
      "text/plain": [
       "<Figure size 1000x500 with 2 Axes>"
      ]
     },
     "metadata": {},
     "output_type": "display_data"
    }
   ],
   "source": [
    "flattened_image = X_Electron.reshape((-1, 2))\n",
    "plt.figure(figsize=(10, 5))\n",
    "plt.subplot(1, 2, 1)\n",
    "plt.hist(flattened_image[:, 0], bins=50, color='red', alpha=0.7)\n",
    "plt.title('Histogram of Channel 1')\n",
    "plt.xlabel('Pixel Value')\n",
    "plt.ylabel('Frequency')\n",
    "\n",
    "plt.subplot(1, 2, 2)\n",
    "plt.hist(flattened_image[:, 1], bins=50, color='blue', alpha=0.7)\n",
    "plt.title('Histogram of Channel 2')\n",
    "plt.xlabel('Pixel Value')\n",
    "plt.ylabel('Frequency')\n",
    "\n",
    "plt.tight_layout()\n",
    "plt.show()"
   ]
  },
  {
   "cell_type": "code",
   "execution_count": 6,
   "id": "36758318",
   "metadata": {
    "execution": {
     "iopub.execute_input": "2024-03-17T06:26:43.044445Z",
     "iopub.status.busy": "2024-03-17T06:26:43.043822Z",
     "iopub.status.idle": "2024-03-17T06:26:43.234199Z",
     "shell.execute_reply": "2024-03-17T06:26:43.233335Z"
    },
    "papermill": {
     "duration": 0.201769,
     "end_time": "2024-03-17T06:26:43.236131",
     "exception": false,
     "start_time": "2024-03-17T06:26:43.034362",
     "status": "completed"
    },
    "tags": []
   },
   "outputs": [
    {
     "data": {
      "text/plain": [
       "<matplotlib.image.AxesImage at 0x797de9b72e00>"
      ]
     },
     "execution_count": 6,
     "metadata": {},
     "output_type": "execute_result"
    },
    {
     "data": {
      "image/png": "[encoded data removed]",
      "text/plain": [
       "<Figure size 640x480 with 1 Axes>"
      ]
     },
     "metadata": {},
     "output_type": "display_data"
    }
   ],
   "source": [
    "import matplotlib.pyplot as plt\n",
    "img = X_Photon[0]\n",
    "img = (img*255)\n",
    "imgg = np.zeros((32,32,1))\n",
    "img = np.dstack([img, imgg])\n",
    "img = img.astype('uint8')\n",
    "plt.imshow(img)"
   ]
  },
  {
   "cell_type": "code",
   "execution_count": 7,
   "id": "bd4acc0d",
   "metadata": {
    "execution": {
     "iopub.execute_input": "2024-03-17T06:26:43.255625Z",
     "iopub.status.busy": "2024-03-17T06:26:43.255342Z",
     "iopub.status.idle": "2024-03-17T06:26:54.517473Z",
     "shell.execute_reply": "2024-03-17T06:26:54.516654Z"
    },
    "papermill": {
     "duration": 11.274425,
     "end_time": "2024-03-17T06:26:54.519552",
     "exception": false,
     "start_time": "2024-03-17T06:26:43.245127",
     "status": "completed"
    },
    "tags": []
   },
   "outputs": [
    {
     "data": {
      "image/png": "[encoded data removed]",
      "text/plain": [
       "<Figure size 1000x500 with 2 Axes>"
      ]
     },
     "metadata": {},
     "output_type": "display_data"
    }
   ],
   "source": [
    "flattened_image = X_Photon.reshape((-1, 2))\n",
    "\n",
    "plt.figure(figsize=(10, 5))\n",
    "plt.subplot(1, 2, 1)\n",
    "plt.hist(flattened_image[:, 0], bins=50, color='red', alpha=0.7)\n",
    "plt.title('Histogram of Channel 1')\n",
    "plt.xlabel('Pixel Value')\n",
    "plt.ylabel('Frequency')\n",
    "\n",
    "plt.subplot(1, 2, 2)\n",
    "plt.hist(flattened_image[:, 1], bins=50, color='blue', alpha=0.7)\n",
    "plt.title('Histogram of Channel 2')\n",
    "plt.xlabel('Pixel Value')\n",
    "plt.ylabel('Frequency')\n",
    "\n",
    "plt.tight_layout()\n",
    "plt.show()"
   ]
  },
  {
   "cell_type": "code",
   "execution_count": 8,
   "id": "c1b30880",
   "metadata": {
    "execution": {
     "iopub.execute_input": "2024-03-17T06:26:54.539583Z",
     "iopub.status.busy": "2024-03-17T06:26:54.539286Z",
     "iopub.status.idle": "2024-03-17T06:26:55.990152Z",
     "shell.execute_reply": "2024-03-17T06:26:55.989217Z"
    },
    "papermill": {
     "duration": 1.463186,
     "end_time": "2024-03-17T06:26:55.992220",
     "exception": false,
     "start_time": "2024-03-17T06:26:54.529034",
     "status": "completed"
    },
    "tags": []
   },
   "outputs": [
    {
     "data": {
      "text/plain": [
       "(498000,)"
      ]
     },
     "execution_count": 8,
     "metadata": {},
     "output_type": "execute_result"
    }
   ],
   "source": [
    "X_train = np.concatenate((X_Electron, X_Photon), axis = 0)\n",
    "X_train.shape\n",
    "\n",
    "Y_train = np.concatenate((Y_Electron, Y_Photon))\n",
    "Y_train.shape"
   ]
  },
  {
   "cell_type": "code",
   "execution_count": 9,
   "id": "bf19a01a",
   "metadata": {
    "execution": {
     "iopub.execute_input": "2024-03-17T06:26:56.012691Z",
     "iopub.status.busy": "2024-03-17T06:26:56.012393Z",
     "iopub.status.idle": "2024-03-17T06:26:59.066248Z",
     "shell.execute_reply": "2024-03-17T06:26:59.065379Z"
    },
    "papermill": {
     "duration": 3.066639,
     "end_time": "2024-03-17T06:26:59.068607",
     "exception": false,
     "start_time": "2024-03-17T06:26:56.001968",
     "status": "completed"
    },
    "tags": []
   },
   "outputs": [],
   "source": [
    "import numpy as np\n",
    "\n",
    "# Assuming X_train and Y_train are your data and labels arrays\n",
    "combined = list(zip(X_train, Y_train))\n",
    "np.random.shuffle(combined)\n",
    "X_train_shuffled, Y_train_shuffled = zip(*combined)\n",
    "\n",
    "# Convert back to numpy arrays if necessary\n",
    "X_train_shuffled = np.array(X_train_shuffled)\n",
    "Y_train_shuffled = np.array(Y_train_shuffled)"
   ]
  },
  {
   "attachments": {
    "204eeb89-33eb-4c76-811a-faf38f1aeec3.jpeg": {
     "image/jpeg": "[encoded data removed]"
    }
   },
   "cell_type": "markdown",
   "id": "406072ec",
   "metadata": {
    "papermill": {
     "duration": 0.010218,
     "end_time": "2024-03-17T06:26:59.088890",
     "exception": false,
     "start_time": "2024-03-17T06:26:59.078672",
     "status": "completed"
    },
    "tags": []
   },
   "source": [
    "![CBAM 1.jpeg](attachment:204eeb89-33eb-4c76-811a-faf38f1aeec3.jpeg)"
   ]
  },
  {
   "cell_type": "code",
   "execution_count": 10,
   "id": "5789b896",
   "metadata": {
    "execution": {
     "iopub.execute_input": "2024-03-17T06:26:59.108686Z",
     "iopub.status.busy": "2024-03-17T06:26:59.108364Z",
     "iopub.status.idle": "2024-03-17T06:26:59.127793Z",
     "shell.execute_reply": "2024-03-17T06:26:59.127040Z"
    },
    "papermill": {
     "duration": 0.03158,
     "end_time": "2024-03-17T06:26:59.129620",
     "exception": false,
     "start_time": "2024-03-17T06:26:59.098040",
     "status": "completed"
    },
    "tags": []
   },
   "outputs": [],
   "source": [
    "import torch\n",
    "import math\n",
    "import torch.nn as nn\n",
    "\n",
    "class BasicConv(nn.Module):\n",
    "    def __init__(self, in_planes, out_planes, kernel_size, stride=1, padding=0, dilation=1, groups=1, relu=True, bn=True, bias=False):\n",
    "        super(BasicConv, self).__init__()\n",
    "        self.out_channels = out_planes\n",
    "        self.conv = nn.Conv2d(in_planes, out_planes, kernel_size=kernel_size, stride=stride, padding=padding, dilation=dilation, groups=groups, bias=bias)\n",
    "        self.bn = nn.BatchNorm2d(out_planes,eps=1e-5, momentum=0.01, affine=True) if bn else None\n",
    "        self.relu = nn.ReLU() if relu else None\n",
    "\n",
    "    def forward(self, x):\n",
    "        \n",
    "        x = self.conv(x)\n",
    "        \n",
    "        if self.bn is not None:\n",
    "            x = self.bn(x)\n",
    "        if self.relu is not None:\n",
    "            x = self.relu(x)\n",
    "        return x\n",
    "\n",
    "class Flatten(nn.Module):\n",
    "    def forward(self, x):\n",
    "        return x.view(x.size(0), -1)\n",
    "\n",
    "class ChannelGate(nn.Module):\n",
    "    def __init__(self, gate_channels, reduction_ratio=16):\n",
    "        super(ChannelGate, self).__init__()\n",
    "        \n",
    "        # Number of input channels to image\n",
    "        self.gate_channels = gate_channels\n",
    "        \n",
    "        #MLP layer\n",
    "        self.mlp = nn.Sequential(\n",
    "            Flatten(),\n",
    "            nn.Linear(gate_channels, gate_channels // reduction_ratio),\n",
    "            nn.ReLU(),\n",
    "            nn.Linear(gate_channels // reduction_ratio, gate_channels)\n",
    "            )\n",
    "\n",
    "    def forward(self, x):\n",
    "        \n",
    "        #Avg_pool\n",
    "        avg_pool = F.avg_pool2d( x, (x.size(2), x.size(3)), stride=(x.size(2), x.size(3)))\n",
    "        channel_att_avg = self.mlp( avg_pool )\n",
    "\n",
    "        #max_pool\n",
    "        max_pool = F.max_pool2d( x, (x.size(2), x.size(3)), stride=(x.size(2), x.size(3)))\n",
    "        channel_att_max = self.mlp( max_pool )\n",
    "\n",
    "        #Element wise sum\n",
    "        channel_att_sum = channel_att_max + channel_att_avg\n",
    "\n",
    "        #scaling output of channel attention to match dimensions with input\n",
    "        scale = F.sigmoid( channel_att_sum ).unsqueeze(2).unsqueeze(3).expand_as(x)\n",
    "        \n",
    "        return x * scale\n",
    "\n",
    "\n",
    "class ChannelPool(nn.Module):\n",
    "    def forward(self, x):\n",
    "        return torch.cat( (torch.max(x,1)[0].unsqueeze(1), torch.mean(x,1).unsqueeze(1)), dim=1 )\n",
    "\n",
    "class SpatialGate(nn.Module):\n",
    "    def __init__(self):\n",
    "        super(SpatialGate, self).__init__()\n",
    "        kernel_size = 7\n",
    "        self.compress = ChannelPool()\n",
    "        self.spatial = BasicConv(2, 1, kernel_size, stride=1, padding=(kernel_size-1) // 2, relu=False)\n",
    "        \n",
    "    def forward(self, x):\n",
    "        \n",
    "        # Applying Average Pooling and Maxpooling layer and concatenating\n",
    "        x_compress = self.compress(x)\n",
    "        \n",
    "        # Applying Convolution operation on concatenated inputs\n",
    "        x_out = self.spatial(x_compress)\n",
    "        \n",
    "        # Applying Sigmoid to attention mask\n",
    "        scale = F.sigmoid(x_out) # broadcasting\n",
    "        \n",
    "        return x * scale\n",
    "\n",
    "class CBAM(nn.Module):\n",
    "    def __init__(self, gate_channels, reduction_ratio=1, no_spatial=False):\n",
    "        super(CBAM, self).__init__()\n",
    "        self.ChannelGate = ChannelGate(gate_channels, reduction_ratio)\n",
    "        self.no_spatial=no_spatial\n",
    "        \n",
    "        if not no_spatial:\n",
    "            self.SpatialGate = SpatialGate()\n",
    "            \n",
    "    def forward(self, x):\n",
    "        x_out = self.ChannelGate(x)\n",
    "        if not self.no_spatial:\n",
    "            x_out = self.SpatialGate(x_out)\n",
    "        return x_out"
   ]
  },
  {
   "cell_type": "code",
   "execution_count": 11,
   "id": "5433052c",
   "metadata": {
    "execution": {
     "iopub.execute_input": "2024-03-17T06:26:59.149399Z",
     "iopub.status.busy": "2024-03-17T06:26:59.149132Z",
     "iopub.status.idle": "2024-03-17T06:27:00.543424Z",
     "shell.execute_reply": "2024-03-17T06:27:00.541558Z"
    },
    "papermill": {
     "duration": 1.406711,
     "end_time": "2024-03-17T06:27:00.545569",
     "exception": false,
     "start_time": "2024-03-17T06:26:59.138858",
     "status": "completed"
    },
    "tags": []
   },
   "outputs": [
    {
     "data": {
      "image/svg+xml": [
       "<?xml version=\"1.0\" encoding=\"UTF-8\" standalone=\"no\"?>\n",
       "<!DOCTYPE svg PUBLIC \"-//W3C//DTD SVG 1.1//EN\"\n",
       " \"http://www.w3.org/Graphics/SVG/1.1/DTD/svg11.dtd\">\n",
       "<!-- Generated by graphviz version 9.0.0 (20231125.0833)\n",
       " -->\n",
       "<!-- Title: model Pages: 1 -->\n",
       "<svg width=\"504pt\" height=\"1964pt\"\n",
       " viewBox=\"0.00 0.00 504.00 1964.00\" xmlns=\"http://www.w3.org/2000/svg\" xmlns:xlink=\"http://www.w3.org/1999/xlink\">\n",
       "<g id=\"graph0\" class=\"graph\" transform=\"scale(1 1) rotate(0) translate(4 1960)\">\n",
       "<title>model</title>\n",
       "<polygon fill=\"white\" stroke=\"none\" points=\"-4,4 -4,-1960 500,-1960 500,4 -4,4\"/>\n",
       "<g id=\"clust1\" class=\"cluster\">\n",
       "<title>cluster_2</title>\n",
       "<polygon fill=\"none\" stroke=\"black\" stroke-dasharray=\"5,2\" points=\"8,-383.5 8,-1752.5 244,-1752.5 244,-383.5 8,-383.5\"/>\n",
       "<text text-anchor=\"middle\" x=\"37.75\" y=\"-1737.1\" font-family=\"Times,serif\" font-size=\"12.00\">ResNet</text>\n",
       "</g>\n",
       "<g id=\"clust2\" class=\"cluster\">\n",
       "<title>cluster_3</title>\n",
       "<polygon fill=\"none\" stroke=\"black\" stroke-dasharray=\"5,2\" points=\"36,-1268 36,-1430.25 230,-1430.25 230,-1268 36,-1268\"/>\n",
       "<text text-anchor=\"middle\" x=\"75.88\" y=\"-1414.85\" font-family=\"Times,serif\" font-size=\"12.00\">Sequential</text>\n",
       "</g>\n",
       "<g id=\"clust3\" class=\"cluster\">\n",
       "<title>cluster_4</title>\n",
       "<polygon fill=\"none\" stroke=\"black\" stroke-dasharray=\"5,2\" points=\"27,-945.75 27,-1108 227,-1108 227,-945.75 27,-945.75\"/>\n",
       "<text text-anchor=\"middle\" x=\"66.88\" y=\"-1092.6\" font-family=\"Times,serif\" font-size=\"12.00\">Sequential</text>\n",
       "</g>\n",
       "<g id=\"clust4\" class=\"cluster\">\n",
       "<title>cluster_5</title>\n",
       "<polygon fill=\"none\" stroke=\"black\" stroke-dasharray=\"5,2\" points=\"26,-703.5 26,-865.75 226,-865.75 226,-703.5 26,-703.5\"/>\n",
       "<text text-anchor=\"middle\" x=\"65.88\" y=\"-850.35\" font-family=\"Times,serif\" font-size=\"12.00\">Sequential</text>\n",
       "</g>\n",
       "<g id=\"clust5\" class=\"cluster\">\n",
       "<title>cluster_6</title>\n",
       "<polygon fill=\"none\" stroke=\"black\" stroke-dasharray=\"5,2\" points=\"252,-383.5 252,-1752.5 488,-1752.5 488,-383.5 252,-383.5\"/>\n",
       "<text text-anchor=\"middle\" x=\"281.75\" y=\"-1737.1\" font-family=\"Times,serif\" font-size=\"12.00\">ResNet</text>\n",
       "</g>\n",
       "<g id=\"clust6\" class=\"cluster\">\n",
       "<title>cluster_7</title>\n",
       "<polygon fill=\"none\" stroke=\"black\" stroke-dasharray=\"5,2\" points=\"272,-1268 272,-1430.25 466,-1430.25 466,-1268 272,-1268\"/>\n",
       "<text text-anchor=\"middle\" x=\"311.88\" y=\"-1414.85\" font-family=\"Times,serif\" font-size=\"12.00\">Sequential</text>\n",
       "</g>\n",
       "<g id=\"clust7\" class=\"cluster\">\n",
       "<title>cluster_8</title>\n",
       "<polygon fill=\"none\" stroke=\"black\" stroke-dasharray=\"5,2\" points=\"269,-945.75 269,-1108 469,-1108 469,-945.75 269,-945.75\"/>\n",
       "<text text-anchor=\"middle\" x=\"308.88\" y=\"-1092.6\" font-family=\"Times,serif\" font-size=\"12.00\">Sequential</text>\n",
       "</g>\n",
       "<g id=\"clust8\" class=\"cluster\">\n",
       "<title>cluster_9</title>\n",
       "<polygon fill=\"none\" stroke=\"black\" stroke-dasharray=\"5,2\" points=\"269,-703.5 269,-865.75 469,-865.75 469,-703.5 269,-703.5\"/>\n",
       "<text text-anchor=\"middle\" x=\"308.88\" y=\"-850.35\" font-family=\"Times,serif\" font-size=\"12.00\">Sequential</text>\n",
       "</g>\n",
       "<!-- 0 -->\n",
       "<g id=\"node1\" class=\"node\">\n",
       "<title>0</title>\n",
       "<polygon fill=\"lightyellow\" stroke=\"none\" points=\"317.38,-1956 176.62,-1956 176.62,-1920.5 317.38,-1920.5 317.38,-1956\"/>\n",
       "<polygon fill=\"none\" stroke=\"black\" points=\"176.62,-1920.5 176.62,-1956 245.88,-1956 245.88,-1920.5 176.62,-1920.5\"/>\n",
       "<text text-anchor=\"start\" x=\"181.62\" y=\"-1941.5\" font-family=\"Linux libertine\" font-size=\"10.00\">input&#45;tensor</text>\n",
       "<text text-anchor=\"start\" x=\"192.88\" y=\"-1928.75\" font-family=\"Linux libertine\" font-size=\"10.00\">depth:0</text>\n",
       "<polygon fill=\"none\" stroke=\"black\" points=\"245.88,-1920.5 245.88,-1956 317.38,-1956 317.38,-1920.5 245.88,-1920.5\"/>\n",
       "<text text-anchor=\"start\" x=\"250.88\" y=\"-1935.12\" font-family=\"Linux libertine\" font-size=\"10.00\">(1, 2, 32, 32)</text>\n",
       "</g>\n",
       "<!-- 1 -->\n",
       "<g id=\"node2\" class=\"node\">\n",
       "<title>1</title>\n",
       "<polygon fill=\"aliceblue\" stroke=\"none\" points=\"238,-1884.5 48,-1884.5 48,-1840.5 238,-1840.5 238,-1884.5\"/>\n",
       "<polygon fill=\"none\" stroke=\"black\" points=\"48,-1840.5 48,-1884.5 117,-1884.5 117,-1840.5 48,-1840.5\"/>\n",
       "<text text-anchor=\"start\" x=\"52.88\" y=\"-1865.75\" font-family=\"Linux libertine\" font-size=\"10.00\">__getitem__</text>\n",
       "<text text-anchor=\"start\" x=\"64.12\" y=\"-1853\" font-family=\"Linux libertine\" font-size=\"10.00\">depth:1</text>\n",
       "<polygon fill=\"none\" stroke=\"black\" points=\"117,-1862.5 117,-1884.5 164,-1884.5 164,-1862.5 117,-1862.5\"/>\n",
       "<text text-anchor=\"start\" x=\"126.62\" y=\"-1870\" font-family=\"Linux libertine\" font-size=\"10.00\">input:</text>\n",
       "<polygon fill=\"none\" stroke=\"black\" points=\"164,-1862.5 164,-1884.5 238,-1884.5 238,-1862.5 164,-1862.5\"/>\n",
       "<text text-anchor=\"start\" x=\"168.75\" y=\"-1870\" font-family=\"Linux libertine\" font-size=\"10.00\">(1, 2, 32, 32) </text>\n",
       "<polygon fill=\"none\" stroke=\"black\" points=\"117,-1840.5 117,-1862.5 164,-1862.5 164,-1840.5 117,-1840.5\"/>\n",
       "<text text-anchor=\"start\" x=\"121.75\" y=\"-1848\" font-family=\"Linux libertine\" font-size=\"10.00\">output: </text>\n",
       "<polygon fill=\"none\" stroke=\"black\" points=\"164,-1840.5 164,-1862.5 238,-1862.5 238,-1840.5 164,-1840.5\"/>\n",
       "<text text-anchor=\"start\" x=\"174.75\" y=\"-1848\" font-family=\"Linux libertine\" font-size=\"10.00\">(1, 32, 32) </text>\n",
       "</g>\n",
       "<!-- 0&#45;&gt;1 -->\n",
       "<g id=\"edge1\" class=\"edge\">\n",
       "<title>0&#45;&gt;1</title>\n",
       "<path fill=\"none\" stroke=\"black\" d=\"M223.4,-1920.51C211.01,-1911.73 195.52,-1900.74 181.45,-1890.77\"/>\n",
       "<polygon fill=\"black\" stroke=\"black\" points=\"183.88,-1888.2 173.69,-1885.27 179.83,-1893.91 183.88,-1888.2\"/>\n",
       "</g>\n",
       "<!-- 3 -->\n",
       "<g id=\"node4\" class=\"node\">\n",
       "<title>3</title>\n",
       "<polygon fill=\"aliceblue\" stroke=\"none\" points=\"448,-1884.5 258,-1884.5 258,-1840.5 448,-1840.5 448,-1884.5\"/>\n",
       "<polygon fill=\"none\" stroke=\"black\" points=\"258,-1840.5 258,-1884.5 327,-1884.5 327,-1840.5 258,-1840.5\"/>\n",
       "<text text-anchor=\"start\" x=\"262.88\" y=\"-1865.75\" font-family=\"Linux libertine\" font-size=\"10.00\">__getitem__</text>\n",
       "<text text-anchor=\"start\" x=\"274.12\" y=\"-1853\" font-family=\"Linux libertine\" font-size=\"10.00\">depth:1</text>\n",
       "<polygon fill=\"none\" stroke=\"black\" points=\"327,-1862.5 327,-1884.5 374,-1884.5 374,-1862.5 327,-1862.5\"/>\n",
       "<text text-anchor=\"start\" x=\"336.62\" y=\"-1870\" font-family=\"Linux libertine\" font-size=\"10.00\">input:</text>\n",
       "<polygon fill=\"none\" stroke=\"black\" points=\"374,-1862.5 374,-1884.5 448,-1884.5 448,-1862.5 374,-1862.5\"/>\n",
       "<text text-anchor=\"start\" x=\"378.75\" y=\"-1870\" font-family=\"Linux libertine\" font-size=\"10.00\">(1, 2, 32, 32) </text>\n",
       "<polygon fill=\"none\" stroke=\"black\" points=\"327,-1840.5 327,-1862.5 374,-1862.5 374,-1840.5 327,-1840.5\"/>\n",
       "<text text-anchor=\"start\" x=\"331.75\" y=\"-1848\" font-family=\"Linux libertine\" font-size=\"10.00\">output: </text>\n",
       "<polygon fill=\"none\" stroke=\"black\" points=\"374,-1840.5 374,-1862.5 448,-1862.5 448,-1840.5 374,-1840.5\"/>\n",
       "<text text-anchor=\"start\" x=\"384.75\" y=\"-1848\" font-family=\"Linux libertine\" font-size=\"10.00\">(1, 32, 32) </text>\n",
       "</g>\n",
       "<!-- 0&#45;&gt;3 -->\n",
       "<g id=\"edge2\" class=\"edge\">\n",
       "<title>0&#45;&gt;3</title>\n",
       "<path fill=\"none\" stroke=\"black\" d=\"M271.05,-1920.51C283.68,-1911.73 299.47,-1900.74 313.81,-1890.77\"/>\n",
       "<polygon fill=\"black\" stroke=\"black\" points=\"315.52,-1893.84 321.73,-1885.25 311.52,-1888.09 315.52,-1893.84\"/>\n",
       "</g>\n",
       "<!-- 2 -->\n",
       "<g id=\"node3\" class=\"node\">\n",
       "<title>2</title>\n",
       "<polygon fill=\"aliceblue\" stroke=\"none\" points=\"225,-1804.5 55,-1804.5 55,-1760.5 225,-1760.5 225,-1804.5\"/>\n",
       "<polygon fill=\"none\" stroke=\"black\" points=\"55,-1760.5 55,-1804.5 104,-1804.5 104,-1760.5 55,-1760.5\"/>\n",
       "<text text-anchor=\"start\" x=\"60\" y=\"-1785.75\" font-family=\"Linux libertine\" font-size=\"10.00\">reshape</text>\n",
       "<text text-anchor=\"start\" x=\"61.12\" y=\"-1773\" font-family=\"Linux libertine\" font-size=\"10.00\">depth:1</text>\n",
       "<polygon fill=\"none\" stroke=\"black\" points=\"104,-1782.5 104,-1804.5 151,-1804.5 151,-1782.5 104,-1782.5\"/>\n",
       "<text text-anchor=\"start\" x=\"113.62\" y=\"-1790\" font-family=\"Linux libertine\" font-size=\"10.00\">input:</text>\n",
       "<polygon fill=\"none\" stroke=\"black\" points=\"151,-1782.5 151,-1804.5 225,-1804.5 225,-1782.5 151,-1782.5\"/>\n",
       "<text text-anchor=\"start\" x=\"161.75\" y=\"-1790\" font-family=\"Linux libertine\" font-size=\"10.00\">(1, 32, 32) </text>\n",
       "<polygon fill=\"none\" stroke=\"black\" points=\"104,-1760.5 104,-1782.5 151,-1782.5 151,-1760.5 104,-1760.5\"/>\n",
       "<text text-anchor=\"start\" x=\"108.75\" y=\"-1768\" font-family=\"Linux libertine\" font-size=\"10.00\">output: </text>\n",
       "<polygon fill=\"none\" stroke=\"black\" points=\"151,-1760.5 151,-1782.5 225,-1782.5 225,-1760.5 151,-1760.5\"/>\n",
       "<text text-anchor=\"start\" x=\"155.75\" y=\"-1768\" font-family=\"Linux libertine\" font-size=\"10.00\">(1, 1, 32, 32) </text>\n",
       "</g>\n",
       "<!-- 1&#45;&gt;2 -->\n",
       "<g id=\"edge3\" class=\"edge\">\n",
       "<title>1&#45;&gt;2</title>\n",
       "<path fill=\"none\" stroke=\"black\" d=\"M142.2,-1840.6C141.9,-1832.99 141.57,-1824.2 141.24,-1815.84\"/>\n",
       "<polygon fill=\"black\" stroke=\"black\" points=\"144.75,-1815.83 140.86,-1805.97 137.75,-1816.1 144.75,-1815.83\"/>\n",
       "</g>\n",
       "<!-- 5 -->\n",
       "<g id=\"node6\" class=\"node\">\n",
       "<title>5</title>\n",
       "<polygon fill=\"#c1ffc1\" stroke=\"none\" points=\"220.5,-1722.25 47.5,-1722.25 47.5,-1678.25 220.5,-1678.25 220.5,-1722.25\"/>\n",
       "<polygon fill=\"none\" stroke=\"black\" points=\"47.5,-1678.25 47.5,-1722.25 93.5,-1722.25 93.5,-1678.25 47.5,-1678.25\"/>\n",
       "<text text-anchor=\"start\" x=\"52.12\" y=\"-1703.5\" font-family=\"Linux libertine\" font-size=\"10.00\">Conv2d</text>\n",
       "<text text-anchor=\"start\" x=\"52.12\" y=\"-1690.75\" font-family=\"Linux libertine\" font-size=\"10.00\">depth:2</text>\n",
       "<polygon fill=\"none\" stroke=\"black\" points=\"93.5,-1700.25 93.5,-1722.25 140.5,-1722.25 140.5,-1700.25 93.5,-1700.25\"/>\n",
       "<text text-anchor=\"start\" x=\"103.12\" y=\"-1707.75\" font-family=\"Linux libertine\" font-size=\"10.00\">input:</text>\n",
       "<polygon fill=\"none\" stroke=\"black\" points=\"140.5,-1700.25 140.5,-1722.25 220.5,-1722.25 220.5,-1700.25 140.5,-1700.25\"/>\n",
       "<text text-anchor=\"start\" x=\"148.25\" y=\"-1707.75\" font-family=\"Linux libertine\" font-size=\"10.00\">(1, 1, 32, 32) </text>\n",
       "<polygon fill=\"none\" stroke=\"black\" points=\"93.5,-1678.25 93.5,-1700.25 140.5,-1700.25 140.5,-1678.25 93.5,-1678.25\"/>\n",
       "<text text-anchor=\"start\" x=\"98.25\" y=\"-1685.75\" font-family=\"Linux libertine\" font-size=\"10.00\">output: </text>\n",
       "<polygon fill=\"none\" stroke=\"black\" points=\"140.5,-1678.25 140.5,-1700.25 220.5,-1700.25 220.5,-1678.25 140.5,-1678.25\"/>\n",
       "<text text-anchor=\"start\" x=\"145.25\" y=\"-1685.75\" font-family=\"Linux libertine\" font-size=\"10.00\">(1, 64, 16, 16) </text>\n",
       "</g>\n",
       "<!-- 2&#45;&gt;5 -->\n",
       "<g id=\"edge5\" class=\"edge\">\n",
       "<title>2&#45;&gt;5</title>\n",
       "<path fill=\"none\" stroke=\"black\" d=\"M138.45,-1760.83C137.83,-1752.47 137.09,-1742.63 136.4,-1733.37\"/>\n",
       "<polygon fill=\"black\" stroke=\"black\" points=\"139.91,-1733.35 135.67,-1723.63 132.93,-1733.87 139.91,-1733.35\"/>\n",
       "</g>\n",
       "<!-- 4 -->\n",
       "<g id=\"node5\" class=\"node\">\n",
       "<title>4</title>\n",
       "<polygon fill=\"aliceblue\" stroke=\"none\" points=\"438,-1804.5 268,-1804.5 268,-1760.5 438,-1760.5 438,-1804.5\"/>\n",
       "<polygon fill=\"none\" stroke=\"black\" points=\"268,-1760.5 268,-1804.5 317,-1804.5 317,-1760.5 268,-1760.5\"/>\n",
       "<text text-anchor=\"start\" x=\"273\" y=\"-1785.75\" font-family=\"Linux libertine\" font-size=\"10.00\">reshape</text>\n",
       "<text text-anchor=\"start\" x=\"274.12\" y=\"-1773\" font-family=\"Linux libertine\" font-size=\"10.00\">depth:1</text>\n",
       "<polygon fill=\"none\" stroke=\"black\" points=\"317,-1782.5 317,-1804.5 364,-1804.5 364,-1782.5 317,-1782.5\"/>\n",
       "<text text-anchor=\"start\" x=\"326.62\" y=\"-1790\" font-family=\"Linux libertine\" font-size=\"10.00\">input:</text>\n",
       "<polygon fill=\"none\" stroke=\"black\" points=\"364,-1782.5 364,-1804.5 438,-1804.5 438,-1782.5 364,-1782.5\"/>\n",
       "<text text-anchor=\"start\" x=\"374.75\" y=\"-1790\" font-family=\"Linux libertine\" font-size=\"10.00\">(1, 32, 32) </text>\n",
       "<polygon fill=\"none\" stroke=\"black\" points=\"317,-1760.5 317,-1782.5 364,-1782.5 364,-1760.5 317,-1760.5\"/>\n",
       "<text text-anchor=\"start\" x=\"321.75\" y=\"-1768\" font-family=\"Linux libertine\" font-size=\"10.00\">output: </text>\n",
       "<polygon fill=\"none\" stroke=\"black\" points=\"364,-1760.5 364,-1782.5 438,-1782.5 438,-1760.5 364,-1760.5\"/>\n",
       "<text text-anchor=\"start\" x=\"368.75\" y=\"-1768\" font-family=\"Linux libertine\" font-size=\"10.00\">(1, 1, 32, 32) </text>\n",
       "</g>\n",
       "<!-- 3&#45;&gt;4 -->\n",
       "<g id=\"edge4\" class=\"edge\">\n",
       "<title>3&#45;&gt;4</title>\n",
       "<path fill=\"none\" stroke=\"black\" d=\"M353,-1840.6C353,-1832.99 353,-1824.2 353,-1815.84\"/>\n",
       "<polygon fill=\"black\" stroke=\"black\" points=\"356.5,-1815.97 353,-1805.97 349.5,-1815.97 356.5,-1815.97\"/>\n",
       "</g>\n",
       "<!-- 22 -->\n",
       "<g id=\"node23\" class=\"node\">\n",
       "<title>22</title>\n",
       "<polygon fill=\"#c1ffc1\" stroke=\"none\" points=\"440.5,-1722.25 267.5,-1722.25 267.5,-1678.25 440.5,-1678.25 440.5,-1722.25\"/>\n",
       "<polygon fill=\"none\" stroke=\"black\" points=\"267.5,-1678.25 267.5,-1722.25 313.5,-1722.25 313.5,-1678.25 267.5,-1678.25\"/>\n",
       "<text text-anchor=\"start\" x=\"272.12\" y=\"-1703.5\" font-family=\"Linux libertine\" font-size=\"10.00\">Conv2d</text>\n",
       "<text text-anchor=\"start\" x=\"272.12\" y=\"-1690.75\" font-family=\"Linux libertine\" font-size=\"10.00\">depth:2</text>\n",
       "<polygon fill=\"none\" stroke=\"black\" points=\"313.5,-1700.25 313.5,-1722.25 360.5,-1722.25 360.5,-1700.25 313.5,-1700.25\"/>\n",
       "<text text-anchor=\"start\" x=\"323.12\" y=\"-1707.75\" font-family=\"Linux libertine\" font-size=\"10.00\">input:</text>\n",
       "<polygon fill=\"none\" stroke=\"black\" points=\"360.5,-1700.25 360.5,-1722.25 440.5,-1722.25 440.5,-1700.25 360.5,-1700.25\"/>\n",
       "<text text-anchor=\"start\" x=\"368.25\" y=\"-1707.75\" font-family=\"Linux libertine\" font-size=\"10.00\">(1, 1, 32, 32) </text>\n",
       "<polygon fill=\"none\" stroke=\"black\" points=\"313.5,-1678.25 313.5,-1700.25 360.5,-1700.25 360.5,-1678.25 313.5,-1678.25\"/>\n",
       "<text text-anchor=\"start\" x=\"318.25\" y=\"-1685.75\" font-family=\"Linux libertine\" font-size=\"10.00\">output: </text>\n",
       "<polygon fill=\"none\" stroke=\"black\" points=\"360.5,-1678.25 360.5,-1700.25 440.5,-1700.25 440.5,-1678.25 360.5,-1678.25\"/>\n",
       "<text text-anchor=\"start\" x=\"365.25\" y=\"-1685.75\" font-family=\"Linux libertine\" font-size=\"10.00\">(1, 64, 16, 16) </text>\n",
       "</g>\n",
       "<!-- 4&#45;&gt;22 -->\n",
       "<g id=\"edge23\" class=\"edge\">\n",
       "<title>4&#45;&gt;22</title>\n",
       "<path fill=\"none\" stroke=\"black\" d=\"M353.26,-1760.83C353.36,-1752.47 353.48,-1742.63 353.6,-1733.37\"/>\n",
       "<polygon fill=\"black\" stroke=\"black\" points=\"357.1,-1733.68 353.72,-1723.64 350.1,-1733.59 357.1,-1733.68\"/>\n",
       "</g>\n",
       "<!-- 6 -->\n",
       "<g id=\"node7\" class=\"node\">\n",
       "<title>6</title>\n",
       "<polygon fill=\"#c1ffc1\" stroke=\"none\" points=\"234.5,-1642.25 31.5,-1642.25 31.5,-1598.25 234.5,-1598.25 234.5,-1642.25\"/>\n",
       "<polygon fill=\"none\" stroke=\"black\" points=\"31.5,-1598.25 31.5,-1642.25 107.5,-1642.25 107.5,-1598.25 31.5,-1598.25\"/>\n",
       "<text text-anchor=\"start\" x=\"36.12\" y=\"-1623.5\" font-family=\"Linux libertine\" font-size=\"10.00\">BatchNorm2d</text>\n",
       "<text text-anchor=\"start\" x=\"51.12\" y=\"-1610.75\" font-family=\"Linux libertine\" font-size=\"10.00\">depth:2</text>\n",
       "<polygon fill=\"none\" stroke=\"black\" points=\"107.5,-1620.25 107.5,-1642.25 154.5,-1642.25 154.5,-1620.25 107.5,-1620.25\"/>\n",
       "<text text-anchor=\"start\" x=\"117.12\" y=\"-1627.75\" font-family=\"Linux libertine\" font-size=\"10.00\">input:</text>\n",
       "<polygon fill=\"none\" stroke=\"black\" points=\"154.5,-1620.25 154.5,-1642.25 234.5,-1642.25 234.5,-1620.25 154.5,-1620.25\"/>\n",
       "<text text-anchor=\"start\" x=\"159.25\" y=\"-1627.75\" font-family=\"Linux libertine\" font-size=\"10.00\">(1, 64, 16, 16) </text>\n",
       "<polygon fill=\"none\" stroke=\"black\" points=\"107.5,-1598.25 107.5,-1620.25 154.5,-1620.25 154.5,-1598.25 107.5,-1598.25\"/>\n",
       "<text text-anchor=\"start\" x=\"112.25\" y=\"-1605.75\" font-family=\"Linux libertine\" font-size=\"10.00\">output: </text>\n",
       "<polygon fill=\"none\" stroke=\"black\" points=\"154.5,-1598.25 154.5,-1620.25 234.5,-1620.25 234.5,-1598.25 154.5,-1598.25\"/>\n",
       "<text text-anchor=\"start\" x=\"159.25\" y=\"-1605.75\" font-family=\"Linux libertine\" font-size=\"10.00\">(1, 64, 16, 16) </text>\n",
       "</g>\n",
       "<!-- 5&#45;&gt;6 -->\n",
       "<g id=\"edge6\" class=\"edge\">\n",
       "<title>5&#45;&gt;6</title>\n",
       "<path fill=\"none\" stroke=\"black\" d=\"M133.73,-1678.35C133.63,-1670.74 133.52,-1661.95 133.41,-1653.59\"/>\n",
       "<polygon fill=\"black\" stroke=\"black\" points=\"136.92,-1653.68 133.29,-1643.72 129.92,-1653.77 136.92,-1653.68\"/>\n",
       "</g>\n",
       "<!-- 7 -->\n",
       "<g id=\"node8\" class=\"node\">\n",
       "<title>7</title>\n",
       "<polygon fill=\"#c1ffc1\" stroke=\"none\" points=\"219.5,-1562.25 46.5,-1562.25 46.5,-1518.25 219.5,-1518.25 219.5,-1562.25\"/>\n",
       "<polygon fill=\"none\" stroke=\"black\" points=\"46.5,-1518.25 46.5,-1562.25 92.5,-1562.25 92.5,-1518.25 46.5,-1518.25\"/>\n",
       "<text text-anchor=\"start\" x=\"56.75\" y=\"-1543.5\" font-family=\"Linux libertine\" font-size=\"10.00\">ReLU</text>\n",
       "<text text-anchor=\"start\" x=\"51.12\" y=\"-1530.75\" font-family=\"Linux libertine\" font-size=\"10.00\">depth:2</text>\n",
       "<polygon fill=\"none\" stroke=\"black\" points=\"92.5,-1540.25 92.5,-1562.25 139.5,-1562.25 139.5,-1540.25 92.5,-1540.25\"/>\n",
       "<text text-anchor=\"start\" x=\"102.12\" y=\"-1547.75\" font-family=\"Linux libertine\" font-size=\"10.00\">input:</text>\n",
       "<polygon fill=\"none\" stroke=\"black\" points=\"139.5,-1540.25 139.5,-1562.25 219.5,-1562.25 219.5,-1540.25 139.5,-1540.25\"/>\n",
       "<text text-anchor=\"start\" x=\"144.25\" y=\"-1547.75\" font-family=\"Linux libertine\" font-size=\"10.00\">(1, 64, 16, 16) </text>\n",
       "<polygon fill=\"none\" stroke=\"black\" points=\"92.5,-1518.25 92.5,-1540.25 139.5,-1540.25 139.5,-1518.25 92.5,-1518.25\"/>\n",
       "<text text-anchor=\"start\" x=\"97.25\" y=\"-1525.75\" font-family=\"Linux libertine\" font-size=\"10.00\">output: </text>\n",
       "<polygon fill=\"none\" stroke=\"black\" points=\"139.5,-1518.25 139.5,-1540.25 219.5,-1540.25 219.5,-1518.25 139.5,-1518.25\"/>\n",
       "<text text-anchor=\"start\" x=\"144.25\" y=\"-1525.75\" font-family=\"Linux libertine\" font-size=\"10.00\">(1, 64, 16, 16) </text>\n",
       "</g>\n",
       "<!-- 6&#45;&gt;7 -->\n",
       "<g id=\"edge7\" class=\"edge\">\n",
       "<title>6&#45;&gt;7</title>\n",
       "<path fill=\"none\" stroke=\"black\" d=\"M133,-1598.35C133,-1590.74 133,-1581.95 133,-1573.59\"/>\n",
       "<polygon fill=\"black\" stroke=\"black\" points=\"136.5,-1573.72 133,-1563.72 129.5,-1573.72 136.5,-1573.72\"/>\n",
       "</g>\n",
       "<!-- 8 -->\n",
       "<g id=\"node9\" class=\"node\">\n",
       "<title>8</title>\n",
       "<polygon fill=\"#c1ffc1\" stroke=\"none\" points=\"228.5,-1482.25 37.5,-1482.25 37.5,-1438.25 228.5,-1438.25 228.5,-1482.25\"/>\n",
       "<polygon fill=\"none\" stroke=\"black\" points=\"37.5,-1438.25 37.5,-1482.25 101.5,-1482.25 101.5,-1438.25 37.5,-1438.25\"/>\n",
       "<text text-anchor=\"start\" x=\"42.5\" y=\"-1463.5\" font-family=\"Linux libertine\" font-size=\"10.00\">MaxPool2d</text>\n",
       "<text text-anchor=\"start\" x=\"51.12\" y=\"-1450.75\" font-family=\"Linux libertine\" font-size=\"10.00\">depth:2</text>\n",
       "<polygon fill=\"none\" stroke=\"black\" points=\"101.5,-1460.25 101.5,-1482.25 148.5,-1482.25 148.5,-1460.25 101.5,-1460.25\"/>\n",
       "<text text-anchor=\"start\" x=\"111.12\" y=\"-1467.75\" font-family=\"Linux libertine\" font-size=\"10.00\">input:</text>\n",
       "<polygon fill=\"none\" stroke=\"black\" points=\"148.5,-1460.25 148.5,-1482.25 228.5,-1482.25 228.5,-1460.25 148.5,-1460.25\"/>\n",
       "<text text-anchor=\"start\" x=\"153.25\" y=\"-1467.75\" font-family=\"Linux libertine\" font-size=\"10.00\">(1, 64, 16, 16) </text>\n",
       "<polygon fill=\"none\" stroke=\"black\" points=\"101.5,-1438.25 101.5,-1460.25 148.5,-1460.25 148.5,-1438.25 101.5,-1438.25\"/>\n",
       "<text text-anchor=\"start\" x=\"106.25\" y=\"-1445.75\" font-family=\"Linux libertine\" font-size=\"10.00\">output: </text>\n",
       "<polygon fill=\"none\" stroke=\"black\" points=\"148.5,-1438.25 148.5,-1460.25 228.5,-1460.25 228.5,-1438.25 148.5,-1438.25\"/>\n",
       "<text text-anchor=\"start\" x=\"159.25\" y=\"-1445.75\" font-family=\"Linux libertine\" font-size=\"10.00\">(1, 64, 8, 8) </text>\n",
       "</g>\n",
       "<!-- 7&#45;&gt;8 -->\n",
       "<g id=\"edge8\" class=\"edge\">\n",
       "<title>7&#45;&gt;8</title>\n",
       "<path fill=\"none\" stroke=\"black\" d=\"M133,-1518.35C133,-1510.74 133,-1501.95 133,-1493.59\"/>\n",
       "<polygon fill=\"black\" stroke=\"black\" points=\"136.5,-1493.72 133,-1483.72 129.5,-1493.72 136.5,-1493.72\"/>\n",
       "</g>\n",
       "<!-- 9 -->\n",
       "<g id=\"node10\" class=\"node\">\n",
       "<title>9</title>\n",
       "<polygon fill=\"#c1ffc1\" stroke=\"none\" points=\"222,-1400 44,-1400 44,-1356 222,-1356 222,-1400\"/>\n",
       "<polygon fill=\"none\" stroke=\"black\" points=\"44,-1356 44,-1400 107,-1400 107,-1356 44,-1356\"/>\n",
       "<text text-anchor=\"start\" x=\"48.88\" y=\"-1381.25\" font-family=\"Linux libertine\" font-size=\"10.00\">BasicBlock</text>\n",
       "<text text-anchor=\"start\" x=\"57.12\" y=\"-1368.5\" font-family=\"Linux libertine\" font-size=\"10.00\">depth:3</text>\n",
       "<polygon fill=\"none\" stroke=\"black\" points=\"107,-1378 107,-1400 154,-1400 154,-1378 107,-1378\"/>\n",
       "<text text-anchor=\"start\" x=\"116.62\" y=\"-1385.5\" font-family=\"Linux libertine\" font-size=\"10.00\">input:</text>\n",
       "<polygon fill=\"none\" stroke=\"black\" points=\"154,-1378 154,-1400 222,-1400 222,-1378 154,-1378\"/>\n",
       "<text text-anchor=\"start\" x=\"158.75\" y=\"-1385.5\" font-family=\"Linux libertine\" font-size=\"10.00\">(1, 64, 8, 8) </text>\n",
       "<polygon fill=\"none\" stroke=\"black\" points=\"107,-1356 107,-1378 154,-1378 154,-1356 107,-1356\"/>\n",
       "<text text-anchor=\"start\" x=\"111.75\" y=\"-1363.5\" font-family=\"Linux libertine\" font-size=\"10.00\">output: </text>\n",
       "<polygon fill=\"none\" stroke=\"black\" points=\"154,-1356 154,-1378 222,-1378 222,-1356 154,-1356\"/>\n",
       "<text text-anchor=\"start\" x=\"158.75\" y=\"-1363.5\" font-family=\"Linux libertine\" font-size=\"10.00\">(1, 64, 8, 8) </text>\n",
       "</g>\n",
       "<!-- 8&#45;&gt;9 -->\n",
       "<g id=\"edge9\" class=\"edge\">\n",
       "<title>8&#45;&gt;9</title>\n",
       "<path fill=\"none\" stroke=\"black\" d=\"M133,-1438.58C133,-1430.22 133,-1420.38 133,-1411.12\"/>\n",
       "<polygon fill=\"black\" stroke=\"black\" points=\"136.5,-1411.39 133,-1401.39 129.5,-1411.39 136.5,-1411.39\"/>\n",
       "</g>\n",
       "<!-- 10 -->\n",
       "<g id=\"node11\" class=\"node\">\n",
       "<title>10</title>\n",
       "<polygon fill=\"#c1ffc1\" stroke=\"none\" points=\"222,-1320 44,-1320 44,-1276 222,-1276 222,-1320\"/>\n",
       "<polygon fill=\"none\" stroke=\"black\" points=\"44,-1276 44,-1320 107,-1320 107,-1276 44,-1276\"/>\n",
       "<text text-anchor=\"start\" x=\"48.88\" y=\"-1301.25\" font-family=\"Linux libertine\" font-size=\"10.00\">BasicBlock</text>\n",
       "<text text-anchor=\"start\" x=\"57.12\" y=\"-1288.5\" font-family=\"Linux libertine\" font-size=\"10.00\">depth:3</text>\n",
       "<polygon fill=\"none\" stroke=\"black\" points=\"107,-1298 107,-1320 154,-1320 154,-1298 107,-1298\"/>\n",
       "<text text-anchor=\"start\" x=\"116.62\" y=\"-1305.5\" font-family=\"Linux libertine\" font-size=\"10.00\">input:</text>\n",
       "<polygon fill=\"none\" stroke=\"black\" points=\"154,-1298 154,-1320 222,-1320 222,-1298 154,-1298\"/>\n",
       "<text text-anchor=\"start\" x=\"158.75\" y=\"-1305.5\" font-family=\"Linux libertine\" font-size=\"10.00\">(1, 64, 8, 8) </text>\n",
       "<polygon fill=\"none\" stroke=\"black\" points=\"107,-1276 107,-1298 154,-1298 154,-1276 107,-1276\"/>\n",
       "<text text-anchor=\"start\" x=\"111.75\" y=\"-1283.5\" font-family=\"Linux libertine\" font-size=\"10.00\">output: </text>\n",
       "<polygon fill=\"none\" stroke=\"black\" points=\"154,-1276 154,-1298 222,-1298 222,-1276 154,-1276\"/>\n",
       "<text text-anchor=\"start\" x=\"158.75\" y=\"-1283.5\" font-family=\"Linux libertine\" font-size=\"10.00\">(1, 64, 8, 8) </text>\n",
       "</g>\n",
       "<!-- 9&#45;&gt;10 -->\n",
       "<g id=\"edge10\" class=\"edge\">\n",
       "<title>9&#45;&gt;10</title>\n",
       "<path fill=\"none\" stroke=\"black\" d=\"M133,-1356.1C133,-1348.49 133,-1339.7 133,-1331.34\"/>\n",
       "<polygon fill=\"black\" stroke=\"black\" points=\"136.5,-1331.47 133,-1321.47 129.5,-1331.47 136.5,-1331.47\"/>\n",
       "</g>\n",
       "<!-- 11 -->\n",
       "<g id=\"node12\" class=\"node\">\n",
       "<title>11</title>\n",
       "<polygon fill=\"#c1ffc1\" stroke=\"none\" points=\"211,-1240 47,-1240 47,-1196 211,-1196 211,-1240\"/>\n",
       "<polygon fill=\"none\" stroke=\"black\" points=\"47,-1196 47,-1240 96,-1240 96,-1196 47,-1196\"/>\n",
       "<text text-anchor=\"start\" x=\"52\" y=\"-1221.25\" font-family=\"Linux libertine\" font-size=\"10.00\">Dropout</text>\n",
       "<text text-anchor=\"start\" x=\"53.12\" y=\"-1208.5\" font-family=\"Linux libertine\" font-size=\"10.00\">depth:2</text>\n",
       "<polygon fill=\"none\" stroke=\"black\" points=\"96,-1218 96,-1240 143,-1240 143,-1218 96,-1218\"/>\n",
       "<text text-anchor=\"start\" x=\"105.62\" y=\"-1225.5\" font-family=\"Linux libertine\" font-size=\"10.00\">input:</text>\n",
       "<polygon fill=\"none\" stroke=\"black\" points=\"143,-1218 143,-1240 211,-1240 211,-1218 143,-1218\"/>\n",
       "<text text-anchor=\"start\" x=\"147.75\" y=\"-1225.5\" font-family=\"Linux libertine\" font-size=\"10.00\">(1, 64, 8, 8) </text>\n",
       "<polygon fill=\"none\" stroke=\"black\" points=\"96,-1196 96,-1218 143,-1218 143,-1196 96,-1196\"/>\n",
       "<text text-anchor=\"start\" x=\"100.75\" y=\"-1203.5\" font-family=\"Linux libertine\" font-size=\"10.00\">output: </text>\n",
       "<polygon fill=\"none\" stroke=\"black\" points=\"143,-1196 143,-1218 211,-1218 211,-1196 143,-1196\"/>\n",
       "<text text-anchor=\"start\" x=\"147.75\" y=\"-1203.5\" font-family=\"Linux libertine\" font-size=\"10.00\">(1, 64, 8, 8) </text>\n",
       "</g>\n",
       "<!-- 10&#45;&gt;11 -->\n",
       "<g id=\"edge11\" class=\"edge\">\n",
       "<title>10&#45;&gt;11</title>\n",
       "<path fill=\"none\" stroke=\"black\" d=\"M131.93,-1276.1C131.54,-1268.49 131.09,-1259.7 130.66,-1251.34\"/>\n",
       "<polygon fill=\"black\" stroke=\"black\" points=\"134.16,-1251.28 130.15,-1241.47 127.17,-1251.64 134.16,-1251.28\"/>\n",
       "</g>\n",
       "<!-- 12 -->\n",
       "<g id=\"node13\" class=\"node\">\n",
       "<title>12</title>\n",
       "<polygon fill=\"#c1ffc1\" stroke=\"none\" points=\"207.5,-1160 46.5,-1160 46.5,-1116 207.5,-1116 207.5,-1160\"/>\n",
       "<polygon fill=\"none\" stroke=\"black\" points=\"46.5,-1116 46.5,-1160 92.5,-1160 92.5,-1116 46.5,-1116\"/>\n",
       "<text text-anchor=\"start\" x=\"56.75\" y=\"-1141.25\" font-family=\"Linux libertine\" font-size=\"10.00\">ReLU</text>\n",
       "<text text-anchor=\"start\" x=\"51.12\" y=\"-1128.5\" font-family=\"Linux libertine\" font-size=\"10.00\">depth:2</text>\n",
       "<polygon fill=\"none\" stroke=\"black\" points=\"92.5,-1138 92.5,-1160 139.5,-1160 139.5,-1138 92.5,-1138\"/>\n",
       "<text text-anchor=\"start\" x=\"102.12\" y=\"-1145.5\" font-family=\"Linux libertine\" font-size=\"10.00\">input:</text>\n",
       "<polygon fill=\"none\" stroke=\"black\" points=\"139.5,-1138 139.5,-1160 207.5,-1160 207.5,-1138 139.5,-1138\"/>\n",
       "<text text-anchor=\"start\" x=\"144.25\" y=\"-1145.5\" font-family=\"Linux libertine\" font-size=\"10.00\">(1, 64, 8, 8) </text>\n",
       "<polygon fill=\"none\" stroke=\"black\" points=\"92.5,-1116 92.5,-1138 139.5,-1138 139.5,-1116 92.5,-1116\"/>\n",
       "<text text-anchor=\"start\" x=\"97.25\" y=\"-1123.5\" font-family=\"Linux libertine\" font-size=\"10.00\">output: </text>\n",
       "<polygon fill=\"none\" stroke=\"black\" points=\"139.5,-1116 139.5,-1138 207.5,-1138 207.5,-1116 139.5,-1116\"/>\n",
       "<text text-anchor=\"start\" x=\"144.25\" y=\"-1123.5\" font-family=\"Linux libertine\" font-size=\"10.00\">(1, 64, 8, 8) </text>\n",
       "</g>\n",
       "<!-- 11&#45;&gt;12 -->\n",
       "<g id=\"edge12\" class=\"edge\">\n",
       "<title>11&#45;&gt;12</title>\n",
       "<path fill=\"none\" stroke=\"black\" d=\"M128.46,-1196.1C128.27,-1188.49 128.04,-1179.7 127.83,-1171.34\"/>\n",
       "<polygon fill=\"black\" stroke=\"black\" points=\"131.33,-1171.38 127.58,-1161.47 124.33,-1171.56 131.33,-1171.38\"/>\n",
       "</g>\n",
       "<!-- 13 -->\n",
       "<g id=\"node14\" class=\"node\">\n",
       "<title>13</title>\n",
       "<polygon fill=\"#c1ffc1\" stroke=\"none\" points=\"219,-1077.75 35,-1077.75 35,-1033.75 219,-1033.75 219,-1077.75\"/>\n",
       "<polygon fill=\"none\" stroke=\"black\" points=\"35,-1033.75 35,-1077.75 98,-1077.75 98,-1033.75 35,-1033.75\"/>\n",
       "<text text-anchor=\"start\" x=\"39.88\" y=\"-1059\" font-family=\"Linux libertine\" font-size=\"10.00\">BasicBlock</text>\n",
       "<text text-anchor=\"start\" x=\"48.12\" y=\"-1046.25\" font-family=\"Linux libertine\" font-size=\"10.00\">depth:3</text>\n",
       "<polygon fill=\"none\" stroke=\"black\" points=\"98,-1055.75 98,-1077.75 145,-1077.75 145,-1055.75 98,-1055.75\"/>\n",
       "<text text-anchor=\"start\" x=\"107.62\" y=\"-1063.25\" font-family=\"Linux libertine\" font-size=\"10.00\">input:</text>\n",
       "<polygon fill=\"none\" stroke=\"black\" points=\"145,-1055.75 145,-1077.75 219,-1077.75 219,-1055.75 145,-1055.75\"/>\n",
       "<text text-anchor=\"start\" x=\"152.75\" y=\"-1063.25\" font-family=\"Linux libertine\" font-size=\"10.00\">(1, 64, 8, 8) </text>\n",
       "<polygon fill=\"none\" stroke=\"black\" points=\"98,-1033.75 98,-1055.75 145,-1055.75 145,-1033.75 98,-1033.75\"/>\n",
       "<text text-anchor=\"start\" x=\"102.75\" y=\"-1041.25\" font-family=\"Linux libertine\" font-size=\"10.00\">output: </text>\n",
       "<polygon fill=\"none\" stroke=\"black\" points=\"145,-1033.75 145,-1055.75 219,-1055.75 219,-1033.75 145,-1033.75\"/>\n",
       "<text text-anchor=\"start\" x=\"149.75\" y=\"-1041.25\" font-family=\"Linux libertine\" font-size=\"10.00\">(1, 128, 4, 4) </text>\n",
       "</g>\n",
       "<!-- 12&#45;&gt;13 -->\n",
       "<g id=\"edge13\" class=\"edge\">\n",
       "<title>12&#45;&gt;13</title>\n",
       "<path fill=\"none\" stroke=\"black\" d=\"M127,-1116.33C127,-1107.97 127,-1098.13 127,-1088.87\"/>\n",
       "<polygon fill=\"black\" stroke=\"black\" points=\"130.5,-1089.14 127,-1079.14 123.5,-1089.14 130.5,-1089.14\"/>\n",
       "</g>\n",
       "<!-- 14 -->\n",
       "<g id=\"node15\" class=\"node\">\n",
       "<title>14</title>\n",
       "<polygon fill=\"#c1ffc1\" stroke=\"none\" points=\"219,-997.75 35,-997.75 35,-953.75 219,-953.75 219,-997.75\"/>\n",
       "<polygon fill=\"none\" stroke=\"black\" points=\"35,-953.75 35,-997.75 98,-997.75 98,-953.75 35,-953.75\"/>\n",
       "<text text-anchor=\"start\" x=\"39.88\" y=\"-979\" font-family=\"Linux libertine\" font-size=\"10.00\">BasicBlock</text>\n",
       "<text text-anchor=\"start\" x=\"48.12\" y=\"-966.25\" font-family=\"Linux libertine\" font-size=\"10.00\">depth:3</text>\n",
       "<polygon fill=\"none\" stroke=\"black\" points=\"98,-975.75 98,-997.75 145,-997.75 145,-975.75 98,-975.75\"/>\n",
       "<text text-anchor=\"start\" x=\"107.62\" y=\"-983.25\" font-family=\"Linux libertine\" font-size=\"10.00\">input:</text>\n",
       "<polygon fill=\"none\" stroke=\"black\" points=\"145,-975.75 145,-997.75 219,-997.75 219,-975.75 145,-975.75\"/>\n",
       "<text text-anchor=\"start\" x=\"149.75\" y=\"-983.25\" font-family=\"Linux libertine\" font-size=\"10.00\">(1, 128, 4, 4) </text>\n",
       "<polygon fill=\"none\" stroke=\"black\" points=\"98,-953.75 98,-975.75 145,-975.75 145,-953.75 98,-953.75\"/>\n",
       "<text text-anchor=\"start\" x=\"102.75\" y=\"-961.25\" font-family=\"Linux libertine\" font-size=\"10.00\">output: </text>\n",
       "<polygon fill=\"none\" stroke=\"black\" points=\"145,-953.75 145,-975.75 219,-975.75 219,-953.75 145,-953.75\"/>\n",
       "<text text-anchor=\"start\" x=\"149.75\" y=\"-961.25\" font-family=\"Linux libertine\" font-size=\"10.00\">(1, 128, 4, 4) </text>\n",
       "</g>\n",
       "<!-- 13&#45;&gt;14 -->\n",
       "<g id=\"edge14\" class=\"edge\">\n",
       "<title>13&#45;&gt;14</title>\n",
       "<path fill=\"none\" stroke=\"black\" d=\"M127,-1033.85C127,-1026.24 127,-1017.45 127,-1009.09\"/>\n",
       "<polygon fill=\"black\" stroke=\"black\" points=\"130.5,-1009.22 127,-999.22 123.5,-1009.22 130.5,-1009.22\"/>\n",
       "</g>\n",
       "<!-- 15 -->\n",
       "<g id=\"node16\" class=\"node\">\n",
       "<title>15</title>\n",
       "<polygon fill=\"#c1ffc1\" stroke=\"none\" points=\"211,-917.75 41,-917.75 41,-873.75 211,-873.75 211,-917.75\"/>\n",
       "<polygon fill=\"none\" stroke=\"black\" points=\"41,-873.75 41,-917.75 90,-917.75 90,-873.75 41,-873.75\"/>\n",
       "<text text-anchor=\"start\" x=\"46\" y=\"-899\" font-family=\"Linux libertine\" font-size=\"10.00\">Dropout</text>\n",
       "<text text-anchor=\"start\" x=\"47.12\" y=\"-886.25\" font-family=\"Linux libertine\" font-size=\"10.00\">depth:2</text>\n",
       "<polygon fill=\"none\" stroke=\"black\" points=\"90,-895.75 90,-917.75 137,-917.75 137,-895.75 90,-895.75\"/>\n",
       "<text text-anchor=\"start\" x=\"99.62\" y=\"-903.25\" font-family=\"Linux libertine\" font-size=\"10.00\">input:</text>\n",
       "<polygon fill=\"none\" stroke=\"black\" points=\"137,-895.75 137,-917.75 211,-917.75 211,-895.75 137,-895.75\"/>\n",
       "<text text-anchor=\"start\" x=\"141.75\" y=\"-903.25\" font-family=\"Linux libertine\" font-size=\"10.00\">(1, 128, 4, 4) </text>\n",
       "<polygon fill=\"none\" stroke=\"black\" points=\"90,-873.75 90,-895.75 137,-895.75 137,-873.75 90,-873.75\"/>\n",
       "<text text-anchor=\"start\" x=\"94.75\" y=\"-881.25\" font-family=\"Linux libertine\" font-size=\"10.00\">output: </text>\n",
       "<polygon fill=\"none\" stroke=\"black\" points=\"137,-873.75 137,-895.75 211,-895.75 211,-873.75 137,-873.75\"/>\n",
       "<text text-anchor=\"start\" x=\"141.75\" y=\"-881.25\" font-family=\"Linux libertine\" font-size=\"10.00\">(1, 128, 4, 4) </text>\n",
       "</g>\n",
       "<!-- 14&#45;&gt;15 -->\n",
       "<g id=\"edge15\" class=\"edge\">\n",
       "<title>14&#45;&gt;15</title>\n",
       "<path fill=\"none\" stroke=\"black\" d=\"M126.73,-953.85C126.63,-946.24 126.52,-937.45 126.41,-929.09\"/>\n",
       "<polygon fill=\"black\" stroke=\"black\" points=\"129.92,-929.18 126.29,-919.22 122.92,-929.27 129.92,-929.18\"/>\n",
       "</g>\n",
       "<!-- 16 -->\n",
       "<g id=\"node17\" class=\"node\">\n",
       "<title>16</title>\n",
       "<polygon fill=\"#c1ffc1\" stroke=\"none\" points=\"218,-835.5 34,-835.5 34,-791.5 218,-791.5 218,-835.5\"/>\n",
       "<polygon fill=\"none\" stroke=\"black\" points=\"34,-791.5 34,-835.5 97,-835.5 97,-791.5 34,-791.5\"/>\n",
       "<text text-anchor=\"start\" x=\"38.88\" y=\"-816.75\" font-family=\"Linux libertine\" font-size=\"10.00\">BasicBlock</text>\n",
       "<text text-anchor=\"start\" x=\"47.12\" y=\"-804\" font-family=\"Linux libertine\" font-size=\"10.00\">depth:3</text>\n",
       "<polygon fill=\"none\" stroke=\"black\" points=\"97,-813.5 97,-835.5 144,-835.5 144,-813.5 97,-813.5\"/>\n",
       "<text text-anchor=\"start\" x=\"106.62\" y=\"-821\" font-family=\"Linux libertine\" font-size=\"10.00\">input:</text>\n",
       "<polygon fill=\"none\" stroke=\"black\" points=\"144,-813.5 144,-835.5 218,-835.5 218,-813.5 144,-813.5\"/>\n",
       "<text text-anchor=\"start\" x=\"148.75\" y=\"-821\" font-family=\"Linux libertine\" font-size=\"10.00\">(1, 128, 4, 4) </text>\n",
       "<polygon fill=\"none\" stroke=\"black\" points=\"97,-791.5 97,-813.5 144,-813.5 144,-791.5 97,-791.5\"/>\n",
       "<text text-anchor=\"start\" x=\"101.75\" y=\"-799\" font-family=\"Linux libertine\" font-size=\"10.00\">output: </text>\n",
       "<polygon fill=\"none\" stroke=\"black\" points=\"144,-791.5 144,-813.5 218,-813.5 218,-791.5 144,-791.5\"/>\n",
       "<text text-anchor=\"start\" x=\"148.75\" y=\"-799\" font-family=\"Linux libertine\" font-size=\"10.00\">(1, 256, 2, 2) </text>\n",
       "</g>\n",
       "<!-- 15&#45;&gt;16 -->\n",
       "<g id=\"edge16\" class=\"edge\">\n",
       "<title>15&#45;&gt;16</title>\n",
       "<path fill=\"none\" stroke=\"black\" d=\"M126,-874.08C126,-865.72 126,-855.88 126,-846.62\"/>\n",
       "<polygon fill=\"black\" stroke=\"black\" points=\"129.5,-846.89 126,-836.89 122.5,-846.89 129.5,-846.89\"/>\n",
       "</g>\n",
       "<!-- 17 -->\n",
       "<g id=\"node18\" class=\"node\">\n",
       "<title>17</title>\n",
       "<polygon fill=\"#c1ffc1\" stroke=\"none\" points=\"218,-755.5 34,-755.5 34,-711.5 218,-711.5 218,-755.5\"/>\n",
       "<polygon fill=\"none\" stroke=\"black\" points=\"34,-711.5 34,-755.5 97,-755.5 97,-711.5 34,-711.5\"/>\n",
       "<text text-anchor=\"start\" x=\"38.88\" y=\"-736.75\" font-family=\"Linux libertine\" font-size=\"10.00\">BasicBlock</text>\n",
       "<text text-anchor=\"start\" x=\"47.12\" y=\"-724\" font-family=\"Linux libertine\" font-size=\"10.00\">depth:3</text>\n",
       "<polygon fill=\"none\" stroke=\"black\" points=\"97,-733.5 97,-755.5 144,-755.5 144,-733.5 97,-733.5\"/>\n",
       "<text text-anchor=\"start\" x=\"106.62\" y=\"-741\" font-family=\"Linux libertine\" font-size=\"10.00\">input:</text>\n",
       "<polygon fill=\"none\" stroke=\"black\" points=\"144,-733.5 144,-755.5 218,-755.5 218,-733.5 144,-733.5\"/>\n",
       "<text text-anchor=\"start\" x=\"148.75\" y=\"-741\" font-family=\"Linux libertine\" font-size=\"10.00\">(1, 256, 2, 2) </text>\n",
       "<polygon fill=\"none\" stroke=\"black\" points=\"97,-711.5 97,-733.5 144,-733.5 144,-711.5 97,-711.5\"/>\n",
       "<text text-anchor=\"start\" x=\"101.75\" y=\"-719\" font-family=\"Linux libertine\" font-size=\"10.00\">output: </text>\n",
       "<polygon fill=\"none\" stroke=\"black\" points=\"144,-711.5 144,-733.5 218,-733.5 218,-711.5 144,-711.5\"/>\n",
       "<text text-anchor=\"start\" x=\"148.75\" y=\"-719\" font-family=\"Linux libertine\" font-size=\"10.00\">(1, 256, 2, 2) </text>\n",
       "</g>\n",
       "<!-- 16&#45;&gt;17 -->\n",
       "<g id=\"edge17\" class=\"edge\">\n",
       "<title>16&#45;&gt;17</title>\n",
       "<path fill=\"none\" stroke=\"black\" d=\"M126,-791.6C126,-783.99 126,-775.2 126,-766.84\"/>\n",
       "<polygon fill=\"black\" stroke=\"black\" points=\"129.5,-766.97 126,-756.97 122.5,-766.97 129.5,-766.97\"/>\n",
       "</g>\n",
       "<!-- 18 -->\n",
       "<g id=\"node19\" class=\"node\">\n",
       "<title>18</title>\n",
       "<polygon fill=\"#c1ffc1\" stroke=\"none\" points=\"211,-675.5 41,-675.5 41,-631.5 211,-631.5 211,-675.5\"/>\n",
       "<polygon fill=\"none\" stroke=\"black\" points=\"41,-631.5 41,-675.5 90,-675.5 90,-631.5 41,-631.5\"/>\n",
       "<text text-anchor=\"start\" x=\"46\" y=\"-656.75\" font-family=\"Linux libertine\" font-size=\"10.00\">Dropout</text>\n",
       "<text text-anchor=\"start\" x=\"47.12\" y=\"-644\" font-family=\"Linux libertine\" font-size=\"10.00\">depth:2</text>\n",
       "<polygon fill=\"none\" stroke=\"black\" points=\"90,-653.5 90,-675.5 137,-675.5 137,-653.5 90,-653.5\"/>\n",
       "<text text-anchor=\"start\" x=\"99.62\" y=\"-661\" font-family=\"Linux libertine\" font-size=\"10.00\">input:</text>\n",
       "<polygon fill=\"none\" stroke=\"black\" points=\"137,-653.5 137,-675.5 211,-675.5 211,-653.5 137,-653.5\"/>\n",
       "<text text-anchor=\"start\" x=\"141.75\" y=\"-661\" font-family=\"Linux libertine\" font-size=\"10.00\">(1, 256, 2, 2) </text>\n",
       "<polygon fill=\"none\" stroke=\"black\" points=\"90,-631.5 90,-653.5 137,-653.5 137,-631.5 90,-631.5\"/>\n",
       "<text text-anchor=\"start\" x=\"94.75\" y=\"-639\" font-family=\"Linux libertine\" font-size=\"10.00\">output: </text>\n",
       "<polygon fill=\"none\" stroke=\"black\" points=\"137,-631.5 137,-653.5 211,-653.5 211,-631.5 137,-631.5\"/>\n",
       "<text text-anchor=\"start\" x=\"141.75\" y=\"-639\" font-family=\"Linux libertine\" font-size=\"10.00\">(1, 256, 2, 2) </text>\n",
       "</g>\n",
       "<!-- 17&#45;&gt;18 -->\n",
       "<g id=\"edge18\" class=\"edge\">\n",
       "<title>17&#45;&gt;18</title>\n",
       "<path fill=\"none\" stroke=\"black\" d=\"M126,-711.6C126,-703.99 126,-695.2 126,-686.84\"/>\n",
       "<polygon fill=\"black\" stroke=\"black\" points=\"129.5,-686.97 126,-676.97 122.5,-686.97 129.5,-686.97\"/>\n",
       "</g>\n",
       "<!-- 19 -->\n",
       "<g id=\"node20\" class=\"node\">\n",
       "<title>19</title>\n",
       "<polygon fill=\"#c1ffc1\" stroke=\"none\" points=\"209.5,-595.5 42.5,-595.5 42.5,-551.5 209.5,-551.5 209.5,-595.5\"/>\n",
       "<polygon fill=\"none\" stroke=\"black\" points=\"42.5,-551.5 42.5,-595.5 88.5,-595.5 88.5,-551.5 42.5,-551.5\"/>\n",
       "<text text-anchor=\"start\" x=\"47.12\" y=\"-576.75\" font-family=\"Linux libertine\" font-size=\"10.00\">Conv2d</text>\n",
       "<text text-anchor=\"start\" x=\"47.12\" y=\"-564\" font-family=\"Linux libertine\" font-size=\"10.00\">depth:2</text>\n",
       "<polygon fill=\"none\" stroke=\"black\" points=\"88.5,-573.5 88.5,-595.5 135.5,-595.5 135.5,-573.5 88.5,-573.5\"/>\n",
       "<text text-anchor=\"start\" x=\"98.12\" y=\"-581\" font-family=\"Linux libertine\" font-size=\"10.00\">input:</text>\n",
       "<polygon fill=\"none\" stroke=\"black\" points=\"135.5,-573.5 135.5,-595.5 209.5,-595.5 209.5,-573.5 135.5,-573.5\"/>\n",
       "<text text-anchor=\"start\" x=\"140.25\" y=\"-581\" font-family=\"Linux libertine\" font-size=\"10.00\">(1, 256, 2, 2) </text>\n",
       "<polygon fill=\"none\" stroke=\"black\" points=\"88.5,-551.5 88.5,-573.5 135.5,-573.5 135.5,-551.5 88.5,-551.5\"/>\n",
       "<text text-anchor=\"start\" x=\"93.25\" y=\"-559\" font-family=\"Linux libertine\" font-size=\"10.00\">output: </text>\n",
       "<polygon fill=\"none\" stroke=\"black\" points=\"135.5,-551.5 135.5,-573.5 209.5,-573.5 209.5,-551.5 135.5,-551.5\"/>\n",
       "<text text-anchor=\"start\" x=\"143.25\" y=\"-559\" font-family=\"Linux libertine\" font-size=\"10.00\">(1, 64, 3, 3) </text>\n",
       "</g>\n",
       "<!-- 18&#45;&gt;19 -->\n",
       "<g id=\"edge19\" class=\"edge\">\n",
       "<title>18&#45;&gt;19</title>\n",
       "<path fill=\"none\" stroke=\"black\" d=\"M126,-631.6C126,-623.99 126,-615.2 126,-606.84\"/>\n",
       "<polygon fill=\"black\" stroke=\"black\" points=\"129.5,-606.97 126,-596.97 122.5,-606.97 129.5,-606.97\"/>\n",
       "</g>\n",
       "<!-- 20 -->\n",
       "<g id=\"node21\" class=\"node\">\n",
       "<title>20</title>\n",
       "<polygon fill=\"#c1ffc1\" stroke=\"none\" points=\"235.5,-515.5 16.5,-515.5 16.5,-471.5 235.5,-471.5 235.5,-515.5\"/>\n",
       "<polygon fill=\"none\" stroke=\"black\" points=\"16.5,-471.5 16.5,-515.5 120.5,-515.5 120.5,-471.5 16.5,-471.5\"/>\n",
       "<text text-anchor=\"start\" x=\"21.25\" y=\"-496.75\" font-family=\"Linux libertine\" font-size=\"10.00\">AdaptiveAvgPool2d</text>\n",
       "<text text-anchor=\"start\" x=\"50.12\" y=\"-484\" font-family=\"Linux libertine\" font-size=\"10.00\">depth:2</text>\n",
       "<polygon fill=\"none\" stroke=\"black\" points=\"120.5,-493.5 120.5,-515.5 167.5,-515.5 167.5,-493.5 120.5,-493.5\"/>\n",
       "<text text-anchor=\"start\" x=\"130.12\" y=\"-501\" font-family=\"Linux libertine\" font-size=\"10.00\">input:</text>\n",
       "<polygon fill=\"none\" stroke=\"black\" points=\"167.5,-493.5 167.5,-515.5 235.5,-515.5 235.5,-493.5 167.5,-493.5\"/>\n",
       "<text text-anchor=\"start\" x=\"172.25\" y=\"-501\" font-family=\"Linux libertine\" font-size=\"10.00\">(1, 64, 3, 3) </text>\n",
       "<polygon fill=\"none\" stroke=\"black\" points=\"120.5,-471.5 120.5,-493.5 167.5,-493.5 167.5,-471.5 120.5,-471.5\"/>\n",
       "<text text-anchor=\"start\" x=\"125.25\" y=\"-479\" font-family=\"Linux libertine\" font-size=\"10.00\">output: </text>\n",
       "<polygon fill=\"none\" stroke=\"black\" points=\"167.5,-471.5 167.5,-493.5 235.5,-493.5 235.5,-471.5 167.5,-471.5\"/>\n",
       "<text text-anchor=\"start\" x=\"172.25\" y=\"-479\" font-family=\"Linux libertine\" font-size=\"10.00\">(1, 64, 1, 1) </text>\n",
       "</g>\n",
       "<!-- 19&#45;&gt;20 -->\n",
       "<g id=\"edge20\" class=\"edge\">\n",
       "<title>19&#45;&gt;20</title>\n",
       "<path fill=\"none\" stroke=\"black\" d=\"M126,-551.6C126,-543.99 126,-535.2 126,-526.84\"/>\n",
       "<polygon fill=\"black\" stroke=\"black\" points=\"129.5,-526.97 126,-516.97 122.5,-526.97 129.5,-526.97\"/>\n",
       "</g>\n",
       "<!-- 21 -->\n",
       "<g id=\"node22\" class=\"node\">\n",
       "<title>21</title>\n",
       "<polygon fill=\"aliceblue\" stroke=\"none\" points=\"220.5,-435.5 59.5,-435.5 59.5,-391.5 220.5,-391.5 220.5,-435.5\"/>\n",
       "<polygon fill=\"none\" stroke=\"black\" points=\"59.5,-391.5 59.5,-435.5 105.5,-435.5 105.5,-391.5 59.5,-391.5\"/>\n",
       "<text text-anchor=\"start\" x=\"66.75\" y=\"-416.75\" font-family=\"Linux libertine\" font-size=\"10.00\">flatten</text>\n",
       "<text text-anchor=\"start\" x=\"64.12\" y=\"-404\" font-family=\"Linux libertine\" font-size=\"10.00\">depth:2</text>\n",
       "<polygon fill=\"none\" stroke=\"black\" points=\"105.5,-413.5 105.5,-435.5 152.5,-435.5 152.5,-413.5 105.5,-413.5\"/>\n",
       "<text text-anchor=\"start\" x=\"115.12\" y=\"-421\" font-family=\"Linux libertine\" font-size=\"10.00\">input:</text>\n",
       "<polygon fill=\"none\" stroke=\"black\" points=\"152.5,-413.5 152.5,-435.5 220.5,-435.5 220.5,-413.5 152.5,-413.5\"/>\n",
       "<text text-anchor=\"start\" x=\"157.25\" y=\"-421\" font-family=\"Linux libertine\" font-size=\"10.00\">(1, 64, 1, 1) </text>\n",
       "<polygon fill=\"none\" stroke=\"black\" points=\"105.5,-391.5 105.5,-413.5 152.5,-413.5 152.5,-391.5 105.5,-391.5\"/>\n",
       "<text text-anchor=\"start\" x=\"110.25\" y=\"-399\" font-family=\"Linux libertine\" font-size=\"10.00\">output: </text>\n",
       "<polygon fill=\"none\" stroke=\"black\" points=\"152.5,-391.5 152.5,-413.5 220.5,-413.5 220.5,-391.5 152.5,-391.5\"/>\n",
       "<text text-anchor=\"start\" x=\"169.25\" y=\"-399\" font-family=\"Linux libertine\" font-size=\"10.00\">(1, 64) </text>\n",
       "</g>\n",
       "<!-- 20&#45;&gt;21 -->\n",
       "<g id=\"edge21\" class=\"edge\">\n",
       "<title>20&#45;&gt;21</title>\n",
       "<path fill=\"none\" stroke=\"black\" d=\"M129.75,-471.6C131.13,-463.9 132.73,-455 134.25,-446.55\"/>\n",
       "<polygon fill=\"black\" stroke=\"black\" points=\"137.65,-447.41 135.97,-436.95 130.76,-446.17 137.65,-447.41\"/>\n",
       "</g>\n",
       "<!-- 39 -->\n",
       "<g id=\"node40\" class=\"node\">\n",
       "<title>39</title>\n",
       "<polygon fill=\"aliceblue\" stroke=\"none\" points=\"331.5,-355.5 176.5,-355.5 176.5,-311.5 331.5,-311.5 331.5,-355.5\"/>\n",
       "<polygon fill=\"none\" stroke=\"black\" points=\"176.5,-311.5 176.5,-355.5 222.5,-355.5 222.5,-311.5 176.5,-311.5\"/>\n",
       "<text text-anchor=\"start\" x=\"190.5\" y=\"-336.75\" font-family=\"Linux libertine\" font-size=\"10.00\">add</text>\n",
       "<text text-anchor=\"start\" x=\"181.12\" y=\"-324\" font-family=\"Linux libertine\" font-size=\"10.00\">depth:1</text>\n",
       "<polygon fill=\"none\" stroke=\"black\" points=\"222.5,-333.5 222.5,-355.5 269.5,-355.5 269.5,-333.5 222.5,-333.5\"/>\n",
       "<text text-anchor=\"start\" x=\"232.12\" y=\"-341\" font-family=\"Linux libertine\" font-size=\"10.00\">input:</text>\n",
       "<polygon fill=\"none\" stroke=\"black\" points=\"269.5,-333.5 269.5,-355.5 331.5,-355.5 331.5,-333.5 269.5,-333.5\"/>\n",
       "<text text-anchor=\"start\" x=\"274.25\" y=\"-341\" font-family=\"Linux libertine\" font-size=\"10.00\">2 x (1, 64) </text>\n",
       "<polygon fill=\"none\" stroke=\"black\" points=\"222.5,-311.5 222.5,-333.5 269.5,-333.5 269.5,-311.5 222.5,-311.5\"/>\n",
       "<text text-anchor=\"start\" x=\"227.25\" y=\"-319\" font-family=\"Linux libertine\" font-size=\"10.00\">output: </text>\n",
       "<polygon fill=\"none\" stroke=\"black\" points=\"269.5,-311.5 269.5,-333.5 331.5,-333.5 331.5,-311.5 269.5,-311.5\"/>\n",
       "<text text-anchor=\"start\" x=\"283.25\" y=\"-319\" font-family=\"Linux libertine\" font-size=\"10.00\">(1, 64) </text>\n",
       "</g>\n",
       "<!-- 21&#45;&gt;39 -->\n",
       "<g id=\"edge22\" class=\"edge\">\n",
       "<title>21&#45;&gt;39</title>\n",
       "<path fill=\"none\" stroke=\"black\" d=\"M170.55,-391.6C183.97,-382.42 199.9,-371.52 214.22,-361.71\"/>\n",
       "<polygon fill=\"black\" stroke=\"black\" points=\"215.84,-364.85 222.12,-356.31 211.89,-359.07 215.84,-364.85\"/>\n",
       "</g>\n",
       "<!-- 23 -->\n",
       "<g id=\"node24\" class=\"node\">\n",
       "<title>23</title>\n",
       "<polygon fill=\"#c1ffc1\" stroke=\"none\" points=\"467.5,-1642.25 264.5,-1642.25 264.5,-1598.25 467.5,-1598.25 467.5,-1642.25\"/>\n",
       "<polygon fill=\"none\" stroke=\"black\" points=\"264.5,-1598.25 264.5,-1642.25 340.5,-1642.25 340.5,-1598.25 264.5,-1598.25\"/>\n",
       "<text text-anchor=\"start\" x=\"269.12\" y=\"-1623.5\" font-family=\"Linux libertine\" font-size=\"10.00\">BatchNorm2d</text>\n",
       "<text text-anchor=\"start\" x=\"284.12\" y=\"-1610.75\" font-family=\"Linux libertine\" font-size=\"10.00\">depth:2</text>\n",
       "<polygon fill=\"none\" stroke=\"black\" points=\"340.5,-1620.25 340.5,-1642.25 387.5,-1642.25 387.5,-1620.25 340.5,-1620.25\"/>\n",
       "<text text-anchor=\"start\" x=\"350.12\" y=\"-1627.75\" font-family=\"Linux libertine\" font-size=\"10.00\">input:</text>\n",
       "<polygon fill=\"none\" stroke=\"black\" points=\"387.5,-1620.25 387.5,-1642.25 467.5,-1642.25 467.5,-1620.25 387.5,-1620.25\"/>\n",
       "<text text-anchor=\"start\" x=\"392.25\" y=\"-1627.75\" font-family=\"Linux libertine\" font-size=\"10.00\">(1, 64, 16, 16) </text>\n",
       "<polygon fill=\"none\" stroke=\"black\" points=\"340.5,-1598.25 340.5,-1620.25 387.5,-1620.25 387.5,-1598.25 340.5,-1598.25\"/>\n",
       "<text text-anchor=\"start\" x=\"345.25\" y=\"-1605.75\" font-family=\"Linux libertine\" font-size=\"10.00\">output: </text>\n",
       "<polygon fill=\"none\" stroke=\"black\" points=\"387.5,-1598.25 387.5,-1620.25 467.5,-1620.25 467.5,-1598.25 387.5,-1598.25\"/>\n",
       "<text text-anchor=\"start\" x=\"392.25\" y=\"-1605.75\" font-family=\"Linux libertine\" font-size=\"10.00\">(1, 64, 16, 16) </text>\n",
       "</g>\n",
       "<!-- 22&#45;&gt;23 -->\n",
       "<g id=\"edge24\" class=\"edge\">\n",
       "<title>22&#45;&gt;23</title>\n",
       "<path fill=\"none\" stroke=\"black\" d=\"M357.22,-1678.35C358.39,-1670.74 359.74,-1661.95 361.02,-1653.59\"/>\n",
       "<polygon fill=\"black\" stroke=\"black\" points=\"364.48,-1654.12 362.55,-1643.71 357.57,-1653.06 364.48,-1654.12\"/>\n",
       "</g>\n",
       "<!-- 24 -->\n",
       "<g id=\"node25\" class=\"node\">\n",
       "<title>24</title>\n",
       "<polygon fill=\"#c1ffc1\" stroke=\"none\" points=\"452.5,-1562.25 279.5,-1562.25 279.5,-1518.25 452.5,-1518.25 452.5,-1562.25\"/>\n",
       "<polygon fill=\"none\" stroke=\"black\" points=\"279.5,-1518.25 279.5,-1562.25 325.5,-1562.25 325.5,-1518.25 279.5,-1518.25\"/>\n",
       "<text text-anchor=\"start\" x=\"289.75\" y=\"-1543.5\" font-family=\"Linux libertine\" font-size=\"10.00\">ReLU</text>\n",
       "<text text-anchor=\"start\" x=\"284.12\" y=\"-1530.75\" font-family=\"Linux libertine\" font-size=\"10.00\">depth:2</text>\n",
       "<polygon fill=\"none\" stroke=\"black\" points=\"325.5,-1540.25 325.5,-1562.25 372.5,-1562.25 372.5,-1540.25 325.5,-1540.25\"/>\n",
       "<text text-anchor=\"start\" x=\"335.12\" y=\"-1547.75\" font-family=\"Linux libertine\" font-size=\"10.00\">input:</text>\n",
       "<polygon fill=\"none\" stroke=\"black\" points=\"372.5,-1540.25 372.5,-1562.25 452.5,-1562.25 452.5,-1540.25 372.5,-1540.25\"/>\n",
       "<text text-anchor=\"start\" x=\"377.25\" y=\"-1547.75\" font-family=\"Linux libertine\" font-size=\"10.00\">(1, 64, 16, 16) </text>\n",
       "<polygon fill=\"none\" stroke=\"black\" points=\"325.5,-1518.25 325.5,-1540.25 372.5,-1540.25 372.5,-1518.25 325.5,-1518.25\"/>\n",
       "<text text-anchor=\"start\" x=\"330.25\" y=\"-1525.75\" font-family=\"Linux libertine\" font-size=\"10.00\">output: </text>\n",
       "<polygon fill=\"none\" stroke=\"black\" points=\"372.5,-1518.25 372.5,-1540.25 452.5,-1540.25 452.5,-1518.25 372.5,-1518.25\"/>\n",
       "<text text-anchor=\"start\" x=\"377.25\" y=\"-1525.75\" font-family=\"Linux libertine\" font-size=\"10.00\">(1, 64, 16, 16) </text>\n",
       "</g>\n",
       "<!-- 23&#45;&gt;24 -->\n",
       "<g id=\"edge25\" class=\"edge\">\n",
       "<title>23&#45;&gt;24</title>\n",
       "<path fill=\"none\" stroke=\"black\" d=\"M366,-1598.35C366,-1590.74 366,-1581.95 366,-1573.59\"/>\n",
       "<polygon fill=\"black\" stroke=\"black\" points=\"369.5,-1573.72 366,-1563.72 362.5,-1573.72 369.5,-1573.72\"/>\n",
       "</g>\n",
       "<!-- 25 -->\n",
       "<g id=\"node26\" class=\"node\">\n",
       "<title>25</title>\n",
       "<polygon fill=\"#c1ffc1\" stroke=\"none\" points=\"463.5,-1482.25 272.5,-1482.25 272.5,-1438.25 463.5,-1438.25 463.5,-1482.25\"/>\n",
       "<polygon fill=\"none\" stroke=\"black\" points=\"272.5,-1438.25 272.5,-1482.25 336.5,-1482.25 336.5,-1438.25 272.5,-1438.25\"/>\n",
       "<text text-anchor=\"start\" x=\"277.5\" y=\"-1463.5\" font-family=\"Linux libertine\" font-size=\"10.00\">MaxPool2d</text>\n",
       "<text text-anchor=\"start\" x=\"286.12\" y=\"-1450.75\" font-family=\"Linux libertine\" font-size=\"10.00\">depth:2</text>\n",
       "<polygon fill=\"none\" stroke=\"black\" points=\"336.5,-1460.25 336.5,-1482.25 383.5,-1482.25 383.5,-1460.25 336.5,-1460.25\"/>\n",
       "<text text-anchor=\"start\" x=\"346.12\" y=\"-1467.75\" font-family=\"Linux libertine\" font-size=\"10.00\">input:</text>\n",
       "<polygon fill=\"none\" stroke=\"black\" points=\"383.5,-1460.25 383.5,-1482.25 463.5,-1482.25 463.5,-1460.25 383.5,-1460.25\"/>\n",
       "<text text-anchor=\"start\" x=\"388.25\" y=\"-1467.75\" font-family=\"Linux libertine\" font-size=\"10.00\">(1, 64, 16, 16) </text>\n",
       "<polygon fill=\"none\" stroke=\"black\" points=\"336.5,-1438.25 336.5,-1460.25 383.5,-1460.25 383.5,-1438.25 336.5,-1438.25\"/>\n",
       "<text text-anchor=\"start\" x=\"341.25\" y=\"-1445.75\" font-family=\"Linux libertine\" font-size=\"10.00\">output: </text>\n",
       "<polygon fill=\"none\" stroke=\"black\" points=\"383.5,-1438.25 383.5,-1460.25 463.5,-1460.25 463.5,-1438.25 383.5,-1438.25\"/>\n",
       "<text text-anchor=\"start\" x=\"394.25\" y=\"-1445.75\" font-family=\"Linux libertine\" font-size=\"10.00\">(1, 64, 8, 8) </text>\n",
       "</g>\n",
       "<!-- 24&#45;&gt;25 -->\n",
       "<g id=\"edge26\" class=\"edge\">\n",
       "<title>24&#45;&gt;25</title>\n",
       "<path fill=\"none\" stroke=\"black\" d=\"M366.54,-1518.35C366.73,-1510.74 366.96,-1501.95 367.17,-1493.59\"/>\n",
       "<polygon fill=\"black\" stroke=\"black\" points=\"370.67,-1493.81 367.42,-1483.72 363.67,-1493.63 370.67,-1493.81\"/>\n",
       "</g>\n",
       "<!-- 26 -->\n",
       "<g id=\"node27\" class=\"node\">\n",
       "<title>26</title>\n",
       "<polygon fill=\"#c1ffc1\" stroke=\"none\" points=\"458,-1400 280,-1400 280,-1356 458,-1356 458,-1400\"/>\n",
       "<polygon fill=\"none\" stroke=\"black\" points=\"280,-1356 280,-1400 343,-1400 343,-1356 280,-1356\"/>\n",
       "<text text-anchor=\"start\" x=\"284.88\" y=\"-1381.25\" font-family=\"Linux libertine\" font-size=\"10.00\">BasicBlock</text>\n",
       "<text text-anchor=\"start\" x=\"293.12\" y=\"-1368.5\" font-family=\"Linux libertine\" font-size=\"10.00\">depth:3</text>\n",
       "<polygon fill=\"none\" stroke=\"black\" points=\"343,-1378 343,-1400 390,-1400 390,-1378 343,-1378\"/>\n",
       "<text text-anchor=\"start\" x=\"352.62\" y=\"-1385.5\" font-family=\"Linux libertine\" font-size=\"10.00\">input:</text>\n",
       "<polygon fill=\"none\" stroke=\"black\" points=\"390,-1378 390,-1400 458,-1400 458,-1378 390,-1378\"/>\n",
       "<text text-anchor=\"start\" x=\"394.75\" y=\"-1385.5\" font-family=\"Linux libertine\" font-size=\"10.00\">(1, 64, 8, 8) </text>\n",
       "<polygon fill=\"none\" stroke=\"black\" points=\"343,-1356 343,-1378 390,-1378 390,-1356 343,-1356\"/>\n",
       "<text text-anchor=\"start\" x=\"347.75\" y=\"-1363.5\" font-family=\"Linux libertine\" font-size=\"10.00\">output: </text>\n",
       "<polygon fill=\"none\" stroke=\"black\" points=\"390,-1356 390,-1378 458,-1378 458,-1356 390,-1356\"/>\n",
       "<text text-anchor=\"start\" x=\"394.75\" y=\"-1363.5\" font-family=\"Linux libertine\" font-size=\"10.00\">(1, 64, 8, 8) </text>\n",
       "</g>\n",
       "<!-- 25&#45;&gt;26 -->\n",
       "<g id=\"edge27\" class=\"edge\">\n",
       "<title>25&#45;&gt;26</title>\n",
       "<path fill=\"none\" stroke=\"black\" d=\"M368.26,-1438.58C368.36,-1430.22 368.48,-1420.38 368.6,-1411.12\"/>\n",
       "<polygon fill=\"black\" stroke=\"black\" points=\"372.1,-1411.43 368.72,-1401.39 365.1,-1411.34 372.1,-1411.43\"/>\n",
       "</g>\n",
       "<!-- 27 -->\n",
       "<g id=\"node28\" class=\"node\">\n",
       "<title>27</title>\n",
       "<polygon fill=\"#c1ffc1\" stroke=\"none\" points=\"458,-1320 280,-1320 280,-1276 458,-1276 458,-1320\"/>\n",
       "<polygon fill=\"none\" stroke=\"black\" points=\"280,-1276 280,-1320 343,-1320 343,-1276 280,-1276\"/>\n",
       "<text text-anchor=\"start\" x=\"284.88\" y=\"-1301.25\" font-family=\"Linux libertine\" font-size=\"10.00\">BasicBlock</text>\n",
       "<text text-anchor=\"start\" x=\"293.12\" y=\"-1288.5\" font-family=\"Linux libertine\" font-size=\"10.00\">depth:3</text>\n",
       "<polygon fill=\"none\" stroke=\"black\" points=\"343,-1298 343,-1320 390,-1320 390,-1298 343,-1298\"/>\n",
       "<text text-anchor=\"start\" x=\"352.62\" y=\"-1305.5\" font-family=\"Linux libertine\" font-size=\"10.00\">input:</text>\n",
       "<polygon fill=\"none\" stroke=\"black\" points=\"390,-1298 390,-1320 458,-1320 458,-1298 390,-1298\"/>\n",
       "<text text-anchor=\"start\" x=\"394.75\" y=\"-1305.5\" font-family=\"Linux libertine\" font-size=\"10.00\">(1, 64, 8, 8) </text>\n",
       "<polygon fill=\"none\" stroke=\"black\" points=\"343,-1276 343,-1298 390,-1298 390,-1276 343,-1276\"/>\n",
       "<text text-anchor=\"start\" x=\"347.75\" y=\"-1283.5\" font-family=\"Linux libertine\" font-size=\"10.00\">output: </text>\n",
       "<polygon fill=\"none\" stroke=\"black\" points=\"390,-1276 390,-1298 458,-1298 458,-1276 390,-1276\"/>\n",
       "<text text-anchor=\"start\" x=\"394.75\" y=\"-1283.5\" font-family=\"Linux libertine\" font-size=\"10.00\">(1, 64, 8, 8) </text>\n",
       "</g>\n",
       "<!-- 26&#45;&gt;27 -->\n",
       "<g id=\"edge28\" class=\"edge\">\n",
       "<title>26&#45;&gt;27</title>\n",
       "<path fill=\"none\" stroke=\"black\" d=\"M369,-1356.1C369,-1348.49 369,-1339.7 369,-1331.34\"/>\n",
       "<polygon fill=\"black\" stroke=\"black\" points=\"372.5,-1331.47 369,-1321.47 365.5,-1331.47 372.5,-1331.47\"/>\n",
       "</g>\n",
       "<!-- 28 -->\n",
       "<g id=\"node29\" class=\"node\">\n",
       "<title>28</title>\n",
       "<polygon fill=\"#c1ffc1\" stroke=\"none\" points=\"451,-1240 287,-1240 287,-1196 451,-1196 451,-1240\"/>\n",
       "<polygon fill=\"none\" stroke=\"black\" points=\"287,-1196 287,-1240 336,-1240 336,-1196 287,-1196\"/>\n",
       "<text text-anchor=\"start\" x=\"292\" y=\"-1221.25\" font-family=\"Linux libertine\" font-size=\"10.00\">Dropout</text>\n",
       "<text text-anchor=\"start\" x=\"293.12\" y=\"-1208.5\" font-family=\"Linux libertine\" font-size=\"10.00\">depth:2</text>\n",
       "<polygon fill=\"none\" stroke=\"black\" points=\"336,-1218 336,-1240 383,-1240 383,-1218 336,-1218\"/>\n",
       "<text text-anchor=\"start\" x=\"345.62\" y=\"-1225.5\" font-family=\"Linux libertine\" font-size=\"10.00\">input:</text>\n",
       "<polygon fill=\"none\" stroke=\"black\" points=\"383,-1218 383,-1240 451,-1240 451,-1218 383,-1218\"/>\n",
       "<text text-anchor=\"start\" x=\"387.75\" y=\"-1225.5\" font-family=\"Linux libertine\" font-size=\"10.00\">(1, 64, 8, 8) </text>\n",
       "<polygon fill=\"none\" stroke=\"black\" points=\"336,-1196 336,-1218 383,-1218 383,-1196 336,-1196\"/>\n",
       "<text text-anchor=\"start\" x=\"340.75\" y=\"-1203.5\" font-family=\"Linux libertine\" font-size=\"10.00\">output: </text>\n",
       "<polygon fill=\"none\" stroke=\"black\" points=\"383,-1196 383,-1218 451,-1218 451,-1196 383,-1196\"/>\n",
       "<text text-anchor=\"start\" x=\"387.75\" y=\"-1203.5\" font-family=\"Linux libertine\" font-size=\"10.00\">(1, 64, 8, 8) </text>\n",
       "</g>\n",
       "<!-- 27&#45;&gt;28 -->\n",
       "<g id=\"edge29\" class=\"edge\">\n",
       "<title>27&#45;&gt;28</title>\n",
       "<path fill=\"none\" stroke=\"black\" d=\"M369,-1276.1C369,-1268.49 369,-1259.7 369,-1251.34\"/>\n",
       "<polygon fill=\"black\" stroke=\"black\" points=\"372.5,-1251.47 369,-1241.47 365.5,-1251.47 372.5,-1251.47\"/>\n",
       "</g>\n",
       "<!-- 29 -->\n",
       "<g id=\"node30\" class=\"node\">\n",
       "<title>29</title>\n",
       "<polygon fill=\"#c1ffc1\" stroke=\"none\" points=\"449.5,-1160 288.5,-1160 288.5,-1116 449.5,-1116 449.5,-1160\"/>\n",
       "<polygon fill=\"none\" stroke=\"black\" points=\"288.5,-1116 288.5,-1160 334.5,-1160 334.5,-1116 288.5,-1116\"/>\n",
       "<text text-anchor=\"start\" x=\"298.75\" y=\"-1141.25\" font-family=\"Linux libertine\" font-size=\"10.00\">ReLU</text>\n",
       "<text text-anchor=\"start\" x=\"293.12\" y=\"-1128.5\" font-family=\"Linux libertine\" font-size=\"10.00\">depth:2</text>\n",
       "<polygon fill=\"none\" stroke=\"black\" points=\"334.5,-1138 334.5,-1160 381.5,-1160 381.5,-1138 334.5,-1138\"/>\n",
       "<text text-anchor=\"start\" x=\"344.12\" y=\"-1145.5\" font-family=\"Linux libertine\" font-size=\"10.00\">input:</text>\n",
       "<polygon fill=\"none\" stroke=\"black\" points=\"381.5,-1138 381.5,-1160 449.5,-1160 449.5,-1138 381.5,-1138\"/>\n",
       "<text text-anchor=\"start\" x=\"386.25\" y=\"-1145.5\" font-family=\"Linux libertine\" font-size=\"10.00\">(1, 64, 8, 8) </text>\n",
       "<polygon fill=\"none\" stroke=\"black\" points=\"334.5,-1116 334.5,-1138 381.5,-1138 381.5,-1116 334.5,-1116\"/>\n",
       "<text text-anchor=\"start\" x=\"339.25\" y=\"-1123.5\" font-family=\"Linux libertine\" font-size=\"10.00\">output: </text>\n",
       "<polygon fill=\"none\" stroke=\"black\" points=\"381.5,-1116 381.5,-1138 449.5,-1138 449.5,-1116 381.5,-1116\"/>\n",
       "<text text-anchor=\"start\" x=\"386.25\" y=\"-1123.5\" font-family=\"Linux libertine\" font-size=\"10.00\">(1, 64, 8, 8) </text>\n",
       "</g>\n",
       "<!-- 28&#45;&gt;29 -->\n",
       "<g id=\"edge30\" class=\"edge\">\n",
       "<title>28&#45;&gt;29</title>\n",
       "<path fill=\"none\" stroke=\"black\" d=\"M369,-1196.1C369,-1188.49 369,-1179.7 369,-1171.34\"/>\n",
       "<polygon fill=\"black\" stroke=\"black\" points=\"372.5,-1171.47 369,-1161.47 365.5,-1171.47 372.5,-1171.47\"/>\n",
       "</g>\n",
       "<!-- 30 -->\n",
       "<g id=\"node31\" class=\"node\">\n",
       "<title>30</title>\n",
       "<polygon fill=\"#c1ffc1\" stroke=\"none\" points=\"461,-1077.75 277,-1077.75 277,-1033.75 461,-1033.75 461,-1077.75\"/>\n",
       "<polygon fill=\"none\" stroke=\"black\" points=\"277,-1033.75 277,-1077.75 340,-1077.75 340,-1033.75 277,-1033.75\"/>\n",
       "<text text-anchor=\"start\" x=\"281.88\" y=\"-1059\" font-family=\"Linux libertine\" font-size=\"10.00\">BasicBlock</text>\n",
       "<text text-anchor=\"start\" x=\"290.12\" y=\"-1046.25\" font-family=\"Linux libertine\" font-size=\"10.00\">depth:3</text>\n",
       "<polygon fill=\"none\" stroke=\"black\" points=\"340,-1055.75 340,-1077.75 387,-1077.75 387,-1055.75 340,-1055.75\"/>\n",
       "<text text-anchor=\"start\" x=\"349.62\" y=\"-1063.25\" font-family=\"Linux libertine\" font-size=\"10.00\">input:</text>\n",
       "<polygon fill=\"none\" stroke=\"black\" points=\"387,-1055.75 387,-1077.75 461,-1077.75 461,-1055.75 387,-1055.75\"/>\n",
       "<text text-anchor=\"start\" x=\"394.75\" y=\"-1063.25\" font-family=\"Linux libertine\" font-size=\"10.00\">(1, 64, 8, 8) </text>\n",
       "<polygon fill=\"none\" stroke=\"black\" points=\"340,-1033.75 340,-1055.75 387,-1055.75 387,-1033.75 340,-1033.75\"/>\n",
       "<text text-anchor=\"start\" x=\"344.75\" y=\"-1041.25\" font-family=\"Linux libertine\" font-size=\"10.00\">output: </text>\n",
       "<polygon fill=\"none\" stroke=\"black\" points=\"387,-1033.75 387,-1055.75 461,-1055.75 461,-1033.75 387,-1033.75\"/>\n",
       "<text text-anchor=\"start\" x=\"391.75\" y=\"-1041.25\" font-family=\"Linux libertine\" font-size=\"10.00\">(1, 128, 4, 4) </text>\n",
       "</g>\n",
       "<!-- 29&#45;&gt;30 -->\n",
       "<g id=\"edge31\" class=\"edge\">\n",
       "<title>29&#45;&gt;30</title>\n",
       "<path fill=\"none\" stroke=\"black\" d=\"M369,-1116.33C369,-1107.97 369,-1098.13 369,-1088.87\"/>\n",
       "<polygon fill=\"black\" stroke=\"black\" points=\"372.5,-1089.14 369,-1079.14 365.5,-1089.14 372.5,-1089.14\"/>\n",
       "</g>\n",
       "<!-- 31 -->\n",
       "<g id=\"node32\" class=\"node\">\n",
       "<title>31</title>\n",
       "<polygon fill=\"#c1ffc1\" stroke=\"none\" points=\"461,-997.75 277,-997.75 277,-953.75 461,-953.75 461,-997.75\"/>\n",
       "<polygon fill=\"none\" stroke=\"black\" points=\"277,-953.75 277,-997.75 340,-997.75 340,-953.75 277,-953.75\"/>\n",
       "<text text-anchor=\"start\" x=\"281.88\" y=\"-979\" font-family=\"Linux libertine\" font-size=\"10.00\">BasicBlock</text>\n",
       "<text text-anchor=\"start\" x=\"290.12\" y=\"-966.25\" font-family=\"Linux libertine\" font-size=\"10.00\">depth:3</text>\n",
       "<polygon fill=\"none\" stroke=\"black\" points=\"340,-975.75 340,-997.75 387,-997.75 387,-975.75 340,-975.75\"/>\n",
       "<text text-anchor=\"start\" x=\"349.62\" y=\"-983.25\" font-family=\"Linux libertine\" font-size=\"10.00\">input:</text>\n",
       "<polygon fill=\"none\" stroke=\"black\" points=\"387,-975.75 387,-997.75 461,-997.75 461,-975.75 387,-975.75\"/>\n",
       "<text text-anchor=\"start\" x=\"391.75\" y=\"-983.25\" font-family=\"Linux libertine\" font-size=\"10.00\">(1, 128, 4, 4) </text>\n",
       "<polygon fill=\"none\" stroke=\"black\" points=\"340,-953.75 340,-975.75 387,-975.75 387,-953.75 340,-953.75\"/>\n",
       "<text text-anchor=\"start\" x=\"344.75\" y=\"-961.25\" font-family=\"Linux libertine\" font-size=\"10.00\">output: </text>\n",
       "<polygon fill=\"none\" stroke=\"black\" points=\"387,-953.75 387,-975.75 461,-975.75 461,-953.75 387,-953.75\"/>\n",
       "<text text-anchor=\"start\" x=\"391.75\" y=\"-961.25\" font-family=\"Linux libertine\" font-size=\"10.00\">(1, 128, 4, 4) </text>\n",
       "</g>\n",
       "<!-- 30&#45;&gt;31 -->\n",
       "<g id=\"edge32\" class=\"edge\">\n",
       "<title>30&#45;&gt;31</title>\n",
       "<path fill=\"none\" stroke=\"black\" d=\"M369,-1033.85C369,-1026.24 369,-1017.45 369,-1009.09\"/>\n",
       "<polygon fill=\"black\" stroke=\"black\" points=\"372.5,-1009.22 369,-999.22 365.5,-1009.22 372.5,-1009.22\"/>\n",
       "</g>\n",
       "<!-- 32 -->\n",
       "<g id=\"node33\" class=\"node\">\n",
       "<title>32</title>\n",
       "<polygon fill=\"#c1ffc1\" stroke=\"none\" points=\"454,-917.75 284,-917.75 284,-873.75 454,-873.75 454,-917.75\"/>\n",
       "<polygon fill=\"none\" stroke=\"black\" points=\"284,-873.75 284,-917.75 333,-917.75 333,-873.75 284,-873.75\"/>\n",
       "<text text-anchor=\"start\" x=\"289\" y=\"-899\" font-family=\"Linux libertine\" font-size=\"10.00\">Dropout</text>\n",
       "<text text-anchor=\"start\" x=\"290.12\" y=\"-886.25\" font-family=\"Linux libertine\" font-size=\"10.00\">depth:2</text>\n",
       "<polygon fill=\"none\" stroke=\"black\" points=\"333,-895.75 333,-917.75 380,-917.75 380,-895.75 333,-895.75\"/>\n",
       "<text text-anchor=\"start\" x=\"342.62\" y=\"-903.25\" font-family=\"Linux libertine\" font-size=\"10.00\">input:</text>\n",
       "<polygon fill=\"none\" stroke=\"black\" points=\"380,-895.75 380,-917.75 454,-917.75 454,-895.75 380,-895.75\"/>\n",
       "<text text-anchor=\"start\" x=\"384.75\" y=\"-903.25\" font-family=\"Linux libertine\" font-size=\"10.00\">(1, 128, 4, 4) </text>\n",
       "<polygon fill=\"none\" stroke=\"black\" points=\"333,-873.75 333,-895.75 380,-895.75 380,-873.75 333,-873.75\"/>\n",
       "<text text-anchor=\"start\" x=\"337.75\" y=\"-881.25\" font-family=\"Linux libertine\" font-size=\"10.00\">output: </text>\n",
       "<polygon fill=\"none\" stroke=\"black\" points=\"380,-873.75 380,-895.75 454,-895.75 454,-873.75 380,-873.75\"/>\n",
       "<text text-anchor=\"start\" x=\"384.75\" y=\"-881.25\" font-family=\"Linux libertine\" font-size=\"10.00\">(1, 128, 4, 4) </text>\n",
       "</g>\n",
       "<!-- 31&#45;&gt;32 -->\n",
       "<g id=\"edge33\" class=\"edge\">\n",
       "<title>31&#45;&gt;32</title>\n",
       "<path fill=\"none\" stroke=\"black\" d=\"M369,-953.85C369,-946.24 369,-937.45 369,-929.09\"/>\n",
       "<polygon fill=\"black\" stroke=\"black\" points=\"372.5,-929.22 369,-919.22 365.5,-929.22 372.5,-929.22\"/>\n",
       "</g>\n",
       "<!-- 33 -->\n",
       "<g id=\"node34\" class=\"node\">\n",
       "<title>33</title>\n",
       "<polygon fill=\"#c1ffc1\" stroke=\"none\" points=\"461,-835.5 277,-835.5 277,-791.5 461,-791.5 461,-835.5\"/>\n",
       "<polygon fill=\"none\" stroke=\"black\" points=\"277,-791.5 277,-835.5 340,-835.5 340,-791.5 277,-791.5\"/>\n",
       "<text text-anchor=\"start\" x=\"281.88\" y=\"-816.75\" font-family=\"Linux libertine\" font-size=\"10.00\">BasicBlock</text>\n",
       "<text text-anchor=\"start\" x=\"290.12\" y=\"-804\" font-family=\"Linux libertine\" font-size=\"10.00\">depth:3</text>\n",
       "<polygon fill=\"none\" stroke=\"black\" points=\"340,-813.5 340,-835.5 387,-835.5 387,-813.5 340,-813.5\"/>\n",
       "<text text-anchor=\"start\" x=\"349.62\" y=\"-821\" font-family=\"Linux libertine\" font-size=\"10.00\">input:</text>\n",
       "<polygon fill=\"none\" stroke=\"black\" points=\"387,-813.5 387,-835.5 461,-835.5 461,-813.5 387,-813.5\"/>\n",
       "<text text-anchor=\"start\" x=\"391.75\" y=\"-821\" font-family=\"Linux libertine\" font-size=\"10.00\">(1, 128, 4, 4) </text>\n",
       "<polygon fill=\"none\" stroke=\"black\" points=\"340,-791.5 340,-813.5 387,-813.5 387,-791.5 340,-791.5\"/>\n",
       "<text text-anchor=\"start\" x=\"344.75\" y=\"-799\" font-family=\"Linux libertine\" font-size=\"10.00\">output: </text>\n",
       "<polygon fill=\"none\" stroke=\"black\" points=\"387,-791.5 387,-813.5 461,-813.5 461,-791.5 387,-791.5\"/>\n",
       "<text text-anchor=\"start\" x=\"391.75\" y=\"-799\" font-family=\"Linux libertine\" font-size=\"10.00\">(1, 256, 2, 2) </text>\n",
       "</g>\n",
       "<!-- 32&#45;&gt;33 -->\n",
       "<g id=\"edge34\" class=\"edge\">\n",
       "<title>32&#45;&gt;33</title>\n",
       "<path fill=\"none\" stroke=\"black\" d=\"M369,-874.08C369,-865.72 369,-855.88 369,-846.62\"/>\n",
       "<polygon fill=\"black\" stroke=\"black\" points=\"372.5,-846.89 369,-836.89 365.5,-846.89 372.5,-846.89\"/>\n",
       "</g>\n",
       "<!-- 34 -->\n",
       "<g id=\"node35\" class=\"node\">\n",
       "<title>34</title>\n",
       "<polygon fill=\"#c1ffc1\" stroke=\"none\" points=\"461,-755.5 277,-755.5 277,-711.5 461,-711.5 461,-755.5\"/>\n",
       "<polygon fill=\"none\" stroke=\"black\" points=\"277,-711.5 277,-755.5 340,-755.5 340,-711.5 277,-711.5\"/>\n",
       "<text text-anchor=\"start\" x=\"281.88\" y=\"-736.75\" font-family=\"Linux libertine\" font-size=\"10.00\">BasicBlock</text>\n",
       "<text text-anchor=\"start\" x=\"290.12\" y=\"-724\" font-family=\"Linux libertine\" font-size=\"10.00\">depth:3</text>\n",
       "<polygon fill=\"none\" stroke=\"black\" points=\"340,-733.5 340,-755.5 387,-755.5 387,-733.5 340,-733.5\"/>\n",
       "<text text-anchor=\"start\" x=\"349.62\" y=\"-741\" font-family=\"Linux libertine\" font-size=\"10.00\">input:</text>\n",
       "<polygon fill=\"none\" stroke=\"black\" points=\"387,-733.5 387,-755.5 461,-755.5 461,-733.5 387,-733.5\"/>\n",
       "<text text-anchor=\"start\" x=\"391.75\" y=\"-741\" font-family=\"Linux libertine\" font-size=\"10.00\">(1, 256, 2, 2) </text>\n",
       "<polygon fill=\"none\" stroke=\"black\" points=\"340,-711.5 340,-733.5 387,-733.5 387,-711.5 340,-711.5\"/>\n",
       "<text text-anchor=\"start\" x=\"344.75\" y=\"-719\" font-family=\"Linux libertine\" font-size=\"10.00\">output: </text>\n",
       "<polygon fill=\"none\" stroke=\"black\" points=\"387,-711.5 387,-733.5 461,-733.5 461,-711.5 387,-711.5\"/>\n",
       "<text text-anchor=\"start\" x=\"391.75\" y=\"-719\" font-family=\"Linux libertine\" font-size=\"10.00\">(1, 256, 2, 2) </text>\n",
       "</g>\n",
       "<!-- 33&#45;&gt;34 -->\n",
       "<g id=\"edge35\" class=\"edge\">\n",
       "<title>33&#45;&gt;34</title>\n",
       "<path fill=\"none\" stroke=\"black\" d=\"M369,-791.6C369,-783.99 369,-775.2 369,-766.84\"/>\n",
       "<polygon fill=\"black\" stroke=\"black\" points=\"372.5,-766.97 369,-756.97 365.5,-766.97 372.5,-766.97\"/>\n",
       "</g>\n",
       "<!-- 35 -->\n",
       "<g id=\"node36\" class=\"node\">\n",
       "<title>35</title>\n",
       "<polygon fill=\"#c1ffc1\" stroke=\"none\" points=\"454,-675.5 284,-675.5 284,-631.5 454,-631.5 454,-675.5\"/>\n",
       "<polygon fill=\"none\" stroke=\"black\" points=\"284,-631.5 284,-675.5 333,-675.5 333,-631.5 284,-631.5\"/>\n",
       "<text text-anchor=\"start\" x=\"289\" y=\"-656.75\" font-family=\"Linux libertine\" font-size=\"10.00\">Dropout</text>\n",
       "<text text-anchor=\"start\" x=\"290.12\" y=\"-644\" font-family=\"Linux libertine\" font-size=\"10.00\">depth:2</text>\n",
       "<polygon fill=\"none\" stroke=\"black\" points=\"333,-653.5 333,-675.5 380,-675.5 380,-653.5 333,-653.5\"/>\n",
       "<text text-anchor=\"start\" x=\"342.62\" y=\"-661\" font-family=\"Linux libertine\" font-size=\"10.00\">input:</text>\n",
       "<polygon fill=\"none\" stroke=\"black\" points=\"380,-653.5 380,-675.5 454,-675.5 454,-653.5 380,-653.5\"/>\n",
       "<text text-anchor=\"start\" x=\"384.75\" y=\"-661\" font-family=\"Linux libertine\" font-size=\"10.00\">(1, 256, 2, 2) </text>\n",
       "<polygon fill=\"none\" stroke=\"black\" points=\"333,-631.5 333,-653.5 380,-653.5 380,-631.5 333,-631.5\"/>\n",
       "<text text-anchor=\"start\" x=\"337.75\" y=\"-639\" font-family=\"Linux libertine\" font-size=\"10.00\">output: </text>\n",
       "<polygon fill=\"none\" stroke=\"black\" points=\"380,-631.5 380,-653.5 454,-653.5 454,-631.5 380,-631.5\"/>\n",
       "<text text-anchor=\"start\" x=\"384.75\" y=\"-639\" font-family=\"Linux libertine\" font-size=\"10.00\">(1, 256, 2, 2) </text>\n",
       "</g>\n",
       "<!-- 34&#45;&gt;35 -->\n",
       "<g id=\"edge36\" class=\"edge\">\n",
       "<title>34&#45;&gt;35</title>\n",
       "<path fill=\"none\" stroke=\"black\" d=\"M369,-711.6C369,-703.99 369,-695.2 369,-686.84\"/>\n",
       "<polygon fill=\"black\" stroke=\"black\" points=\"372.5,-686.97 369,-676.97 365.5,-686.97 372.5,-686.97\"/>\n",
       "</g>\n",
       "<!-- 36 -->\n",
       "<g id=\"node37\" class=\"node\">\n",
       "<title>36</title>\n",
       "<polygon fill=\"#c1ffc1\" stroke=\"none\" points=\"452.5,-595.5 285.5,-595.5 285.5,-551.5 452.5,-551.5 452.5,-595.5\"/>\n",
       "<polygon fill=\"none\" stroke=\"black\" points=\"285.5,-551.5 285.5,-595.5 331.5,-595.5 331.5,-551.5 285.5,-551.5\"/>\n",
       "<text text-anchor=\"start\" x=\"290.12\" y=\"-576.75\" font-family=\"Linux libertine\" font-size=\"10.00\">Conv2d</text>\n",
       "<text text-anchor=\"start\" x=\"290.12\" y=\"-564\" font-family=\"Linux libertine\" font-size=\"10.00\">depth:2</text>\n",
       "<polygon fill=\"none\" stroke=\"black\" points=\"331.5,-573.5 331.5,-595.5 378.5,-595.5 378.5,-573.5 331.5,-573.5\"/>\n",
       "<text text-anchor=\"start\" x=\"341.12\" y=\"-581\" font-family=\"Linux libertine\" font-size=\"10.00\">input:</text>\n",
       "<polygon fill=\"none\" stroke=\"black\" points=\"378.5,-573.5 378.5,-595.5 452.5,-595.5 452.5,-573.5 378.5,-573.5\"/>\n",
       "<text text-anchor=\"start\" x=\"383.25\" y=\"-581\" font-family=\"Linux libertine\" font-size=\"10.00\">(1, 256, 2, 2) </text>\n",
       "<polygon fill=\"none\" stroke=\"black\" points=\"331.5,-551.5 331.5,-573.5 378.5,-573.5 378.5,-551.5 331.5,-551.5\"/>\n",
       "<text text-anchor=\"start\" x=\"336.25\" y=\"-559\" font-family=\"Linux libertine\" font-size=\"10.00\">output: </text>\n",
       "<polygon fill=\"none\" stroke=\"black\" points=\"378.5,-551.5 378.5,-573.5 452.5,-573.5 452.5,-551.5 378.5,-551.5\"/>\n",
       "<text text-anchor=\"start\" x=\"386.25\" y=\"-559\" font-family=\"Linux libertine\" font-size=\"10.00\">(1, 64, 3, 3) </text>\n",
       "</g>\n",
       "<!-- 35&#45;&gt;36 -->\n",
       "<g id=\"edge37\" class=\"edge\">\n",
       "<title>35&#45;&gt;36</title>\n",
       "<path fill=\"none\" stroke=\"black\" d=\"M369,-631.6C369,-623.99 369,-615.2 369,-606.84\"/>\n",
       "<polygon fill=\"black\" stroke=\"black\" points=\"372.5,-606.97 369,-596.97 365.5,-606.97 372.5,-606.97\"/>\n",
       "</g>\n",
       "<!-- 37 -->\n",
       "<g id=\"node38\" class=\"node\">\n",
       "<title>37</title>\n",
       "<polygon fill=\"#c1ffc1\" stroke=\"none\" points=\"479.5,-515.5 260.5,-515.5 260.5,-471.5 479.5,-471.5 479.5,-515.5\"/>\n",
       "<polygon fill=\"none\" stroke=\"black\" points=\"260.5,-471.5 260.5,-515.5 364.5,-515.5 364.5,-471.5 260.5,-471.5\"/>\n",
       "<text text-anchor=\"start\" x=\"265.25\" y=\"-496.75\" font-family=\"Linux libertine\" font-size=\"10.00\">AdaptiveAvgPool2d</text>\n",
       "<text text-anchor=\"start\" x=\"294.12\" y=\"-484\" font-family=\"Linux libertine\" font-size=\"10.00\">depth:2</text>\n",
       "<polygon fill=\"none\" stroke=\"black\" points=\"364.5,-493.5 364.5,-515.5 411.5,-515.5 411.5,-493.5 364.5,-493.5\"/>\n",
       "<text text-anchor=\"start\" x=\"374.12\" y=\"-501\" font-family=\"Linux libertine\" font-size=\"10.00\">input:</text>\n",
       "<polygon fill=\"none\" stroke=\"black\" points=\"411.5,-493.5 411.5,-515.5 479.5,-515.5 479.5,-493.5 411.5,-493.5\"/>\n",
       "<text text-anchor=\"start\" x=\"416.25\" y=\"-501\" font-family=\"Linux libertine\" font-size=\"10.00\">(1, 64, 3, 3) </text>\n",
       "<polygon fill=\"none\" stroke=\"black\" points=\"364.5,-471.5 364.5,-493.5 411.5,-493.5 411.5,-471.5 364.5,-471.5\"/>\n",
       "<text text-anchor=\"start\" x=\"369.25\" y=\"-479\" font-family=\"Linux libertine\" font-size=\"10.00\">output: </text>\n",
       "<polygon fill=\"none\" stroke=\"black\" points=\"411.5,-471.5 411.5,-493.5 479.5,-493.5 479.5,-471.5 411.5,-471.5\"/>\n",
       "<text text-anchor=\"start\" x=\"416.25\" y=\"-479\" font-family=\"Linux libertine\" font-size=\"10.00\">(1, 64, 1, 1) </text>\n",
       "</g>\n",
       "<!-- 36&#45;&gt;37 -->\n",
       "<g id=\"edge38\" class=\"edge\">\n",
       "<title>36&#45;&gt;37</title>\n",
       "<path fill=\"none\" stroke=\"black\" d=\"M369.27,-551.6C369.37,-543.99 369.48,-535.2 369.59,-526.84\"/>\n",
       "<polygon fill=\"black\" stroke=\"black\" points=\"373.08,-527.02 369.71,-516.97 366.08,-526.93 373.08,-527.02\"/>\n",
       "</g>\n",
       "<!-- 38 -->\n",
       "<g id=\"node39\" class=\"node\">\n",
       "<title>38</title>\n",
       "<polygon fill=\"aliceblue\" stroke=\"none\" points=\"435.5,-435.5 274.5,-435.5 274.5,-391.5 435.5,-391.5 435.5,-435.5\"/>\n",
       "<polygon fill=\"none\" stroke=\"black\" points=\"274.5,-391.5 274.5,-435.5 320.5,-435.5 320.5,-391.5 274.5,-391.5\"/>\n",
       "<text text-anchor=\"start\" x=\"281.75\" y=\"-416.75\" font-family=\"Linux libertine\" font-size=\"10.00\">flatten</text>\n",
       "<text text-anchor=\"start\" x=\"279.12\" y=\"-404\" font-family=\"Linux libertine\" font-size=\"10.00\">depth:2</text>\n",
       "<polygon fill=\"none\" stroke=\"black\" points=\"320.5,-413.5 320.5,-435.5 367.5,-435.5 367.5,-413.5 320.5,-413.5\"/>\n",
       "<text text-anchor=\"start\" x=\"330.12\" y=\"-421\" font-family=\"Linux libertine\" font-size=\"10.00\">input:</text>\n",
       "<polygon fill=\"none\" stroke=\"black\" points=\"367.5,-413.5 367.5,-435.5 435.5,-435.5 435.5,-413.5 367.5,-413.5\"/>\n",
       "<text text-anchor=\"start\" x=\"372.25\" y=\"-421\" font-family=\"Linux libertine\" font-size=\"10.00\">(1, 64, 1, 1) </text>\n",
       "<polygon fill=\"none\" stroke=\"black\" points=\"320.5,-391.5 320.5,-413.5 367.5,-413.5 367.5,-391.5 320.5,-391.5\"/>\n",
       "<text text-anchor=\"start\" x=\"325.25\" y=\"-399\" font-family=\"Linux libertine\" font-size=\"10.00\">output: </text>\n",
       "<polygon fill=\"none\" stroke=\"black\" points=\"367.5,-391.5 367.5,-413.5 435.5,-413.5 435.5,-391.5 367.5,-391.5\"/>\n",
       "<text text-anchor=\"start\" x=\"384.25\" y=\"-399\" font-family=\"Linux libertine\" font-size=\"10.00\">(1, 64) </text>\n",
       "</g>\n",
       "<!-- 37&#45;&gt;38 -->\n",
       "<g id=\"edge39\" class=\"edge\">\n",
       "<title>37&#45;&gt;38</title>\n",
       "<path fill=\"none\" stroke=\"black\" d=\"M365.98,-471.6C364.5,-463.9 362.79,-455 361.16,-446.55\"/>\n",
       "<polygon fill=\"black\" stroke=\"black\" points=\"364.64,-446.11 359.32,-436.95 357.77,-447.43 364.64,-446.11\"/>\n",
       "</g>\n",
       "<!-- 38&#45;&gt;39 -->\n",
       "<g id=\"edge40\" class=\"edge\">\n",
       "<title>38&#45;&gt;39</title>\n",
       "<path fill=\"none\" stroke=\"black\" d=\"M327.93,-391.6C316.27,-382.59 302.47,-371.93 289.97,-362.28\"/>\n",
       "<polygon fill=\"black\" stroke=\"black\" points=\"292.39,-359.73 282.34,-356.39 288.11,-365.27 292.39,-359.73\"/>\n",
       "</g>\n",
       "<!-- 40 -->\n",
       "<g id=\"node41\" class=\"node\">\n",
       "<title>40</title>\n",
       "<polygon fill=\"#c1ffc1\" stroke=\"none\" points=\"322.5,-275.5 185.5,-275.5 185.5,-231.5 322.5,-231.5 322.5,-275.5\"/>\n",
       "<polygon fill=\"none\" stroke=\"black\" points=\"185.5,-231.5 185.5,-275.5 231.5,-275.5 231.5,-231.5 185.5,-231.5\"/>\n",
       "<text text-anchor=\"start\" x=\"195.75\" y=\"-256.75\" font-family=\"Linux libertine\" font-size=\"10.00\">ReLU</text>\n",
       "<text text-anchor=\"start\" x=\"190.12\" y=\"-244\" font-family=\"Linux libertine\" font-size=\"10.00\">depth:1</text>\n",
       "<polygon fill=\"none\" stroke=\"black\" points=\"231.5,-253.5 231.5,-275.5 278.5,-275.5 278.5,-253.5 231.5,-253.5\"/>\n",
       "<text text-anchor=\"start\" x=\"241.12\" y=\"-261\" font-family=\"Linux libertine\" font-size=\"10.00\">input:</text>\n",
       "<polygon fill=\"none\" stroke=\"black\" points=\"278.5,-253.5 278.5,-275.5 322.5,-275.5 322.5,-253.5 278.5,-253.5\"/>\n",
       "<text text-anchor=\"start\" x=\"283.25\" y=\"-261\" font-family=\"Linux libertine\" font-size=\"10.00\">(1, 64) </text>\n",
       "<polygon fill=\"none\" stroke=\"black\" points=\"231.5,-231.5 231.5,-253.5 278.5,-253.5 278.5,-231.5 231.5,-231.5\"/>\n",
       "<text text-anchor=\"start\" x=\"236.25\" y=\"-239\" font-family=\"Linux libertine\" font-size=\"10.00\">output: </text>\n",
       "<polygon fill=\"none\" stroke=\"black\" points=\"278.5,-231.5 278.5,-253.5 322.5,-253.5 322.5,-231.5 278.5,-231.5\"/>\n",
       "<text text-anchor=\"start\" x=\"283.25\" y=\"-239\" font-family=\"Linux libertine\" font-size=\"10.00\">(1, 64) </text>\n",
       "</g>\n",
       "<!-- 39&#45;&gt;40 -->\n",
       "<g id=\"edge41\" class=\"edge\">\n",
       "<title>39&#45;&gt;40</title>\n",
       "<path fill=\"none\" stroke=\"black\" d=\"M254,-311.6C254,-303.99 254,-295.2 254,-286.84\"/>\n",
       "<polygon fill=\"black\" stroke=\"black\" points=\"257.5,-286.97 254,-276.97 250.5,-286.97 257.5,-286.97\"/>\n",
       "</g>\n",
       "<!-- 41 -->\n",
       "<g id=\"node42\" class=\"node\">\n",
       "<title>41</title>\n",
       "<polygon fill=\"#c1ffc1\" stroke=\"none\" points=\"322.5,-195.5 185.5,-195.5 185.5,-151.5 322.5,-151.5 322.5,-195.5\"/>\n",
       "<polygon fill=\"none\" stroke=\"black\" points=\"185.5,-151.5 185.5,-195.5 231.5,-195.5 231.5,-151.5 185.5,-151.5\"/>\n",
       "<text text-anchor=\"start\" x=\"193.5\" y=\"-176.75\" font-family=\"Linux libertine\" font-size=\"10.00\">Linear</text>\n",
       "<text text-anchor=\"start\" x=\"190.12\" y=\"-164\" font-family=\"Linux libertine\" font-size=\"10.00\">depth:1</text>\n",
       "<polygon fill=\"none\" stroke=\"black\" points=\"231.5,-173.5 231.5,-195.5 278.5,-195.5 278.5,-173.5 231.5,-173.5\"/>\n",
       "<text text-anchor=\"start\" x=\"241.12\" y=\"-181\" font-family=\"Linux libertine\" font-size=\"10.00\">input:</text>\n",
       "<polygon fill=\"none\" stroke=\"black\" points=\"278.5,-173.5 278.5,-195.5 322.5,-195.5 322.5,-173.5 278.5,-173.5\"/>\n",
       "<text text-anchor=\"start\" x=\"283.25\" y=\"-181\" font-family=\"Linux libertine\" font-size=\"10.00\">(1, 64) </text>\n",
       "<polygon fill=\"none\" stroke=\"black\" points=\"231.5,-151.5 231.5,-173.5 278.5,-173.5 278.5,-151.5 231.5,-151.5\"/>\n",
       "<text text-anchor=\"start\" x=\"236.25\" y=\"-159\" font-family=\"Linux libertine\" font-size=\"10.00\">output: </text>\n",
       "<polygon fill=\"none\" stroke=\"black\" points=\"278.5,-151.5 278.5,-173.5 322.5,-173.5 322.5,-151.5 278.5,-151.5\"/>\n",
       "<text text-anchor=\"start\" x=\"286.25\" y=\"-159\" font-family=\"Linux libertine\" font-size=\"10.00\">(1, 1) </text>\n",
       "</g>\n",
       "<!-- 40&#45;&gt;41 -->\n",
       "<g id=\"edge42\" class=\"edge\">\n",
       "<title>40&#45;&gt;41</title>\n",
       "<path fill=\"none\" stroke=\"black\" d=\"M254,-231.6C254,-223.99 254,-215.2 254,-206.84\"/>\n",
       "<polygon fill=\"black\" stroke=\"black\" points=\"257.5,-206.97 254,-196.97 250.5,-206.97 257.5,-206.97\"/>\n",
       "</g>\n",
       "<!-- 42 -->\n",
       "<g id=\"node43\" class=\"node\">\n",
       "<title>42</title>\n",
       "<polygon fill=\"#c1ffc1\" stroke=\"none\" points=\"321,-115.5 187,-115.5 187,-71.5 321,-71.5 321,-115.5\"/>\n",
       "<polygon fill=\"none\" stroke=\"black\" points=\"187,-71.5 187,-115.5 236,-115.5 236,-71.5 187,-71.5\"/>\n",
       "<text text-anchor=\"start\" x=\"191.62\" y=\"-96.75\" font-family=\"Linux libertine\" font-size=\"10.00\">Sigmoid</text>\n",
       "<text text-anchor=\"start\" x=\"193.12\" y=\"-84\" font-family=\"Linux libertine\" font-size=\"10.00\">depth:1</text>\n",
       "<polygon fill=\"none\" stroke=\"black\" points=\"236,-93.5 236,-115.5 283,-115.5 283,-93.5 236,-93.5\"/>\n",
       "<text text-anchor=\"start\" x=\"245.62\" y=\"-101\" font-family=\"Linux libertine\" font-size=\"10.00\">input:</text>\n",
       "<polygon fill=\"none\" stroke=\"black\" points=\"283,-93.5 283,-115.5 321,-115.5 321,-93.5 283,-93.5\"/>\n",
       "<text text-anchor=\"start\" x=\"287.75\" y=\"-101\" font-family=\"Linux libertine\" font-size=\"10.00\">(1, 1) </text>\n",
       "<polygon fill=\"none\" stroke=\"black\" points=\"236,-71.5 236,-93.5 283,-93.5 283,-71.5 236,-71.5\"/>\n",
       "<text text-anchor=\"start\" x=\"240.75\" y=\"-79\" font-family=\"Linux libertine\" font-size=\"10.00\">output: </text>\n",
       "<polygon fill=\"none\" stroke=\"black\" points=\"283,-71.5 283,-93.5 321,-93.5 321,-71.5 283,-71.5\"/>\n",
       "<text text-anchor=\"start\" x=\"287.75\" y=\"-79\" font-family=\"Linux libertine\" font-size=\"10.00\">(1, 1) </text>\n",
       "</g>\n",
       "<!-- 41&#45;&gt;42 -->\n",
       "<g id=\"edge43\" class=\"edge\">\n",
       "<title>41&#45;&gt;42</title>\n",
       "<path fill=\"none\" stroke=\"black\" d=\"M254,-151.6C254,-143.99 254,-135.2 254,-126.84\"/>\n",
       "<polygon fill=\"black\" stroke=\"black\" points=\"257.5,-126.97 254,-116.97 250.5,-126.97 257.5,-126.97\"/>\n",
       "</g>\n",
       "<!-- 43 -->\n",
       "<g id=\"node44\" class=\"node\">\n",
       "<title>43</title>\n",
       "<polygon fill=\"lightyellow\" stroke=\"none\" points=\"309.75,-35.5 198.25,-35.5 198.25,0 309.75,0 309.75,-35.5\"/>\n",
       "<polygon fill=\"none\" stroke=\"black\" points=\"198.25,0 198.25,-35.5 274.25,-35.5 274.25,0 198.25,0\"/>\n",
       "<text text-anchor=\"start\" x=\"203.25\" y=\"-21\" font-family=\"Linux libertine\" font-size=\"10.00\">output&#45;tensor</text>\n",
       "<text text-anchor=\"start\" x=\"217.88\" y=\"-8.25\" font-family=\"Linux libertine\" font-size=\"10.00\">depth:0</text>\n",
       "<polygon fill=\"none\" stroke=\"black\" points=\"274.25,0 274.25,-35.5 309.75,-35.5 309.75,0 274.25,0\"/>\n",
       "<text text-anchor=\"start\" x=\"279.25\" y=\"-14.62\" font-family=\"Linux libertine\" font-size=\"10.00\">(1, 1)</text>\n",
       "</g>\n",
       "<!-- 42&#45;&gt;43 -->\n",
       "<g id=\"edge44\" class=\"edge\">\n",
       "<title>42&#45;&gt;43</title>\n",
       "<path fill=\"none\" stroke=\"black\" d=\"M254,-71.56C254,-63.78 254,-54.83 254,-46.53\"/>\n",
       "<polygon fill=\"black\" stroke=\"black\" points=\"257.5,-46.56 254,-36.56 250.5,-46.56 257.5,-46.56\"/>\n",
       "</g>\n",
       "</g>\n",
       "</svg>\n"
      ],
      "text/plain": [
       "<graphviz.graphs.Digraph at 0x797e8bfaf5e0>"
      ]
     },
     "execution_count": 11,
     "metadata": {},
     "output_type": "execute_result"
    }
   ],
   "source": [
    "from torch import Tensor\n",
    "from typing import Type\n",
    "\n",
    "class BasicBlock(nn.Module):\n",
    "    def __init__(self, in_channels: int,out_channels: int,stride: int = 1,expansion: int = 1,downsample: nn.Module = None) -> None:\n",
    "        super(BasicBlock, self).__init__()\n",
    "        self.expansion = expansion\n",
    "        self.downsample = downsample\n",
    "        self.conv1 = nn.Conv2d(in_channels, out_channels, kernel_size=3, stride=stride, padding=1,bias=False)\n",
    "        self.bn1 = nn.BatchNorm2d(out_channels)\n",
    "        self.relu = nn.ReLU(inplace=True)\n",
    "        self.conv2 = nn.Conv2d(out_channels, out_channels*self.expansion, kernel_size=3, padding=1,bias=False)\n",
    "        self.bn2 = nn.BatchNorm2d(out_channels*self.expansion)\n",
    "        \n",
    "    def forward(self, x: Tensor) -> Tensor:\n",
    "        identity = x\n",
    "        out = self.conv1(x)\n",
    "        out = self.bn1(out)\n",
    "        out = self.relu(out)\n",
    "        out = self.conv2(out)\n",
    "        out = self.bn2(out)\n",
    "        if self.downsample is not None:\n",
    "            identity = self.downsample(x)\n",
    "        out += identity\n",
    "        out = self.relu(out)\n",
    "        return  out\n",
    "    \n",
    "class ResNet(nn.Module):\n",
    "    def __init__(\n",
    "        self, \n",
    "        img_channels: int,\n",
    "        num_layers: int,\n",
    "        block: Type[BasicBlock],\n",
    "        cbam: Type[BasicBlock],\n",
    "        num_classes: int  = 2\n",
    "    ) -> None:\n",
    "        super(ResNet, self).__init__()\n",
    "        if num_layers == 15:\n",
    "            # The following `layers` list defines the number of `BasicBlock` \n",
    "            # to use to build the network and how many basic blocks to stack\n",
    "            # together.\n",
    "            layers = [2, 2, 2, 2]\n",
    "        self.expansion = 1\n",
    "        self.in_channels = 64\n",
    "        \n",
    "        # All ResNets (18 to 152) contain a Conv2d => BN => ReLU for the first\n",
    "        # three layers. Here, kernel size is 7.\n",
    "        self.conv1 = nn.Conv2d(\n",
    "            in_channels=1,\n",
    "            out_channels=self.in_channels,\n",
    "            kernel_size=7, \n",
    "            stride=2,\n",
    "            padding=3,\n",
    "            bias=False\n",
    "        )\n",
    "        self.conv2 = nn.Conv2d(\n",
    "            in_channels=256,\n",
    "            out_channels=64,\n",
    "            kernel_size=3, \n",
    "            stride=2,\n",
    "            padding=3,\n",
    "            bias=False\n",
    "        )\n",
    "        \n",
    "        self.bn1 = nn.BatchNorm2d(self.in_channels)\n",
    "        self.relu = nn.ReLU(inplace=True)\n",
    "        self.maxpool = nn.MaxPool2d(kernel_size=3, stride=2, padding=1)\n",
    "        \n",
    "        self.layer1 = self._make_layer(block, 64, layers[0])\n",
    "        self.cbam_1 = self.channel_block_attention(cbam)\n",
    "        \n",
    "        self.layer2 = self._make_layer(block, 128, layers[1], stride=2)\n",
    "        self.cbam_2 = self.channel_block_attention(cbam)\n",
    "        \n",
    "        self.layer3 = self._make_layer(block, 256, layers[2], stride=2)\n",
    "        self.cbam_3 = self.channel_block_attention(cbam)\n",
    "        \n",
    "        self.layer4 = self._make_layer(block, 512, layers[3], stride=2)\n",
    "        \n",
    "        self.avgpool = nn.AdaptiveAvgPool2d((1, 1))\n",
    "        self.fc = nn.Linear(64*self.expansion, 1)\n",
    "        self.sigmoid = nn.Sigmoid()\n",
    "        self.dropout = nn.Dropout(p = 0.2)\n",
    "        \n",
    "    def _make_layer(\n",
    "        self, \n",
    "        block: Type[BasicBlock],\n",
    "        out_channels: int,\n",
    "        blocks: int,\n",
    "        stride: int = 1\n",
    "    ) -> nn.Sequential:\n",
    "        downsample = None\n",
    "        if stride != 1:\n",
    "            downsample = nn.Sequential(\n",
    "                nn.Conv2d(\n",
    "                    self.in_channels, \n",
    "                    out_channels*self.expansion,\n",
    "                    kernel_size=1,\n",
    "                    stride=stride,\n",
    "                    bias=False \n",
    "                ),\n",
    "                nn.BatchNorm2d(out_channels * self.expansion),\n",
    "            )\n",
    "        layers = []\n",
    "        layers.append(\n",
    "            block(\n",
    "                self.in_channels, out_channels, stride, self.expansion, downsample\n",
    "            )\n",
    "        )\n",
    "        self.in_channels = out_channels * self.expansion\n",
    "        for i in range(1, blocks):\n",
    "            layers.append(block(\n",
    "                self.in_channels,\n",
    "                out_channels,\n",
    "                expansion=self.expansion\n",
    "            ))\n",
    "        return nn.Sequential(*layers)\n",
    "    \n",
    "    def channel_block_attention(self, cbam):\n",
    "        return cbam(self.in_channels)\n",
    "    \n",
    "    def forward(self, x: Tensor) -> Tensor:\n",
    "        x = self.conv1(x)\n",
    "        x = self.bn1(x)\n",
    "        x = self.relu(x)\n",
    "        x = self.maxpool(x)\n",
    "        \n",
    "        x = self.layer1(x)\n",
    "        x = self.dropout(x)\n",
    "        x = self.relu(x)\n",
    "        \n",
    "    \n",
    "        x = self.layer2(x)\n",
    "        x = self.dropout(x)\n",
    "        \n",
    "        x = self.layer3(x)\n",
    "        x = self.dropout(x)\n",
    "        \n",
    "        x = self.conv2(x)\n",
    "        x = self.avgpool(x)\n",
    "        x = torch.flatten(x, 1)\n",
    "        return x\n",
    "    \n",
    "class Resnet_Ensemble(nn.Module):\n",
    "    def __init__(self,img_channels:int,\n",
    "                 num_layers: int,\n",
    "                 block: Type[BasicBlock],\n",
    "                 cbam: Type[CBAM],\n",
    "                 resnet,\n",
    "                 num_classes: int  = 2):\n",
    "        \n",
    "        super(Resnet_Ensemble, self).__init__()\n",
    "        self.img_channels = img_channels\n",
    "        self.num_layers = num_layers\n",
    "        self.expansion = 1\n",
    "        self.resnet_time = resnet(img_channels, num_layers, block, cbam)\n",
    "        self.resnet_energy = resnet(img_channels, num_layers, block, cbam)\n",
    "        self.avgpool = nn.AdaptiveAvgPool2d((1, 1))\n",
    "        self.fc = nn.Linear(64*self.expansion, 1)\n",
    "        self.sigmoid = nn.Sigmoid()\n",
    "        self.dropout = nn.Dropout(p = 0.2)\n",
    "        self.relu = nn.ReLU()\n",
    "    \n",
    "    def __make_layer(self, block):\n",
    "        return \n",
    "    def forward(self, x):\n",
    "        x_t = x[:,1,:,:]\n",
    "        x_t = x_t.reshape((x_t.shape[0],1,x_t.shape[2], x_t.shape[2]))\n",
    "        x_e = x[:,0,:,:]\n",
    "        x_e = x_e.reshape((x_e.shape[0],1,x_e.shape[2], x_e.shape[2]))\n",
    "        \n",
    "        op_T = self.resnet_time(x_t)\n",
    "        op_E = self.resnet_energy(x_e)\n",
    "        \n",
    "        op =  op_T+op_E\n",
    "        op = self.relu(op)\n",
    "        op = self.fc(op)\n",
    "        op = self.sigmoid(op)\n",
    "        return op\n",
    "        \n",
    "        \n",
    "model = Resnet_Ensemble(2, 15, BasicBlock, CBAM, ResNet)\n",
    "import torchvision\n",
    "from torchview import draw_graph\n",
    "from torchviz import make_dot\n",
    "\n",
    "model_graph = draw_graph(model, input_size=(1,2,32,32), expand_nested=True)\n",
    "model_graph.visual_graph"
   ]
  },
  {
   "cell_type": "code",
   "execution_count": 12,
   "id": "f4032455",
   "metadata": {
    "execution": {
     "iopub.execute_input": "2024-03-17T06:27:00.568903Z",
     "iopub.status.busy": "2024-03-17T06:27:00.568599Z",
     "iopub.status.idle": "2024-03-17T06:27:00.600689Z",
     "shell.execute_reply": "2024-03-17T06:27:00.599770Z"
    },
    "papermill": {
     "duration": 0.045726,
     "end_time": "2024-03-17T06:27:00.602542",
     "exception": false,
     "start_time": "2024-03-17T06:27:00.556816",
     "status": "completed"
    },
    "tags": []
   },
   "outputs": [
    {
     "name": "stdout",
     "output_type": "stream",
     "text": [
      "torch.Size([2, 32, 32])\n",
      "tensor([0.])\n"
     ]
    }
   ],
   "source": [
    "import os\n",
    "import torch\n",
    "import pandas as pd\n",
    "from skimage import io, transform\n",
    "import numpy as np\n",
    "import matplotlib.pyplot as plt\n",
    "from torch.utils.data import Dataset, DataLoader\n",
    "from torchvision import transforms, utils\n",
    "\n",
    "# Ignore warnings\n",
    "import warnings\n",
    "warnings.filterwarnings(\"ignore\")\n",
    "\n",
    "plt.ion()   # interactive mode\n",
    "\n",
    "\n",
    "class CustomDataset(Dataset):\n",
    "    def __init__(self, x, y, transform = None):\n",
    "        self.x = x\n",
    "        self.y = y\n",
    "        self.transform = transform\n",
    "        \n",
    "    def __len__(self):\n",
    "        return self.x.shape[0]\n",
    "    \n",
    "    def __getitem__(self, idx):\n",
    "        if torch.is_tensor(idx):\n",
    "            idx = idx.tolist()\n",
    "        img = self.x[idx]\n",
    "        label = self.y[idx]\n",
    "        label = torch.tensor(label).float().unsqueeze(0)\n",
    "        if self.transform:\n",
    "            img = self.transform(img)\n",
    "        \n",
    "        sample = {'image':img, 'labels' : label}\n",
    "        \n",
    "        return sample\n",
    "            \n",
    "transform = torchvision.transforms.Compose([torchvision.transforms.ToTensor()])\n",
    "dataset = CustomDataset(X_train_shuffled, Y_train_shuffled, transform = transform)\n",
    "\n",
    "sample = dataset.__getitem__(0)\n",
    "print(sample['image'].shape)\n",
    "print(sample['labels'])"
   ]
  },
  {
   "cell_type": "code",
   "execution_count": null,
   "id": "529ba039",
   "metadata": {
    "papermill": {
     "duration": 0.0108,
     "end_time": "2024-03-17T06:27:00.624058",
     "exception": false,
     "start_time": "2024-03-17T06:27:00.613258",
     "status": "completed"
    },
    "tags": []
   },
   "outputs": [],
   "source": []
  },
  {
   "cell_type": "code",
   "execution_count": 13,
   "id": "d2beb1e3",
   "metadata": {
    "execution": {
     "iopub.execute_input": "2024-03-17T06:27:00.646750Z",
     "iopub.status.busy": "2024-03-17T06:27:00.646486Z",
     "iopub.status.idle": "2024-03-17T06:27:00.660276Z",
     "shell.execute_reply": "2024-03-17T06:27:00.659486Z"
    },
    "papermill": {
     "duration": 0.027476,
     "end_time": "2024-03-17T06:27:00.662249",
     "exception": false,
     "start_time": "2024-03-17T06:27:00.634773",
     "status": "completed"
    },
    "tags": []
   },
   "outputs": [],
   "source": [
    "from torchmetrics import Accuracy\n",
    "import copy\n",
    "import numpy as np\n",
    "import torch\n",
    "import torch.nn as nn\n",
    "import torch.optim as optim\n",
    "import tqdm\n",
    "from tqdm import tqdm\n",
    "from torchmetrics import Accuracy\n",
    "\n",
    "def model_train(fold, model, epochs, train_dataloader, test_dataloader):\n",
    "    # Loss function and optimizer\n",
    "    criterion = nn.BCELoss()  # Binary Cross Entropy\n",
    "    optimizer = optim.Adam(model.parameters(), lr=0.01)\n",
    "#     optimizer = optimizer.to(DEVICE)\n",
    "    accuracy = Accuracy(task = 'binary').to(DEVICE)\n",
    " \n",
    "    # Hold the best model\n",
    "    best_acc = -np.inf  # Init to negative infinity\n",
    "    best_weights = None\n",
    "\n",
    "    train_losses = []\n",
    "    val_losses = []\n",
    "    train_accuracies = []\n",
    "    val_accuracies = []\n",
    "\n",
    "    for epoch in tqdm(range(epochs), desc='Epochs', unit='epoch'):\n",
    "        train_pred = []\n",
    "        val_pred = []\n",
    "\n",
    "        model.train()\n",
    "        for batch in train_dataloader:\n",
    "            images, labels = batch['image'], batch['labels']\n",
    "            images = images.to(DEVICE)\n",
    "            labels = labels.to(DEVICE)\n",
    "\n",
    "            optimizer.zero_grad()\n",
    "            outputs = model(images)\n",
    "            loss = criterion(outputs, labels)\n",
    "            loss.backward()\n",
    "            optimizer.step()\n",
    "\n",
    "            train_pred.append(loss.item())\n",
    "\n",
    "            # Calculate training accuracy\n",
    "            train_acc = accuracy(outputs, labels)\n",
    "            train_accuracies.append(train_acc.item())\n",
    "\n",
    "        train_loss = np.mean(train_pred)\n",
    "\n",
    "        model.eval()\n",
    "        with torch.no_grad():\n",
    "            for val_batch in test_dataloader:\n",
    "                val_images, val_labels = val_batch['image'], val_batch['labels']\n",
    "                val_images = val_images.to(DEVICE)\n",
    "                val_labels = val_labels.to(DEVICE)\n",
    "\n",
    "                val_outputs = model(val_images)\n",
    "                val_loss = criterion(val_outputs, val_labels)\n",
    "                val_pred.append(val_loss.item())\n",
    "\n",
    "                # Calculate validation accuracy\n",
    "                val_acc = accuracy(val_outputs, val_labels)\n",
    "                val_accuracies.append(val_acc.item())\n",
    "\n",
    "        val_loss = np.mean(val_pred)\n",
    "\n",
    "        # Print and store losses and accuracies\n",
    "        print(f'Epoch {epoch+1}/{epochs}, Train Loss: {train_loss:.4f}, Train Accuracy: {np.mean(train_accuracies):.4f}, Valid Loss: {val_loss:.4f}, Valid Accuracy: {np.mean(val_accuracies):.4f}')\n",
    "        train_losses.append(train_loss)\n",
    "        val_losses.append(val_loss)\n",
    "\n",
    "        # Save best model\n",
    "        if max(train_accuracies) > best_acc:\n",
    "            best_acc = max(train_accuracies)\n",
    "            best_weights = copy.deepcopy(model.state_dict())\n",
    "            \n",
    "#         model.load_state_dict(best_weights)\n",
    "    \n",
    "    # Save the best model\n",
    "    torch.save(best_weights, f'./best_model_{fold}.pth')\n",
    "\n",
    "    # Plot training and validation losses\n",
    "    return train_losses, val_losses, train_accuracies, val_accuracies\n"
   ]
  },
  {
   "cell_type": "code",
   "execution_count": 14,
   "id": "caec3b8c",
   "metadata": {
    "execution": {
     "iopub.execute_input": "2024-03-17T06:27:00.684897Z",
     "iopub.status.busy": "2024-03-17T06:27:00.684621Z",
     "iopub.status.idle": "2024-03-17T11:32:16.817414Z",
     "shell.execute_reply": "2024-03-17T11:32:16.816430Z"
    },
    "papermill": {
     "duration": 18316.147268,
     "end_time": "2024-03-17T11:32:16.820340",
     "exception": false,
     "start_time": "2024-03-17T06:27:00.673072",
     "status": "completed"
    },
    "tags": []
   },
   "outputs": [
    {
     "name": "stdout",
     "output_type": "stream",
     "text": [
      "*** Fold 0***\n",
      "Training Started.....\n"
     ]
    },
    {
     "name": "stderr",
     "output_type": "stream",
     "text": [
      "Epochs:   2%|▏         | 1/45 [01:19<58:31, 79.80s/epoch]"
     ]
    },
    {
     "name": "stdout",
     "output_type": "stream",
     "text": [
      "Epoch 1/45, Train Loss: 0.5943, Train Accuracy: 0.6910, Valid Loss: 0.8532, Valid Accuracy: 0.6451\n"
     ]
    },
    {
     "name": "stderr",
     "output_type": "stream",
     "text": [
      "Epochs:   4%|▍         | 2/45 [02:39<57:12, 79.83s/epoch]"
     ]
    },
    {
     "name": "stdout",
     "output_type": "stream",
     "text": [
      "Epoch 2/45, Train Loss: 0.5636, Train Accuracy: 0.7045, Valid Loss: 0.5680, Valid Accuracy: 0.6786\n"
     ]
    },
    {
     "name": "stderr",
     "output_type": "stream",
     "text": [
      "Epochs:   7%|▋         | 3/45 [03:59<55:49, 79.76s/epoch]"
     ]
    },
    {
     "name": "stdout",
     "output_type": "stream",
     "text": [
      "Epoch 3/45, Train Loss: 0.5570, Train Accuracy: 0.7106, Valid Loss: 0.6160, Valid Accuracy: 0.6806\n"
     ]
    },
    {
     "name": "stderr",
     "output_type": "stream",
     "text": [
      "Epochs:   9%|▉         | 4/45 [05:18<54:26, 79.68s/epoch]"
     ]
    },
    {
     "name": "stdout",
     "output_type": "stream",
     "text": [
      "Epoch 4/45, Train Loss: 0.5531, Train Accuracy: 0.7142, Valid Loss: 0.5581, Valid Accuracy: 0.6913\n"
     ]
    },
    {
     "name": "stderr",
     "output_type": "stream",
     "text": [
      "Epochs:  11%|█         | 5/45 [06:38<53:03, 79.59s/epoch]"
     ]
    },
    {
     "name": "stdout",
     "output_type": "stream",
     "text": [
      "Epoch 5/45, Train Loss: 0.5502, Train Accuracy: 0.7168, Valid Loss: 0.5484, Valid Accuracy: 0.6992\n"
     ]
    },
    {
     "name": "stderr",
     "output_type": "stream",
     "text": [
      "Epochs:  13%|█▎        | 6/45 [07:58<51:45, 79.63s/epoch]"
     ]
    },
    {
     "name": "stdout",
     "output_type": "stream",
     "text": [
      "Epoch 6/45, Train Loss: 0.5488, Train Accuracy: 0.7186, Valid Loss: 0.5594, Valid Accuracy: 0.7041\n"
     ]
    },
    {
     "name": "stderr",
     "output_type": "stream",
     "text": [
      "Epochs:  16%|█▌        | 7/45 [09:18<50:30, 79.75s/epoch]"
     ]
    },
    {
     "name": "stdout",
     "output_type": "stream",
     "text": [
      "Epoch 7/45, Train Loss: 0.5464, Train Accuracy: 0.7201, Valid Loss: 0.5484, Valid Accuracy: 0.7078\n"
     ]
    },
    {
     "name": "stderr",
     "output_type": "stream",
     "text": [
      "Epochs:  18%|█▊        | 8/45 [10:37<49:07, 79.67s/epoch]"
     ]
    },
    {
     "name": "stdout",
     "output_type": "stream",
     "text": [
      "Epoch 8/45, Train Loss: 0.5451, Train Accuracy: 0.7214, Valid Loss: 0.5632, Valid Accuracy: 0.7087\n"
     ]
    },
    {
     "name": "stderr",
     "output_type": "stream",
     "text": [
      "Epochs:  20%|██        | 9/45 [11:56<47:45, 79.60s/epoch]"
     ]
    },
    {
     "name": "stdout",
     "output_type": "stream",
     "text": [
      "Epoch 9/45, Train Loss: 0.5443, Train Accuracy: 0.7225, Valid Loss: 0.5440, Valid Accuracy: 0.7111\n"
     ]
    },
    {
     "name": "stderr",
     "output_type": "stream",
     "text": [
      "Epochs:  22%|██▏       | 10/45 [13:16<46:26, 79.61s/epoch]"
     ]
    },
    {
     "name": "stdout",
     "output_type": "stream",
     "text": [
      "Epoch 10/45, Train Loss: 0.5428, Train Accuracy: 0.7234, Valid Loss: 0.5441, Valid Accuracy: 0.7132\n"
     ]
    },
    {
     "name": "stderr",
     "output_type": "stream",
     "text": [
      "Epochs:  24%|██▍       | 11/45 [14:36<45:13, 79.82s/epoch]"
     ]
    },
    {
     "name": "stdout",
     "output_type": "stream",
     "text": [
      "Epoch 11/45, Train Loss: 0.5419, Train Accuracy: 0.7242, Valid Loss: 0.5440, Valid Accuracy: 0.7147\n"
     ]
    },
    {
     "name": "stderr",
     "output_type": "stream",
     "text": [
      "Epochs:  27%|██▋       | 12/45 [15:57<44:05, 80.16s/epoch]"
     ]
    },
    {
     "name": "stdout",
     "output_type": "stream",
     "text": [
      "Epoch 12/45, Train Loss: 0.5410, Train Accuracy: 0.7250, Valid Loss: 0.5417, Valid Accuracy: 0.7164\n"
     ]
    },
    {
     "name": "stderr",
     "output_type": "stream",
     "text": [
      "Epochs:  29%|██▉       | 13/45 [17:18<42:53, 80.43s/epoch]"
     ]
    },
    {
     "name": "stdout",
     "output_type": "stream",
     "text": [
      "Epoch 13/45, Train Loss: 0.5399, Train Accuracy: 0.7257, Valid Loss: 0.5410, Valid Accuracy: 0.7177\n"
     ]
    },
    {
     "name": "stderr",
     "output_type": "stream",
     "text": [
      "Epochs:  31%|███       | 14/45 [18:40<41:40, 80.65s/epoch]"
     ]
    },
    {
     "name": "stdout",
     "output_type": "stream",
     "text": [
      "Epoch 14/45, Train Loss: 0.5391, Train Accuracy: 0.7263, Valid Loss: 0.5399, Valid Accuracy: 0.7190\n"
     ]
    },
    {
     "name": "stderr",
     "output_type": "stream",
     "text": [
      "Epochs:  33%|███▎      | 15/45 [20:00<40:19, 80.66s/epoch]"
     ]
    },
    {
     "name": "stdout",
     "output_type": "stream",
     "text": [
      "Epoch 15/45, Train Loss: 0.5385, Train Accuracy: 0.7269, Valid Loss: 0.5485, Valid Accuracy: 0.7201\n"
     ]
    },
    {
     "name": "stderr",
     "output_type": "stream",
     "text": [
      "Epochs:  36%|███▌      | 16/45 [21:22<39:09, 81.01s/epoch]"
     ]
    },
    {
     "name": "stdout",
     "output_type": "stream",
     "text": [
      "Epoch 16/45, Train Loss: 0.5380, Train Accuracy: 0.7274, Valid Loss: 0.5640, Valid Accuracy: 0.7194\n"
     ]
    },
    {
     "name": "stderr",
     "output_type": "stream",
     "text": [
      "Epochs:  38%|███▊      | 17/45 [22:42<37:39, 80.70s/epoch]"
     ]
    },
    {
     "name": "stdout",
     "output_type": "stream",
     "text": [
      "Epoch 17/45, Train Loss: 0.5370, Train Accuracy: 0.7279, Valid Loss: 0.5411, Valid Accuracy: 0.7202\n"
     ]
    },
    {
     "name": "stderr",
     "output_type": "stream",
     "text": [
      "Epochs:  40%|████      | 18/45 [24:03<36:20, 80.77s/epoch]"
     ]
    },
    {
     "name": "stdout",
     "output_type": "stream",
     "text": [
      "Epoch 18/45, Train Loss: 0.5369, Train Accuracy: 0.7284, Valid Loss: 0.5721, Valid Accuracy: 0.7191\n"
     ]
    },
    {
     "name": "stderr",
     "output_type": "stream",
     "text": [
      "Epochs:  42%|████▏     | 19/45 [25:24<35:03, 80.89s/epoch]"
     ]
    },
    {
     "name": "stdout",
     "output_type": "stream",
     "text": [
      "Epoch 19/45, Train Loss: 0.5358, Train Accuracy: 0.7288, Valid Loss: 0.5536, Valid Accuracy: 0.7193\n"
     ]
    },
    {
     "name": "stderr",
     "output_type": "stream",
     "text": [
      "Epochs:  44%|████▍     | 20/45 [26:45<33:44, 80.99s/epoch]"
     ]
    },
    {
     "name": "stdout",
     "output_type": "stream",
     "text": [
      "Epoch 20/45, Train Loss: 0.5356, Train Accuracy: 0.7292, Valid Loss: 0.5376, Valid Accuracy: 0.7200\n"
     ]
    },
    {
     "name": "stderr",
     "output_type": "stream",
     "text": [
      "Epochs:  47%|████▋     | 21/45 [28:05<32:13, 80.55s/epoch]"
     ]
    },
    {
     "name": "stdout",
     "output_type": "stream",
     "text": [
      "Epoch 21/45, Train Loss: 0.5348, Train Accuracy: 0.7295, Valid Loss: 0.5435, Valid Accuracy: 0.7205\n"
     ]
    },
    {
     "name": "stderr",
     "output_type": "stream",
     "text": [
      "Epochs:  49%|████▉     | 22/45 [29:24<30:41, 80.08s/epoch]"
     ]
    },
    {
     "name": "stdout",
     "output_type": "stream",
     "text": [
      "Epoch 22/45, Train Loss: 0.5343, Train Accuracy: 0.7299, Valid Loss: 0.5550, Valid Accuracy: 0.7205\n"
     ]
    },
    {
     "name": "stderr",
     "output_type": "stream",
     "text": [
      "Epochs:  51%|█████     | 23/45 [30:43<29:15, 79.81s/epoch]"
     ]
    },
    {
     "name": "stdout",
     "output_type": "stream",
     "text": [
      "Epoch 23/45, Train Loss: 0.5336, Train Accuracy: 0.7303, Valid Loss: 0.5444, Valid Accuracy: 0.7211\n"
     ]
    },
    {
     "name": "stderr",
     "output_type": "stream",
     "text": [
      "Epochs:  53%|█████▎    | 24/45 [32:03<27:59, 79.98s/epoch]"
     ]
    },
    {
     "name": "stdout",
     "output_type": "stream",
     "text": [
      "Epoch 24/45, Train Loss: 0.5334, Train Accuracy: 0.7306, Valid Loss: 0.5500, Valid Accuracy: 0.7215\n"
     ]
    },
    {
     "name": "stderr",
     "output_type": "stream",
     "text": [
      "Epochs:  56%|█████▌    | 25/45 [33:23<26:40, 80.00s/epoch]"
     ]
    },
    {
     "name": "stdout",
     "output_type": "stream",
     "text": [
      "Epoch 25/45, Train Loss: 0.5323, Train Accuracy: 0.7309, Valid Loss: 0.5394, Valid Accuracy: 0.7220\n"
     ]
    },
    {
     "name": "stderr",
     "output_type": "stream",
     "text": [
      "Epochs:  58%|█████▊    | 26/45 [34:42<25:14, 79.71s/epoch]"
     ]
    },
    {
     "name": "stdout",
     "output_type": "stream",
     "text": [
      "Epoch 26/45, Train Loss: 0.5318, Train Accuracy: 0.7313, Valid Loss: 0.5407, Valid Accuracy: 0.7226\n"
     ]
    },
    {
     "name": "stderr",
     "output_type": "stream",
     "text": [
      "Epochs:  60%|██████    | 27/45 [36:02<23:52, 79.60s/epoch]"
     ]
    },
    {
     "name": "stdout",
     "output_type": "stream",
     "text": [
      "Epoch 27/45, Train Loss: 0.5317, Train Accuracy: 0.7316, Valid Loss: 0.5351, Valid Accuracy: 0.7231\n"
     ]
    },
    {
     "name": "stderr",
     "output_type": "stream",
     "text": [
      "Epochs:  62%|██████▏   | 28/45 [37:22<22:36, 79.81s/epoch]"
     ]
    },
    {
     "name": "stdout",
     "output_type": "stream",
     "text": [
      "Epoch 28/45, Train Loss: 0.5311, Train Accuracy: 0.7319, Valid Loss: 0.5515, Valid Accuracy: 0.7236\n"
     ]
    },
    {
     "name": "stderr",
     "output_type": "stream",
     "text": [
      "Epochs:  64%|██████▍   | 29/45 [38:44<21:28, 80.55s/epoch]"
     ]
    },
    {
     "name": "stdout",
     "output_type": "stream",
     "text": [
      "Epoch 29/45, Train Loss: 0.5310, Train Accuracy: 0.7322, Valid Loss: 0.5488, Valid Accuracy: 0.7237\n"
     ]
    },
    {
     "name": "stderr",
     "output_type": "stream",
     "text": [
      "Epochs:  67%|██████▋   | 30/45 [40:05<20:07, 80.48s/epoch]"
     ]
    },
    {
     "name": "stdout",
     "output_type": "stream",
     "text": [
      "Epoch 30/45, Train Loss: 0.5299, Train Accuracy: 0.7324, Valid Loss: 0.5425, Valid Accuracy: 0.7240\n"
     ]
    },
    {
     "name": "stderr",
     "output_type": "stream",
     "text": [
      "Epochs:  69%|██████▉   | 31/45 [41:24<18:41, 80.12s/epoch]"
     ]
    },
    {
     "name": "stdout",
     "output_type": "stream",
     "text": [
      "Epoch 31/45, Train Loss: 0.5296, Train Accuracy: 0.7327, Valid Loss: 0.5347, Valid Accuracy: 0.7245\n"
     ]
    },
    {
     "name": "stderr",
     "output_type": "stream",
     "text": [
      "Epochs:  71%|███████   | 32/45 [42:44<17:20, 80.05s/epoch]"
     ]
    },
    {
     "name": "stdout",
     "output_type": "stream",
     "text": [
      "Epoch 32/45, Train Loss: 0.5287, Train Accuracy: 0.7330, Valid Loss: 0.5370, Valid Accuracy: 0.7248\n"
     ]
    },
    {
     "name": "stderr",
     "output_type": "stream",
     "text": [
      "Epochs:  73%|███████▎  | 33/45 [44:04<15:59, 79.95s/epoch]"
     ]
    },
    {
     "name": "stdout",
     "output_type": "stream",
     "text": [
      "Epoch 33/45, Train Loss: 0.5281, Train Accuracy: 0.7333, Valid Loss: 0.5372, Valid Accuracy: 0.7252\n"
     ]
    },
    {
     "name": "stderr",
     "output_type": "stream",
     "text": [
      "Epochs:  76%|███████▌  | 34/45 [45:23<14:36, 79.72s/epoch]"
     ]
    },
    {
     "name": "stdout",
     "output_type": "stream",
     "text": [
      "Epoch 34/45, Train Loss: 0.5276, Train Accuracy: 0.7335, Valid Loss: 0.5480, Valid Accuracy: 0.7253\n"
     ]
    },
    {
     "name": "stderr",
     "output_type": "stream",
     "text": [
      "Epochs:  78%|███████▊  | 35/45 [46:43<13:18, 79.85s/epoch]"
     ]
    },
    {
     "name": "stdout",
     "output_type": "stream",
     "text": [
      "Epoch 35/45, Train Loss: 0.5269, Train Accuracy: 0.7338, Valid Loss: 0.5357, Valid Accuracy: 0.7257\n"
     ]
    },
    {
     "name": "stderr",
     "output_type": "stream",
     "text": [
      "Epochs:  80%|████████  | 36/45 [48:04<12:00, 80.06s/epoch]"
     ]
    },
    {
     "name": "stdout",
     "output_type": "stream",
     "text": [
      "Epoch 36/45, Train Loss: 0.5261, Train Accuracy: 0.7341, Valid Loss: 0.5482, Valid Accuracy: 0.7258\n"
     ]
    },
    {
     "name": "stderr",
     "output_type": "stream",
     "text": [
      "Epochs:  82%|████████▏ | 37/45 [49:23<10:38, 79.80s/epoch]"
     ]
    },
    {
     "name": "stdout",
     "output_type": "stream",
     "text": [
      "Epoch 37/45, Train Loss: 0.5256, Train Accuracy: 0.7343, Valid Loss: 0.5375, Valid Accuracy: 0.7261\n"
     ]
    },
    {
     "name": "stderr",
     "output_type": "stream",
     "text": [
      "Epochs:  84%|████████▍ | 38/45 [50:42<09:17, 79.61s/epoch]"
     ]
    },
    {
     "name": "stdout",
     "output_type": "stream",
     "text": [
      "Epoch 38/45, Train Loss: 0.5247, Train Accuracy: 0.7345, Valid Loss: 0.5346, Valid Accuracy: 0.7264\n"
     ]
    },
    {
     "name": "stderr",
     "output_type": "stream",
     "text": [
      "Epochs:  87%|████████▋ | 39/45 [52:01<07:57, 79.58s/epoch]"
     ]
    },
    {
     "name": "stdout",
     "output_type": "stream",
     "text": [
      "Epoch 39/45, Train Loss: 0.5237, Train Accuracy: 0.7348, Valid Loss: 0.5339, Valid Accuracy: 0.7268\n"
     ]
    },
    {
     "name": "stderr",
     "output_type": "stream",
     "text": [
      "Epochs:  89%|████████▉ | 40/45 [53:21<06:37, 79.56s/epoch]"
     ]
    },
    {
     "name": "stdout",
     "output_type": "stream",
     "text": [
      "Epoch 40/45, Train Loss: 0.5232, Train Accuracy: 0.7350, Valid Loss: 0.5463, Valid Accuracy: 0.7270\n"
     ]
    },
    {
     "name": "stderr",
     "output_type": "stream",
     "text": [
      "Epochs:  91%|█████████ | 41/45 [54:40<05:17, 79.48s/epoch]"
     ]
    },
    {
     "name": "stdout",
     "output_type": "stream",
     "text": [
      "Epoch 41/45, Train Loss: 0.5222, Train Accuracy: 0.7353, Valid Loss: 0.5638, Valid Accuracy: 0.7267\n"
     ]
    },
    {
     "name": "stderr",
     "output_type": "stream",
     "text": [
      "Epochs:  93%|█████████▎| 42/45 [55:59<03:58, 79.38s/epoch]"
     ]
    },
    {
     "name": "stdout",
     "output_type": "stream",
     "text": [
      "Epoch 42/45, Train Loss: 0.5218, Train Accuracy: 0.7355, Valid Loss: 0.5410, Valid Accuracy: 0.7270\n"
     ]
    },
    {
     "name": "stderr",
     "output_type": "stream",
     "text": [
      "Epochs:  96%|█████████▌| 43/45 [57:19<02:39, 79.50s/epoch]"
     ]
    },
    {
     "name": "stdout",
     "output_type": "stream",
     "text": [
      "Epoch 43/45, Train Loss: 0.5207, Train Accuracy: 0.7357, Valid Loss: 0.5352, Valid Accuracy: 0.7273\n"
     ]
    },
    {
     "name": "stderr",
     "output_type": "stream",
     "text": [
      "Epochs:  98%|█████████▊| 44/45 [58:41<01:20, 80.20s/epoch]"
     ]
    },
    {
     "name": "stdout",
     "output_type": "stream",
     "text": [
      "Epoch 44/45, Train Loss: 0.5202, Train Accuracy: 0.7359, Valid Loss: 0.5362, Valid Accuracy: 0.7276\n"
     ]
    },
    {
     "name": "stderr",
     "output_type": "stream",
     "text": [
      "Epochs: 100%|██████████| 45/45 [1:00:03<00:00, 80.08s/epoch]"
     ]
    },
    {
     "name": "stdout",
     "output_type": "stream",
     "text": [
      "Epoch 45/45, Train Loss: 0.5191, Train Accuracy: 0.7361, Valid Loss: 0.5423, Valid Accuracy: 0.7278\n",
      "*** Fold 1***\n",
      "Training Started.....\n"
     ]
    },
    {
     "name": "stderr",
     "output_type": "stream",
     "text": [
      "\n",
      "Epochs:   2%|▏         | 1/45 [01:21<1:00:01, 81.86s/epoch]"
     ]
    },
    {
     "name": "stdout",
     "output_type": "stream",
     "text": [
      "Epoch 1/45, Train Loss: 0.5971, Train Accuracy: 0.6896, Valid Loss: 0.5783, Valid Accuracy: 0.7102\n"
     ]
    },
    {
     "name": "stderr",
     "output_type": "stream",
     "text": [
      "Epochs:   4%|▍         | 2/45 [02:44<58:53, 82.18s/epoch]  "
     ]
    },
    {
     "name": "stdout",
     "output_type": "stream",
     "text": [
      "Epoch 2/45, Train Loss: 0.5667, Train Accuracy: 0.7033, Valid Loss: 0.6819, Valid Accuracy: 0.6572\n"
     ]
    },
    {
     "name": "stderr",
     "output_type": "stream",
     "text": [
      "Epochs:   7%|▋         | 3/45 [04:06<57:25, 82.04s/epoch]"
     ]
    },
    {
     "name": "stdout",
     "output_type": "stream",
     "text": [
      "Epoch 3/45, Train Loss: 0.5586, Train Accuracy: 0.7097, Valid Loss: 0.6649, Valid Accuracy: 0.6640\n"
     ]
    },
    {
     "name": "stderr",
     "output_type": "stream",
     "text": [
      "Epochs:   9%|▉         | 4/45 [05:28<56:06, 82.12s/epoch]"
     ]
    },
    {
     "name": "stdout",
     "output_type": "stream",
     "text": [
      "Epoch 4/45, Train Loss: 0.5549, Train Accuracy: 0.7134, Valid Loss: 0.5554, Valid Accuracy: 0.6787\n"
     ]
    },
    {
     "name": "stderr",
     "output_type": "stream",
     "text": [
      "Epochs:  11%|█         | 5/45 [06:50<54:49, 82.23s/epoch]"
     ]
    },
    {
     "name": "stdout",
     "output_type": "stream",
     "text": [
      "Epoch 5/45, Train Loss: 0.5517, Train Accuracy: 0.7161, Valid Loss: 0.5502, Valid Accuracy: 0.6879\n"
     ]
    },
    {
     "name": "stderr",
     "output_type": "stream",
     "text": [
      "Epochs:  13%|█▎        | 6/45 [08:13<53:33, 82.39s/epoch]"
     ]
    },
    {
     "name": "stdout",
     "output_type": "stream",
     "text": [
      "Epoch 6/45, Train Loss: 0.5497, Train Accuracy: 0.7180, Valid Loss: 0.5782, Valid Accuracy: 0.6895\n"
     ]
    },
    {
     "name": "stderr",
     "output_type": "stream",
     "text": [
      "Epochs:  16%|█▌        | 7/45 [09:35<52:11, 82.41s/epoch]"
     ]
    },
    {
     "name": "stdout",
     "output_type": "stream",
     "text": [
      "Epoch 7/45, Train Loss: 0.5473, Train Accuracy: 0.7196, Valid Loss: 0.5692, Valid Accuracy: 0.6911\n"
     ]
    },
    {
     "name": "stderr",
     "output_type": "stream",
     "text": [
      "Epochs:  18%|█▊        | 8/45 [10:58<50:51, 82.46s/epoch]"
     ]
    },
    {
     "name": "stdout",
     "output_type": "stream",
     "text": [
      "Epoch 8/45, Train Loss: 0.5463, Train Accuracy: 0.7209, Valid Loss: 0.5847, Valid Accuracy: 0.6922\n"
     ]
    },
    {
     "name": "stderr",
     "output_type": "stream",
     "text": [
      "Epochs:  20%|██        | 9/45 [12:21<49:32, 82.56s/epoch]"
     ]
    },
    {
     "name": "stdout",
     "output_type": "stream",
     "text": [
      "Epoch 9/45, Train Loss: 0.5452, Train Accuracy: 0.7221, Valid Loss: 0.5516, Valid Accuracy: 0.6957\n"
     ]
    },
    {
     "name": "stderr",
     "output_type": "stream",
     "text": [
      "Epochs:  22%|██▏       | 10/45 [13:44<48:13, 82.68s/epoch]"
     ]
    },
    {
     "name": "stdout",
     "output_type": "stream",
     "text": [
      "Epoch 10/45, Train Loss: 0.5433, Train Accuracy: 0.7231, Valid Loss: 0.5420, Valid Accuracy: 0.6992\n"
     ]
    },
    {
     "name": "stderr",
     "output_type": "stream",
     "text": [
      "Epochs:  24%|██▍       | 11/45 [15:07<46:55, 82.81s/epoch]"
     ]
    },
    {
     "name": "stdout",
     "output_type": "stream",
     "text": [
      "Epoch 11/45, Train Loss: 0.5429, Train Accuracy: 0.7240, Valid Loss: 0.5463, Valid Accuracy: 0.7016\n"
     ]
    },
    {
     "name": "stderr",
     "output_type": "stream",
     "text": [
      "Epochs:  27%|██▋       | 12/45 [16:30<45:33, 82.85s/epoch]"
     ]
    },
    {
     "name": "stdout",
     "output_type": "stream",
     "text": [
      "Epoch 12/45, Train Loss: 0.5419, Train Accuracy: 0.7247, Valid Loss: 0.5388, Valid Accuracy: 0.7043\n"
     ]
    },
    {
     "name": "stderr",
     "output_type": "stream",
     "text": [
      "Epochs:  29%|██▉       | 13/45 [17:53<44:14, 82.96s/epoch]"
     ]
    },
    {
     "name": "stdout",
     "output_type": "stream",
     "text": [
      "Epoch 13/45, Train Loss: 0.5407, Train Accuracy: 0.7255, Valid Loss: 0.5371, Valid Accuracy: 0.7067\n"
     ]
    },
    {
     "name": "stderr",
     "output_type": "stream",
     "text": [
      "Epochs:  31%|███       | 14/45 [19:16<42:51, 82.95s/epoch]"
     ]
    },
    {
     "name": "stdout",
     "output_type": "stream",
     "text": [
      "Epoch 14/45, Train Loss: 0.5402, Train Accuracy: 0.7261, Valid Loss: 0.5420, Valid Accuracy: 0.7084\n"
     ]
    },
    {
     "name": "stderr",
     "output_type": "stream",
     "text": [
      "Epochs:  33%|███▎      | 15/45 [20:39<41:25, 82.83s/epoch]"
     ]
    },
    {
     "name": "stdout",
     "output_type": "stream",
     "text": [
      "Epoch 15/45, Train Loss: 0.5393, Train Accuracy: 0.7267, Valid Loss: 0.5403, Valid Accuracy: 0.7101\n"
     ]
    },
    {
     "name": "stderr",
     "output_type": "stream",
     "text": [
      "Epochs:  36%|███▌      | 16/45 [22:01<40:03, 82.88s/epoch]"
     ]
    },
    {
     "name": "stdout",
     "output_type": "stream",
     "text": [
      "Epoch 16/45, Train Loss: 0.5385, Train Accuracy: 0.7272, Valid Loss: 0.8309, Valid Accuracy: 0.6994\n"
     ]
    },
    {
     "name": "stderr",
     "output_type": "stream",
     "text": [
      "Epochs:  38%|███▊      | 17/45 [23:25<38:44, 83.01s/epoch]"
     ]
    },
    {
     "name": "stdout",
     "output_type": "stream",
     "text": [
      "Epoch 17/45, Train Loss: 0.5378, Train Accuracy: 0.7277, Valid Loss: 0.5399, Valid Accuracy: 0.7014\n"
     ]
    },
    {
     "name": "stderr",
     "output_type": "stream",
     "text": [
      "Epochs:  40%|████      | 18/45 [24:48<37:24, 83.12s/epoch]"
     ]
    },
    {
     "name": "stdout",
     "output_type": "stream",
     "text": [
      "Epoch 18/45, Train Loss: 0.5370, Train Accuracy: 0.7282, Valid Loss: 0.5687, Valid Accuracy: 0.7023\n"
     ]
    },
    {
     "name": "stderr",
     "output_type": "stream",
     "text": [
      "Epochs:  42%|████▏     | 19/45 [26:11<35:59, 83.05s/epoch]"
     ]
    },
    {
     "name": "stdout",
     "output_type": "stream",
     "text": [
      "Epoch 19/45, Train Loss: 0.5365, Train Accuracy: 0.7286, Valid Loss: 0.5342, Valid Accuracy: 0.7041\n"
     ]
    },
    {
     "name": "stderr",
     "output_type": "stream",
     "text": [
      "Epochs:  44%|████▍     | 20/45 [27:34<34:33, 82.93s/epoch]"
     ]
    },
    {
     "name": "stdout",
     "output_type": "stream",
     "text": [
      "Epoch 20/45, Train Loss: 0.5355, Train Accuracy: 0.7290, Valid Loss: 0.5369, Valid Accuracy: 0.7057\n"
     ]
    },
    {
     "name": "stderr",
     "output_type": "stream",
     "text": [
      "Epochs:  47%|████▋     | 21/45 [28:56<33:06, 82.75s/epoch]"
     ]
    },
    {
     "name": "stdout",
     "output_type": "stream",
     "text": [
      "Epoch 21/45, Train Loss: 0.5349, Train Accuracy: 0.7294, Valid Loss: 0.5889, Valid Accuracy: 0.7053\n"
     ]
    },
    {
     "name": "stderr",
     "output_type": "stream",
     "text": [
      "Epochs:  49%|████▉     | 22/45 [30:18<31:39, 82.59s/epoch]"
     ]
    },
    {
     "name": "stdout",
     "output_type": "stream",
     "text": [
      "Epoch 22/45, Train Loss: 0.5337, Train Accuracy: 0.7298, Valid Loss: 0.5366, Valid Accuracy: 0.7068\n"
     ]
    },
    {
     "name": "stderr",
     "output_type": "stream",
     "text": [
      "Epochs:  51%|█████     | 23/45 [31:42<30:22, 82.85s/epoch]"
     ]
    },
    {
     "name": "stdout",
     "output_type": "stream",
     "text": [
      "Epoch 23/45, Train Loss: 0.5330, Train Accuracy: 0.7302, Valid Loss: 0.5590, Valid Accuracy: 0.7072\n"
     ]
    },
    {
     "name": "stderr",
     "output_type": "stream",
     "text": [
      "Epochs:  53%|█████▎    | 24/45 [33:04<28:56, 82.69s/epoch]"
     ]
    },
    {
     "name": "stdout",
     "output_type": "stream",
     "text": [
      "Epoch 24/45, Train Loss: 0.5323, Train Accuracy: 0.7306, Valid Loss: 0.5358, Valid Accuracy: 0.7084\n"
     ]
    },
    {
     "name": "stderr",
     "output_type": "stream",
     "text": [
      "Epochs:  56%|█████▌    | 25/45 [34:27<27:33, 82.70s/epoch]"
     ]
    },
    {
     "name": "stdout",
     "output_type": "stream",
     "text": [
      "Epoch 25/45, Train Loss: 0.5311, Train Accuracy: 0.7309, Valid Loss: 0.5659, Valid Accuracy: 0.7084\n"
     ]
    },
    {
     "name": "stderr",
     "output_type": "stream",
     "text": [
      "Epochs:  58%|█████▊    | 26/45 [35:50<26:11, 82.73s/epoch]"
     ]
    },
    {
     "name": "stdout",
     "output_type": "stream",
     "text": [
      "Epoch 26/45, Train Loss: 0.5305, Train Accuracy: 0.7313, Valid Loss: 0.5376, Valid Accuracy: 0.7095\n"
     ]
    },
    {
     "name": "stderr",
     "output_type": "stream",
     "text": [
      "Epochs:  60%|██████    | 27/45 [37:12<24:47, 82.61s/epoch]"
     ]
    },
    {
     "name": "stdout",
     "output_type": "stream",
     "text": [
      "Epoch 27/45, Train Loss: 0.5297, Train Accuracy: 0.7317, Valid Loss: 0.5383, Valid Accuracy: 0.7105\n"
     ]
    },
    {
     "name": "stderr",
     "output_type": "stream",
     "text": [
      "Epochs:  62%|██████▏   | 28/45 [38:35<23:24, 82.62s/epoch]"
     ]
    },
    {
     "name": "stdout",
     "output_type": "stream",
     "text": [
      "Epoch 28/45, Train Loss: 0.5291, Train Accuracy: 0.7320, Valid Loss: 0.5417, Valid Accuracy: 0.7112\n"
     ]
    },
    {
     "name": "stderr",
     "output_type": "stream",
     "text": [
      "Epochs:  64%|██████▍   | 29/45 [39:57<22:02, 82.66s/epoch]"
     ]
    },
    {
     "name": "stdout",
     "output_type": "stream",
     "text": [
      "Epoch 29/45, Train Loss: 0.5281, Train Accuracy: 0.7323, Valid Loss: 0.5415, Valid Accuracy: 0.7119\n"
     ]
    },
    {
     "name": "stderr",
     "output_type": "stream",
     "text": [
      "Epochs:  67%|██████▋   | 30/45 [41:20<20:40, 82.72s/epoch]"
     ]
    },
    {
     "name": "stdout",
     "output_type": "stream",
     "text": [
      "Epoch 30/45, Train Loss: 0.5269, Train Accuracy: 0.7327, Valid Loss: 0.5505, Valid Accuracy: 0.7123\n"
     ]
    },
    {
     "name": "stderr",
     "output_type": "stream",
     "text": [
      "Epochs:  69%|██████▉   | 31/45 [42:42<19:16, 82.59s/epoch]"
     ]
    },
    {
     "name": "stdout",
     "output_type": "stream",
     "text": [
      "Epoch 31/45, Train Loss: 0.5260, Train Accuracy: 0.7330, Valid Loss: 0.5408, Valid Accuracy: 0.7130\n"
     ]
    },
    {
     "name": "stderr",
     "output_type": "stream",
     "text": [
      "Epochs:  71%|███████   | 32/45 [44:05<17:53, 82.59s/epoch]"
     ]
    },
    {
     "name": "stdout",
     "output_type": "stream",
     "text": [
      "Epoch 32/45, Train Loss: 0.5250, Train Accuracy: 0.7333, Valid Loss: 0.5678, Valid Accuracy: 0.7129\n"
     ]
    },
    {
     "name": "stderr",
     "output_type": "stream",
     "text": [
      "Epochs:  73%|███████▎  | 33/45 [45:28<16:31, 82.66s/epoch]"
     ]
    },
    {
     "name": "stdout",
     "output_type": "stream",
     "text": [
      "Epoch 33/45, Train Loss: 0.5245, Train Accuracy: 0.7336, Valid Loss: 0.5628, Valid Accuracy: 0.7131\n"
     ]
    },
    {
     "name": "stderr",
     "output_type": "stream",
     "text": [
      "Epochs:  76%|███████▌  | 34/45 [46:51<15:10, 82.77s/epoch]"
     ]
    },
    {
     "name": "stdout",
     "output_type": "stream",
     "text": [
      "Epoch 34/45, Train Loss: 0.5229, Train Accuracy: 0.7339, Valid Loss: 0.5420, Valid Accuracy: 0.7138\n"
     ]
    },
    {
     "name": "stderr",
     "output_type": "stream",
     "text": [
      "Epochs:  78%|███████▊  | 35/45 [48:14<13:50, 83.01s/epoch]"
     ]
    },
    {
     "name": "stdout",
     "output_type": "stream",
     "text": [
      "Epoch 35/45, Train Loss: 0.5223, Train Accuracy: 0.7343, Valid Loss: 0.5482, Valid Accuracy: 0.7142\n"
     ]
    },
    {
     "name": "stderr",
     "output_type": "stream",
     "text": [
      "Epochs:  80%|████████  | 36/45 [49:38<12:27, 83.06s/epoch]"
     ]
    },
    {
     "name": "stdout",
     "output_type": "stream",
     "text": [
      "Epoch 36/45, Train Loss: 0.5211, Train Accuracy: 0.7346, Valid Loss: 0.5412, Valid Accuracy: 0.7147\n"
     ]
    },
    {
     "name": "stderr",
     "output_type": "stream",
     "text": [
      "Epochs:  82%|████████▏ | 37/45 [51:01<11:05, 83.16s/epoch]"
     ]
    },
    {
     "name": "stdout",
     "output_type": "stream",
     "text": [
      "Epoch 37/45, Train Loss: 0.5199, Train Accuracy: 0.7349, Valid Loss: 0.5436, Valid Accuracy: 0.7153\n"
     ]
    },
    {
     "name": "stderr",
     "output_type": "stream",
     "text": [
      "Epochs:  84%|████████▍ | 38/45 [52:24<09:42, 83.25s/epoch]"
     ]
    },
    {
     "name": "stdout",
     "output_type": "stream",
     "text": [
      "Epoch 38/45, Train Loss: 0.5184, Train Accuracy: 0.7352, Valid Loss: 0.5449, Valid Accuracy: 0.7159\n"
     ]
    },
    {
     "name": "stderr",
     "output_type": "stream",
     "text": [
      "Epochs:  87%|████████▋ | 39/45 [53:47<08:18, 83.02s/epoch]"
     ]
    },
    {
     "name": "stdout",
     "output_type": "stream",
     "text": [
      "Epoch 39/45, Train Loss: 0.5179, Train Accuracy: 0.7355, Valid Loss: 0.6299, Valid Accuracy: 0.7148\n"
     ]
    },
    {
     "name": "stderr",
     "output_type": "stream",
     "text": [
      "Epochs:  89%|████████▉ | 40/45 [55:10<06:54, 82.89s/epoch]"
     ]
    },
    {
     "name": "stdout",
     "output_type": "stream",
     "text": [
      "Epoch 40/45, Train Loss: 0.5164, Train Accuracy: 0.7358, Valid Loss: 0.5488, Valid Accuracy: 0.7154\n"
     ]
    },
    {
     "name": "stderr",
     "output_type": "stream",
     "text": [
      "Epochs:  91%|█████████ | 41/45 [56:33<05:32, 83.08s/epoch]"
     ]
    },
    {
     "name": "stdout",
     "output_type": "stream",
     "text": [
      "Epoch 41/45, Train Loss: 0.5151, Train Accuracy: 0.7361, Valid Loss: 0.5572, Valid Accuracy: 0.7157\n"
     ]
    },
    {
     "name": "stderr",
     "output_type": "stream",
     "text": [
      "Epochs:  93%|█████████▎| 42/45 [57:56<04:09, 83.08s/epoch]"
     ]
    },
    {
     "name": "stdout",
     "output_type": "stream",
     "text": [
      "Epoch 42/45, Train Loss: 0.5137, Train Accuracy: 0.7364, Valid Loss: 0.5525, Valid Accuracy: 0.7161\n"
     ]
    },
    {
     "name": "stderr",
     "output_type": "stream",
     "text": [
      "Epochs:  96%|█████████▌| 43/45 [59:20<02:46, 83.20s/epoch]"
     ]
    },
    {
     "name": "stdout",
     "output_type": "stream",
     "text": [
      "Epoch 43/45, Train Loss: 0.5126, Train Accuracy: 0.7367, Valid Loss: 0.5505, Valid Accuracy: 0.7165\n"
     ]
    },
    {
     "name": "stderr",
     "output_type": "stream",
     "text": [
      "Epochs:  98%|█████████▊| 44/45 [1:00:42<01:23, 83.03s/epoch]"
     ]
    },
    {
     "name": "stdout",
     "output_type": "stream",
     "text": [
      "Epoch 44/45, Train Loss: 0.5115, Train Accuracy: 0.7370, Valid Loss: 0.5712, Valid Accuracy: 0.7167\n"
     ]
    },
    {
     "name": "stderr",
     "output_type": "stream",
     "text": [
      "Epochs: 100%|██████████| 45/45 [1:02:05<00:00, 82.79s/epoch]"
     ]
    },
    {
     "name": "stdout",
     "output_type": "stream",
     "text": [
      "Epoch 45/45, Train Loss: 0.5097, Train Accuracy: 0.7374, Valid Loss: 0.5509, Valid Accuracy: 0.7171\n",
      "*** Fold 2***\n",
      "Training Started.....\n"
     ]
    },
    {
     "name": "stderr",
     "output_type": "stream",
     "text": [
      "\n",
      "Epochs:   2%|▏         | 1/45 [01:22<1:00:36, 82.64s/epoch]"
     ]
    },
    {
     "name": "stdout",
     "output_type": "stream",
     "text": [
      "Epoch 1/45, Train Loss: 0.5950, Train Accuracy: 0.6910, Valid Loss: 0.5791, Valid Accuracy: 0.7110\n"
     ]
    },
    {
     "name": "stderr",
     "output_type": "stream",
     "text": [
      "Epochs:   4%|▍         | 2/45 [02:44<59:06, 82.47s/epoch]  "
     ]
    },
    {
     "name": "stdout",
     "output_type": "stream",
     "text": [
      "Epoch 2/45, Train Loss: 0.5656, Train Accuracy: 0.7041, Valid Loss: 0.6255, Valid Accuracy: 0.6893\n"
     ]
    },
    {
     "name": "stderr",
     "output_type": "stream",
     "text": [
      "Epochs:   7%|▋         | 3/45 [04:07<57:51, 82.64s/epoch]"
     ]
    },
    {
     "name": "stdout",
     "output_type": "stream",
     "text": [
      "Epoch 3/45, Train Loss: 0.5582, Train Accuracy: 0.7100, Valid Loss: 0.5702, Valid Accuracy: 0.6960\n"
     ]
    },
    {
     "name": "stderr",
     "output_type": "stream",
     "text": [
      "Epochs:   9%|▉         | 4/45 [05:30<56:32, 82.75s/epoch]"
     ]
    },
    {
     "name": "stdout",
     "output_type": "stream",
     "text": [
      "Epoch 4/45, Train Loss: 0.5537, Train Accuracy: 0.7139, Valid Loss: 0.6060, Valid Accuracy: 0.6968\n"
     ]
    },
    {
     "name": "stderr",
     "output_type": "stream",
     "text": [
      "Epochs:  11%|█         | 5/45 [06:53<55:15, 82.88s/epoch]"
     ]
    },
    {
     "name": "stdout",
     "output_type": "stream",
     "text": [
      "Epoch 5/45, Train Loss: 0.5506, Train Accuracy: 0.7165, Valid Loss: 0.5578, Valid Accuracy: 0.7015\n"
     ]
    },
    {
     "name": "stderr",
     "output_type": "stream",
     "text": [
      "Epochs:  13%|█▎        | 6/45 [08:17<54:00, 83.09s/epoch]"
     ]
    },
    {
     "name": "stdout",
     "output_type": "stream",
     "text": [
      "Epoch 6/45, Train Loss: 0.5483, Train Accuracy: 0.7185, Valid Loss: 0.6235, Valid Accuracy: 0.6985\n"
     ]
    },
    {
     "name": "stderr",
     "output_type": "stream",
     "text": [
      "Epochs:  16%|█▌        | 7/45 [09:40<52:33, 82.98s/epoch]"
     ]
    },
    {
     "name": "stdout",
     "output_type": "stream",
     "text": [
      "Epoch 7/45, Train Loss: 0.5458, Train Accuracy: 0.7202, Valid Loss: 0.5803, Valid Accuracy: 0.6987\n"
     ]
    },
    {
     "name": "stderr",
     "output_type": "stream",
     "text": [
      "Epochs:  18%|█▊        | 8/45 [11:02<51:06, 82.88s/epoch]"
     ]
    },
    {
     "name": "stdout",
     "output_type": "stream",
     "text": [
      "Epoch 8/45, Train Loss: 0.5439, Train Accuracy: 0.7217, Valid Loss: 0.5523, Valid Accuracy: 0.7021\n"
     ]
    },
    {
     "name": "stderr",
     "output_type": "stream",
     "text": [
      "Epochs:  20%|██        | 9/45 [12:25<49:40, 82.80s/epoch]"
     ]
    },
    {
     "name": "stdout",
     "output_type": "stream",
     "text": [
      "Epoch 9/45, Train Loss: 0.5428, Train Accuracy: 0.7229, Valid Loss: 0.5573, Valid Accuracy: 0.7037\n"
     ]
    },
    {
     "name": "stderr",
     "output_type": "stream",
     "text": [
      "Epochs:  22%|██▏       | 10/45 [13:47<48:15, 82.72s/epoch]"
     ]
    },
    {
     "name": "stdout",
     "output_type": "stream",
     "text": [
      "Epoch 10/45, Train Loss: 0.5413, Train Accuracy: 0.7240, Valid Loss: 0.5515, Valid Accuracy: 0.7058\n"
     ]
    },
    {
     "name": "stderr",
     "output_type": "stream",
     "text": [
      "Epochs:  24%|██▍       | 11/45 [15:10<46:54, 82.77s/epoch]"
     ]
    },
    {
     "name": "stdout",
     "output_type": "stream",
     "text": [
      "Epoch 11/45, Train Loss: 0.5403, Train Accuracy: 0.7249, Valid Loss: 0.5567, Valid Accuracy: 0.7071\n"
     ]
    },
    {
     "name": "stderr",
     "output_type": "stream",
     "text": [
      "Epochs:  27%|██▋       | 12/45 [16:33<45:32, 82.80s/epoch]"
     ]
    },
    {
     "name": "stdout",
     "output_type": "stream",
     "text": [
      "Epoch 12/45, Train Loss: 0.5394, Train Accuracy: 0.7257, Valid Loss: 0.5836, Valid Accuracy: 0.7059\n"
     ]
    },
    {
     "name": "stderr",
     "output_type": "stream",
     "text": [
      "Epochs:  29%|██▉       | 13/45 [17:56<44:05, 82.69s/epoch]"
     ]
    },
    {
     "name": "stdout",
     "output_type": "stream",
     "text": [
      "Epoch 13/45, Train Loss: 0.5388, Train Accuracy: 0.7264, Valid Loss: 0.5440, Valid Accuracy: 0.7080\n"
     ]
    },
    {
     "name": "stderr",
     "output_type": "stream",
     "text": [
      "Epochs:  31%|███       | 14/45 [19:17<42:30, 82.29s/epoch]"
     ]
    },
    {
     "name": "stdout",
     "output_type": "stream",
     "text": [
      "Epoch 14/45, Train Loss: 0.5378, Train Accuracy: 0.7270, Valid Loss: 0.5892, Valid Accuracy: 0.7057\n"
     ]
    },
    {
     "name": "stderr",
     "output_type": "stream",
     "text": [
      "Epochs:  33%|███▎      | 15/45 [20:39<41:08, 82.28s/epoch]"
     ]
    },
    {
     "name": "stdout",
     "output_type": "stream",
     "text": [
      "Epoch 15/45, Train Loss: 0.5369, Train Accuracy: 0.7276, Valid Loss: 0.9717, Valid Accuracy: 0.6940\n"
     ]
    },
    {
     "name": "stderr",
     "output_type": "stream",
     "text": [
      "Epochs:  36%|███▌      | 16/45 [22:01<39:45, 82.26s/epoch]"
     ]
    },
    {
     "name": "stdout",
     "output_type": "stream",
     "text": [
      "Epoch 16/45, Train Loss: 0.5361, Train Accuracy: 0.7282, Valid Loss: 0.5424, Valid Accuracy: 0.6966\n"
     ]
    },
    {
     "name": "stderr",
     "output_type": "stream",
     "text": [
      "Epochs:  38%|███▊      | 17/45 [23:24<38:21, 82.20s/epoch]"
     ]
    },
    {
     "name": "stdout",
     "output_type": "stream",
     "text": [
      "Epoch 17/45, Train Loss: 0.5349, Train Accuracy: 0.7288, Valid Loss: 0.5479, Valid Accuracy: 0.6983\n"
     ]
    },
    {
     "name": "stderr",
     "output_type": "stream",
     "text": [
      "Epochs:  40%|████      | 18/45 [24:44<36:49, 81.82s/epoch]"
     ]
    },
    {
     "name": "stdout",
     "output_type": "stream",
     "text": [
      "Epoch 18/45, Train Loss: 0.5344, Train Accuracy: 0.7293, Valid Loss: 0.5455, Valid Accuracy: 0.7001\n"
     ]
    },
    {
     "name": "stderr",
     "output_type": "stream",
     "text": [
      "Epochs:  42%|████▏     | 19/45 [26:06<35:27, 81.84s/epoch]"
     ]
    },
    {
     "name": "stdout",
     "output_type": "stream",
     "text": [
      "Epoch 19/45, Train Loss: 0.5339, Train Accuracy: 0.7298, Valid Loss: 0.5466, Valid Accuracy: 0.7015\n"
     ]
    },
    {
     "name": "stderr",
     "output_type": "stream",
     "text": [
      "Epochs:  44%|████▍     | 20/45 [27:29<34:08, 81.94s/epoch]"
     ]
    },
    {
     "name": "stdout",
     "output_type": "stream",
     "text": [
      "Epoch 20/45, Train Loss: 0.5335, Train Accuracy: 0.7302, Valid Loss: 0.5676, Valid Accuracy: 0.7025\n"
     ]
    },
    {
     "name": "stderr",
     "output_type": "stream",
     "text": [
      "Epochs:  47%|████▋     | 21/45 [28:51<32:47, 81.98s/epoch]"
     ]
    },
    {
     "name": "stdout",
     "output_type": "stream",
     "text": [
      "Epoch 21/45, Train Loss: 0.5326, Train Accuracy: 0.7306, Valid Loss: 0.6269, Valid Accuracy: 0.6998\n"
     ]
    },
    {
     "name": "stderr",
     "output_type": "stream",
     "text": [
      "Epochs:  49%|████▉     | 22/45 [30:13<31:26, 82.01s/epoch]"
     ]
    },
    {
     "name": "stdout",
     "output_type": "stream",
     "text": [
      "Epoch 22/45, Train Loss: 0.5318, Train Accuracy: 0.7310, Valid Loss: 0.6018, Valid Accuracy: 0.6982\n"
     ]
    },
    {
     "name": "stderr",
     "output_type": "stream",
     "text": [
      "Epochs:  51%|█████     | 23/45 [31:34<29:57, 81.69s/epoch]"
     ]
    },
    {
     "name": "stdout",
     "output_type": "stream",
     "text": [
      "Epoch 23/45, Train Loss: 0.5310, Train Accuracy: 0.7314, Valid Loss: 0.6402, Valid Accuracy: 0.6959\n"
     ]
    },
    {
     "name": "stderr",
     "output_type": "stream",
     "text": [
      "Epochs:  53%|█████▎    | 24/45 [32:55<28:31, 81.49s/epoch]"
     ]
    },
    {
     "name": "stdout",
     "output_type": "stream",
     "text": [
      "Epoch 24/45, Train Loss: 0.5303, Train Accuracy: 0.7318, Valid Loss: 0.5413, Valid Accuracy: 0.6974\n"
     ]
    },
    {
     "name": "stderr",
     "output_type": "stream",
     "text": [
      "Epochs:  56%|█████▌    | 25/45 [34:15<27:03, 81.19s/epoch]"
     ]
    },
    {
     "name": "stdout",
     "output_type": "stream",
     "text": [
      "Epoch 25/45, Train Loss: 0.5294, Train Accuracy: 0.7321, Valid Loss: 0.5827, Valid Accuracy: 0.6974\n"
     ]
    },
    {
     "name": "stderr",
     "output_type": "stream",
     "text": [
      "Epochs:  58%|█████▊    | 26/45 [35:36<25:41, 81.14s/epoch]"
     ]
    },
    {
     "name": "stdout",
     "output_type": "stream",
     "text": [
      "Epoch 26/45, Train Loss: 0.5282, Train Accuracy: 0.7325, Valid Loss: 0.5545, Valid Accuracy: 0.6987\n"
     ]
    },
    {
     "name": "stderr",
     "output_type": "stream",
     "text": [
      "Epochs:  60%|██████    | 27/45 [36:58<24:24, 81.34s/epoch]"
     ]
    },
    {
     "name": "stdout",
     "output_type": "stream",
     "text": [
      "Epoch 27/45, Train Loss: 0.5280, Train Accuracy: 0.7328, Valid Loss: 0.5441, Valid Accuracy: 0.6999\n"
     ]
    },
    {
     "name": "stderr",
     "output_type": "stream",
     "text": [
      "Epochs:  62%|██████▏   | 28/45 [38:19<23:02, 81.31s/epoch]"
     ]
    },
    {
     "name": "stdout",
     "output_type": "stream",
     "text": [
      "Epoch 28/45, Train Loss: 0.5273, Train Accuracy: 0.7331, Valid Loss: 0.5468, Valid Accuracy: 0.7012\n"
     ]
    },
    {
     "name": "stderr",
     "output_type": "stream",
     "text": [
      "Epochs:  64%|██████▍   | 29/45 [39:40<21:38, 81.14s/epoch]"
     ]
    },
    {
     "name": "stdout",
     "output_type": "stream",
     "text": [
      "Epoch 29/45, Train Loss: 0.5268, Train Accuracy: 0.7334, Valid Loss: 0.5448, Valid Accuracy: 0.7022\n"
     ]
    },
    {
     "name": "stderr",
     "output_type": "stream",
     "text": [
      "Epochs:  67%|██████▋   | 30/45 [41:01<20:16, 81.10s/epoch]"
     ]
    },
    {
     "name": "stdout",
     "output_type": "stream",
     "text": [
      "Epoch 30/45, Train Loss: 0.5259, Train Accuracy: 0.7338, Valid Loss: 0.6080, Valid Accuracy: 0.7012\n"
     ]
    },
    {
     "name": "stderr",
     "output_type": "stream",
     "text": [
      "Epochs:  69%|██████▉   | 31/45 [42:22<18:55, 81.11s/epoch]"
     ]
    },
    {
     "name": "stdout",
     "output_type": "stream",
     "text": [
      "Epoch 31/45, Train Loss: 0.5251, Train Accuracy: 0.7340, Valid Loss: 0.5443, Valid Accuracy: 0.7022\n"
     ]
    },
    {
     "name": "stderr",
     "output_type": "stream",
     "text": [
      "Epochs:  71%|███████   | 32/45 [43:43<17:35, 81.16s/epoch]"
     ]
    },
    {
     "name": "stdout",
     "output_type": "stream",
     "text": [
      "Epoch 32/45, Train Loss: 0.5244, Train Accuracy: 0.7343, Valid Loss: 0.5456, Valid Accuracy: 0.7031\n"
     ]
    },
    {
     "name": "stderr",
     "output_type": "stream",
     "text": [
      "Epochs:  73%|███████▎  | 33/45 [45:04<16:12, 81.08s/epoch]"
     ]
    },
    {
     "name": "stdout",
     "output_type": "stream",
     "text": [
      "Epoch 33/45, Train Loss: 0.5238, Train Accuracy: 0.7346, Valid Loss: 0.6125, Valid Accuracy: 0.7019\n"
     ]
    },
    {
     "name": "stderr",
     "output_type": "stream",
     "text": [
      "Epochs:  76%|███████▌  | 34/45 [46:25<14:50, 80.98s/epoch]"
     ]
    },
    {
     "name": "stdout",
     "output_type": "stream",
     "text": [
      "Epoch 34/45, Train Loss: 0.5230, Train Accuracy: 0.7349, Valid Loss: 0.5512, Valid Accuracy: 0.7025\n"
     ]
    },
    {
     "name": "stderr",
     "output_type": "stream",
     "text": [
      "Epochs:  78%|███████▊  | 35/45 [47:46<13:29, 80.93s/epoch]"
     ]
    },
    {
     "name": "stdout",
     "output_type": "stream",
     "text": [
      "Epoch 35/45, Train Loss: 0.5222, Train Accuracy: 0.7352, Valid Loss: 0.5430, Valid Accuracy: 0.7035\n"
     ]
    },
    {
     "name": "stderr",
     "output_type": "stream",
     "text": [
      "Epochs:  80%|████████  | 36/45 [49:08<12:11, 81.27s/epoch]"
     ]
    },
    {
     "name": "stdout",
     "output_type": "stream",
     "text": [
      "Epoch 36/45, Train Loss: 0.5213, Train Accuracy: 0.7354, Valid Loss: 0.5932, Valid Accuracy: 0.7032\n"
     ]
    },
    {
     "name": "stderr",
     "output_type": "stream",
     "text": [
      "Epochs:  82%|████████▏ | 37/45 [50:29<10:49, 81.25s/epoch]"
     ]
    },
    {
     "name": "stdout",
     "output_type": "stream",
     "text": [
      "Epoch 37/45, Train Loss: 0.5206, Train Accuracy: 0.7356, Valid Loss: 0.5402, Valid Accuracy: 0.7041\n"
     ]
    },
    {
     "name": "stderr",
     "output_type": "stream",
     "text": [
      "Epochs:  84%|████████▍ | 38/45 [51:50<09:28, 81.23s/epoch]"
     ]
    },
    {
     "name": "stdout",
     "output_type": "stream",
     "text": [
      "Epoch 38/45, Train Loss: 0.5195, Train Accuracy: 0.7359, Valid Loss: 0.5667, Valid Accuracy: 0.7045\n"
     ]
    },
    {
     "name": "stderr",
     "output_type": "stream",
     "text": [
      "Epochs:  87%|████████▋ | 39/45 [53:11<08:07, 81.18s/epoch]"
     ]
    },
    {
     "name": "stdout",
     "output_type": "stream",
     "text": [
      "Epoch 39/45, Train Loss: 0.5189, Train Accuracy: 0.7361, Valid Loss: 0.5387, Valid Accuracy: 0.7053\n"
     ]
    },
    {
     "name": "stderr",
     "output_type": "stream",
     "text": [
      "Epochs:  89%|████████▉ | 40/45 [54:32<06:45, 81.04s/epoch]"
     ]
    },
    {
     "name": "stdout",
     "output_type": "stream",
     "text": [
      "Epoch 40/45, Train Loss: 0.5173, Train Accuracy: 0.7364, Valid Loss: 0.5632, Valid Accuracy: 0.7056\n"
     ]
    },
    {
     "name": "stderr",
     "output_type": "stream",
     "text": [
      "Epochs:  91%|█████████ | 41/45 [55:53<05:23, 80.94s/epoch]"
     ]
    },
    {
     "name": "stdout",
     "output_type": "stream",
     "text": [
      "Epoch 41/45, Train Loss: 0.5163, Train Accuracy: 0.7366, Valid Loss: 0.6516, Valid Accuracy: 0.7044\n"
     ]
    },
    {
     "name": "stderr",
     "output_type": "stream",
     "text": [
      "Epochs:  93%|█████████▎| 42/45 [57:14<04:02, 80.95s/epoch]"
     ]
    },
    {
     "name": "stdout",
     "output_type": "stream",
     "text": [
      "Epoch 42/45, Train Loss: 0.5154, Train Accuracy: 0.7369, Valid Loss: 0.5473, Valid Accuracy: 0.7051\n"
     ]
    },
    {
     "name": "stderr",
     "output_type": "stream",
     "text": [
      "Epochs:  96%|█████████▌| 43/45 [58:35<02:42, 81.10s/epoch]"
     ]
    },
    {
     "name": "stdout",
     "output_type": "stream",
     "text": [
      "Epoch 43/45, Train Loss: 0.5143, Train Accuracy: 0.7371, Valid Loss: 0.7681, Valid Accuracy: 0.7017\n"
     ]
    },
    {
     "name": "stderr",
     "output_type": "stream",
     "text": [
      "Epochs:  98%|█████████▊| 44/45 [59:56<01:21, 81.17s/epoch]"
     ]
    },
    {
     "name": "stdout",
     "output_type": "stream",
     "text": [
      "Epoch 44/45, Train Loss: 0.5134, Train Accuracy: 0.7373, Valid Loss: 0.5637, Valid Accuracy: 0.7021\n"
     ]
    },
    {
     "name": "stderr",
     "output_type": "stream",
     "text": [
      "Epochs: 100%|██████████| 45/45 [1:01:18<00:00, 81.74s/epoch]"
     ]
    },
    {
     "name": "stdout",
     "output_type": "stream",
     "text": [
      "Epoch 45/45, Train Loss: 0.5124, Train Accuracy: 0.7375, Valid Loss: 0.5472, Valid Accuracy: 0.7028\n",
      "*** Fold 3***\n",
      "Training Started.....\n"
     ]
    },
    {
     "name": "stderr",
     "output_type": "stream",
     "text": [
      "\n",
      "Epochs:   2%|▏         | 1/45 [01:20<59:21, 80.95s/epoch]"
     ]
    },
    {
     "name": "stdout",
     "output_type": "stream",
     "text": [
      "Epoch 1/45, Train Loss: 0.5942, Train Accuracy: 0.6933, Valid Loss: 0.5880, Valid Accuracy: 0.7118\n"
     ]
    },
    {
     "name": "stderr",
     "output_type": "stream",
     "text": [
      "Epochs:   4%|▍         | 2/45 [02:41<58:01, 80.97s/epoch]"
     ]
    },
    {
     "name": "stdout",
     "output_type": "stream",
     "text": [
      "Epoch 2/45, Train Loss: 0.5656, Train Accuracy: 0.7054, Valid Loss: 0.5583, Valid Accuracy: 0.7158\n"
     ]
    },
    {
     "name": "stderr",
     "output_type": "stream",
     "text": [
      "Epochs:   7%|▋         | 3/45 [04:02<56:39, 80.94s/epoch]"
     ]
    },
    {
     "name": "stdout",
     "output_type": "stream",
     "text": [
      "Epoch 3/45, Train Loss: 0.5576, Train Accuracy: 0.7111, Valid Loss: 0.5594, Valid Accuracy: 0.7154\n"
     ]
    },
    {
     "name": "stderr",
     "output_type": "stream",
     "text": [
      "Epochs:   9%|▉         | 4/45 [05:23<55:14, 80.84s/epoch]"
     ]
    },
    {
     "name": "stdout",
     "output_type": "stream",
     "text": [
      "Epoch 4/45, Train Loss: 0.5533, Train Accuracy: 0.7146, Valid Loss: 0.5505, Valid Accuracy: 0.7187\n"
     ]
    },
    {
     "name": "stderr",
     "output_type": "stream",
     "text": [
      "Epochs:  11%|█         | 5/45 [06:44<53:55, 80.90s/epoch]"
     ]
    },
    {
     "name": "stdout",
     "output_type": "stream",
     "text": [
      "Epoch 5/45, Train Loss: 0.5509, Train Accuracy: 0.7172, Valid Loss: 0.5658, Valid Accuracy: 0.7190\n"
     ]
    },
    {
     "name": "stderr",
     "output_type": "stream",
     "text": [
      "Epochs:  13%|█▎        | 6/45 [08:05<52:36, 80.95s/epoch]"
     ]
    },
    {
     "name": "stdout",
     "output_type": "stream",
     "text": [
      "Epoch 6/45, Train Loss: 0.5480, Train Accuracy: 0.7193, Valid Loss: 0.5494, Valid Accuracy: 0.7207\n"
     ]
    },
    {
     "name": "stderr",
     "output_type": "stream",
     "text": [
      "Epochs:  16%|█▌        | 7/45 [09:26<51:15, 80.93s/epoch]"
     ]
    },
    {
     "name": "stdout",
     "output_type": "stream",
     "text": [
      "Epoch 7/45, Train Loss: 0.5464, Train Accuracy: 0.7209, Valid Loss: 0.5724, Valid Accuracy: 0.7190\n"
     ]
    },
    {
     "name": "stderr",
     "output_type": "stream",
     "text": [
      "Epochs:  18%|█▊        | 8/45 [10:47<49:54, 80.93s/epoch]"
     ]
    },
    {
     "name": "stdout",
     "output_type": "stream",
     "text": [
      "Epoch 8/45, Train Loss: 0.5447, Train Accuracy: 0.7222, Valid Loss: 0.5494, Valid Accuracy: 0.7198\n"
     ]
    },
    {
     "name": "stderr",
     "output_type": "stream",
     "text": [
      "Epochs:  20%|██        | 9/45 [12:08<48:35, 80.99s/epoch]"
     ]
    },
    {
     "name": "stdout",
     "output_type": "stream",
     "text": [
      "Epoch 9/45, Train Loss: 0.5437, Train Accuracy: 0.7233, Valid Loss: 0.5417, Valid Accuracy: 0.7212\n"
     ]
    },
    {
     "name": "stderr",
     "output_type": "stream",
     "text": [
      "Epochs:  22%|██▏       | 10/45 [13:29<47:14, 80.97s/epoch]"
     ]
    },
    {
     "name": "stdout",
     "output_type": "stream",
     "text": [
      "Epoch 10/45, Train Loss: 0.5424, Train Accuracy: 0.7243, Valid Loss: 0.5734, Valid Accuracy: 0.7190\n"
     ]
    },
    {
     "name": "stderr",
     "output_type": "stream",
     "text": [
      "Epochs:  24%|██▍       | 11/45 [14:50<45:52, 80.96s/epoch]"
     ]
    },
    {
     "name": "stdout",
     "output_type": "stream",
     "text": [
      "Epoch 11/45, Train Loss: 0.5415, Train Accuracy: 0.7251, Valid Loss: 0.5674, Valid Accuracy: 0.7171\n"
     ]
    },
    {
     "name": "stderr",
     "output_type": "stream",
     "text": [
      "Epochs:  27%|██▋       | 12/45 [16:11<44:31, 80.94s/epoch]"
     ]
    },
    {
     "name": "stdout",
     "output_type": "stream",
     "text": [
      "Epoch 12/45, Train Loss: 0.5404, Train Accuracy: 0.7259, Valid Loss: 0.6685, Valid Accuracy: 0.7083\n"
     ]
    },
    {
     "name": "stderr",
     "output_type": "stream",
     "text": [
      "Epochs:  29%|██▉       | 13/45 [17:33<43:23, 81.35s/epoch]"
     ]
    },
    {
     "name": "stdout",
     "output_type": "stream",
     "text": [
      "Epoch 13/45, Train Loss: 0.5395, Train Accuracy: 0.7266, Valid Loss: 0.5449, Valid Accuracy: 0.7099\n"
     ]
    },
    {
     "name": "stderr",
     "output_type": "stream",
     "text": [
      "Epochs:  31%|███       | 14/45 [18:55<42:02, 81.39s/epoch]"
     ]
    },
    {
     "name": "stdout",
     "output_type": "stream",
     "text": [
      "Epoch 14/45, Train Loss: 0.5386, Train Accuracy: 0.7272, Valid Loss: 0.5721, Valid Accuracy: 0.7099\n"
     ]
    },
    {
     "name": "stderr",
     "output_type": "stream",
     "text": [
      "Epochs:  33%|███▎      | 15/45 [20:16<40:38, 81.29s/epoch]"
     ]
    },
    {
     "name": "stdout",
     "output_type": "stream",
     "text": [
      "Epoch 15/45, Train Loss: 0.5380, Train Accuracy: 0.7278, Valid Loss: 0.5403, Valid Accuracy: 0.7115\n"
     ]
    },
    {
     "name": "stderr",
     "output_type": "stream",
     "text": [
      "Epochs:  36%|███▌      | 16/45 [21:37<39:15, 81.22s/epoch]"
     ]
    },
    {
     "name": "stdout",
     "output_type": "stream",
     "text": [
      "Epoch 16/45, Train Loss: 0.5371, Train Accuracy: 0.7283, Valid Loss: 0.5809, Valid Accuracy: 0.7102\n"
     ]
    },
    {
     "name": "stderr",
     "output_type": "stream",
     "text": [
      "Epochs:  38%|███▊      | 17/45 [22:58<37:54, 81.24s/epoch]"
     ]
    },
    {
     "name": "stdout",
     "output_type": "stream",
     "text": [
      "Epoch 17/45, Train Loss: 0.5364, Train Accuracy: 0.7288, Valid Loss: 0.5423, Valid Accuracy: 0.7114\n"
     ]
    },
    {
     "name": "stderr",
     "output_type": "stream",
     "text": [
      "Epochs:  40%|████      | 18/45 [24:19<36:30, 81.15s/epoch]"
     ]
    },
    {
     "name": "stdout",
     "output_type": "stream",
     "text": [
      "Epoch 18/45, Train Loss: 0.5358, Train Accuracy: 0.7293, Valid Loss: 0.5471, Valid Accuracy: 0.7124\n"
     ]
    },
    {
     "name": "stderr",
     "output_type": "stream",
     "text": [
      "Epochs:  42%|████▏     | 19/45 [25:40<35:06, 81.02s/epoch]"
     ]
    },
    {
     "name": "stdout",
     "output_type": "stream",
     "text": [
      "Epoch 19/45, Train Loss: 0.5349, Train Accuracy: 0.7297, Valid Loss: 0.5457, Valid Accuracy: 0.7134\n"
     ]
    },
    {
     "name": "stderr",
     "output_type": "stream",
     "text": [
      "Epochs:  44%|████▍     | 20/45 [27:01<33:46, 81.04s/epoch]"
     ]
    },
    {
     "name": "stdout",
     "output_type": "stream",
     "text": [
      "Epoch 20/45, Train Loss: 0.5340, Train Accuracy: 0.7301, Valid Loss: 0.6640, Valid Accuracy: 0.7101\n"
     ]
    },
    {
     "name": "stderr",
     "output_type": "stream",
     "text": [
      "Epochs:  47%|████▋     | 21/45 [28:22<32:25, 81.08s/epoch]"
     ]
    },
    {
     "name": "stdout",
     "output_type": "stream",
     "text": [
      "Epoch 21/45, Train Loss: 0.5334, Train Accuracy: 0.7305, Valid Loss: 0.5425, Valid Accuracy: 0.7110\n"
     ]
    },
    {
     "name": "stderr",
     "output_type": "stream",
     "text": [
      "Epochs:  49%|████▉     | 22/45 [29:43<31:03, 81.03s/epoch]"
     ]
    },
    {
     "name": "stdout",
     "output_type": "stream",
     "text": [
      "Epoch 22/45, Train Loss: 0.5330, Train Accuracy: 0.7309, Valid Loss: 0.5476, Valid Accuracy: 0.7118\n"
     ]
    },
    {
     "name": "stderr",
     "output_type": "stream",
     "text": [
      "Epochs:  51%|█████     | 23/45 [31:04<29:41, 80.96s/epoch]"
     ]
    },
    {
     "name": "stdout",
     "output_type": "stream",
     "text": [
      "Epoch 23/45, Train Loss: 0.5321, Train Accuracy: 0.7313, Valid Loss: 0.5395, Valid Accuracy: 0.7127\n"
     ]
    },
    {
     "name": "stderr",
     "output_type": "stream",
     "text": [
      "Epochs:  53%|█████▎    | 24/45 [32:25<28:21, 81.01s/epoch]"
     ]
    },
    {
     "name": "stdout",
     "output_type": "stream",
     "text": [
      "Epoch 24/45, Train Loss: 0.5316, Train Accuracy: 0.7316, Valid Loss: 0.5421, Valid Accuracy: 0.7137\n"
     ]
    },
    {
     "name": "stderr",
     "output_type": "stream",
     "text": [
      "Epochs:  56%|█████▌    | 25/45 [33:46<27:00, 81.02s/epoch]"
     ]
    },
    {
     "name": "stdout",
     "output_type": "stream",
     "text": [
      "Epoch 25/45, Train Loss: 0.5306, Train Accuracy: 0.7319, Valid Loss: 0.5356, Valid Accuracy: 0.7146\n"
     ]
    },
    {
     "name": "stderr",
     "output_type": "stream",
     "text": [
      "Epochs:  58%|█████▊    | 26/45 [35:07<25:38, 80.97s/epoch]"
     ]
    },
    {
     "name": "stdout",
     "output_type": "stream",
     "text": [
      "Epoch 26/45, Train Loss: 0.5299, Train Accuracy: 0.7322, Valid Loss: 0.5387, Valid Accuracy: 0.7153\n"
     ]
    },
    {
     "name": "stderr",
     "output_type": "stream",
     "text": [
      "Epochs:  60%|██████    | 27/45 [36:27<24:16, 80.94s/epoch]"
     ]
    },
    {
     "name": "stdout",
     "output_type": "stream",
     "text": [
      "Epoch 27/45, Train Loss: 0.5291, Train Accuracy: 0.7326, Valid Loss: 0.5443, Valid Accuracy: 0.7161\n"
     ]
    },
    {
     "name": "stderr",
     "output_type": "stream",
     "text": [
      "Epochs:  62%|██████▏   | 28/45 [37:49<22:57, 81.01s/epoch]"
     ]
    },
    {
     "name": "stdout",
     "output_type": "stream",
     "text": [
      "Epoch 28/45, Train Loss: 0.5289, Train Accuracy: 0.7329, Valid Loss: 0.5436, Valid Accuracy: 0.7168\n"
     ]
    },
    {
     "name": "stderr",
     "output_type": "stream",
     "text": [
      "Epochs:  64%|██████▍   | 29/45 [39:10<21:37, 81.07s/epoch]"
     ]
    },
    {
     "name": "stdout",
     "output_type": "stream",
     "text": [
      "Epoch 29/45, Train Loss: 0.5283, Train Accuracy: 0.7332, Valid Loss: 0.5389, Valid Accuracy: 0.7174\n"
     ]
    },
    {
     "name": "stderr",
     "output_type": "stream",
     "text": [
      "Epochs:  67%|██████▋   | 30/45 [40:32<20:19, 81.32s/epoch]"
     ]
    },
    {
     "name": "stdout",
     "output_type": "stream",
     "text": [
      "Epoch 30/45, Train Loss: 0.5276, Train Accuracy: 0.7335, Valid Loss: 0.5389, Valid Accuracy: 0.7180\n"
     ]
    },
    {
     "name": "stderr",
     "output_type": "stream",
     "text": [
      "Epochs:  69%|██████▉   | 31/45 [41:53<18:58, 81.34s/epoch]"
     ]
    },
    {
     "name": "stdout",
     "output_type": "stream",
     "text": [
      "Epoch 31/45, Train Loss: 0.5269, Train Accuracy: 0.7338, Valid Loss: 0.6042, Valid Accuracy: 0.7165\n"
     ]
    },
    {
     "name": "stderr",
     "output_type": "stream",
     "text": [
      "Epochs:  71%|███████   | 32/45 [43:15<17:37, 81.36s/epoch]"
     ]
    },
    {
     "name": "stdout",
     "output_type": "stream",
     "text": [
      "Epoch 32/45, Train Loss: 0.5263, Train Accuracy: 0.7340, Valid Loss: 0.5589, Valid Accuracy: 0.7164\n"
     ]
    },
    {
     "name": "stderr",
     "output_type": "stream",
     "text": [
      "Epochs:  73%|███████▎  | 33/45 [44:36<16:16, 81.35s/epoch]"
     ]
    },
    {
     "name": "stdout",
     "output_type": "stream",
     "text": [
      "Epoch 33/45, Train Loss: 0.5253, Train Accuracy: 0.7343, Valid Loss: 0.5380, Valid Accuracy: 0.7170\n"
     ]
    },
    {
     "name": "stderr",
     "output_type": "stream",
     "text": [
      "Epochs:  76%|███████▌  | 34/45 [45:57<14:53, 81.25s/epoch]"
     ]
    },
    {
     "name": "stdout",
     "output_type": "stream",
     "text": [
      "Epoch 34/45, Train Loss: 0.5249, Train Accuracy: 0.7346, Valid Loss: 0.5385, Valid Accuracy: 0.7176\n"
     ]
    },
    {
     "name": "stderr",
     "output_type": "stream",
     "text": [
      "Epochs:  78%|███████▊  | 35/45 [47:18<13:31, 81.12s/epoch]"
     ]
    },
    {
     "name": "stdout",
     "output_type": "stream",
     "text": [
      "Epoch 35/45, Train Loss: 0.5244, Train Accuracy: 0.7348, Valid Loss: 0.5365, Valid Accuracy: 0.7181\n"
     ]
    },
    {
     "name": "stderr",
     "output_type": "stream",
     "text": [
      "Epochs:  80%|████████  | 36/45 [48:39<12:10, 81.13s/epoch]"
     ]
    },
    {
     "name": "stdout",
     "output_type": "stream",
     "text": [
      "Epoch 36/45, Train Loss: 0.5235, Train Accuracy: 0.7351, Valid Loss: 0.5779, Valid Accuracy: 0.7177\n"
     ]
    },
    {
     "name": "stderr",
     "output_type": "stream",
     "text": [
      "Epochs:  82%|████████▏ | 37/45 [50:00<10:49, 81.17s/epoch]"
     ]
    },
    {
     "name": "stdout",
     "output_type": "stream",
     "text": [
      "Epoch 37/45, Train Loss: 0.5229, Train Accuracy: 0.7353, Valid Loss: 0.5441, Valid Accuracy: 0.7182\n"
     ]
    },
    {
     "name": "stderr",
     "output_type": "stream",
     "text": [
      "Epochs:  84%|████████▍ | 38/45 [51:21<09:28, 81.20s/epoch]"
     ]
    },
    {
     "name": "stdout",
     "output_type": "stream",
     "text": [
      "Epoch 38/45, Train Loss: 0.5227, Train Accuracy: 0.7356, Valid Loss: 0.5369, Valid Accuracy: 0.7187\n"
     ]
    },
    {
     "name": "stderr",
     "output_type": "stream",
     "text": [
      "Epochs:  87%|████████▋ | 39/45 [52:43<08:08, 81.38s/epoch]"
     ]
    },
    {
     "name": "stdout",
     "output_type": "stream",
     "text": [
      "Epoch 39/45, Train Loss: 0.5215, Train Accuracy: 0.7358, Valid Loss: 0.5424, Valid Accuracy: 0.7191\n"
     ]
    },
    {
     "name": "stderr",
     "output_type": "stream",
     "text": [
      "Epochs:  89%|████████▉ | 40/45 [54:05<06:47, 81.48s/epoch]"
     ]
    },
    {
     "name": "stdout",
     "output_type": "stream",
     "text": [
      "Epoch 40/45, Train Loss: 0.5207, Train Accuracy: 0.7361, Valid Loss: 0.7129, Valid Accuracy: 0.7159\n"
     ]
    },
    {
     "name": "stderr",
     "output_type": "stream",
     "text": [
      "Epochs:  91%|█████████ | 41/45 [55:26<05:25, 81.41s/epoch]"
     ]
    },
    {
     "name": "stdout",
     "output_type": "stream",
     "text": [
      "Epoch 41/45, Train Loss: 0.5203, Train Accuracy: 0.7363, Valid Loss: 0.5489, Valid Accuracy: 0.7161\n"
     ]
    },
    {
     "name": "stderr",
     "output_type": "stream",
     "text": [
      "Epochs:  93%|█████████▎| 42/45 [56:47<04:03, 81.22s/epoch]"
     ]
    },
    {
     "name": "stdout",
     "output_type": "stream",
     "text": [
      "Epoch 42/45, Train Loss: 0.5191, Train Accuracy: 0.7365, Valid Loss: 0.5374, Valid Accuracy: 0.7167\n"
     ]
    },
    {
     "name": "stderr",
     "output_type": "stream",
     "text": [
      "Epochs:  96%|█████████▌| 43/45 [58:08<02:42, 81.30s/epoch]"
     ]
    },
    {
     "name": "stdout",
     "output_type": "stream",
     "text": [
      "Epoch 43/45, Train Loss: 0.5180, Train Accuracy: 0.7367, Valid Loss: 0.5431, Valid Accuracy: 0.7172\n"
     ]
    },
    {
     "name": "stderr",
     "output_type": "stream",
     "text": [
      "Epochs:  98%|█████████▊| 44/45 [59:31<01:21, 81.59s/epoch]"
     ]
    },
    {
     "name": "stdout",
     "output_type": "stream",
     "text": [
      "Epoch 44/45, Train Loss: 0.5176, Train Accuracy: 0.7370, Valid Loss: 0.5470, Valid Accuracy: 0.7175\n"
     ]
    },
    {
     "name": "stderr",
     "output_type": "stream",
     "text": [
      "Epochs: 100%|██████████| 45/45 [1:00:52<00:00, 81.17s/epoch]"
     ]
    },
    {
     "name": "stdout",
     "output_type": "stream",
     "text": [
      "Epoch 45/45, Train Loss: 0.5164, Train Accuracy: 0.7372, Valid Loss: 0.5403, Valid Accuracy: 0.7179\n",
      "*** Fold 4***\n",
      "Training Started.....\n"
     ]
    },
    {
     "name": "stderr",
     "output_type": "stream",
     "text": [
      "\n",
      "Epochs:   2%|▏         | 1/45 [01:20<59:17, 80.85s/epoch]"
     ]
    },
    {
     "name": "stdout",
     "output_type": "stream",
     "text": [
      "Epoch 1/45, Train Loss: 0.5934, Train Accuracy: 0.6929, Valid Loss: 0.7268, Valid Accuracy: 0.5854\n"
     ]
    },
    {
     "name": "stderr",
     "output_type": "stream",
     "text": [
      "Epochs:   4%|▍         | 2/45 [02:41<58:03, 81.00s/epoch]"
     ]
    },
    {
     "name": "stdout",
     "output_type": "stream",
     "text": [
      "Epoch 2/45, Train Loss: 0.5645, Train Accuracy: 0.7048, Valid Loss: 0.5744, Valid Accuracy: 0.6466\n"
     ]
    },
    {
     "name": "stderr",
     "output_type": "stream",
     "text": [
      "Epochs:   7%|▋         | 3/45 [04:02<56:38, 80.91s/epoch]"
     ]
    },
    {
     "name": "stdout",
     "output_type": "stream",
     "text": [
      "Epoch 3/45, Train Loss: 0.5569, Train Accuracy: 0.7108, Valid Loss: 0.5863, Valid Accuracy: 0.6686\n"
     ]
    },
    {
     "name": "stderr",
     "output_type": "stream",
     "text": [
      "Epochs:   9%|▉         | 4/45 [05:23<55:15, 80.87s/epoch]"
     ]
    },
    {
     "name": "stdout",
     "output_type": "stream",
     "text": [
      "Epoch 4/45, Train Loss: 0.5521, Train Accuracy: 0.7147, Valid Loss: 0.6604, Valid Accuracy: 0.6569\n"
     ]
    },
    {
     "name": "stderr",
     "output_type": "stream",
     "text": [
      "Epochs:  11%|█         | 5/45 [06:44<53:57, 80.93s/epoch]"
     ]
    },
    {
     "name": "stdout",
     "output_type": "stream",
     "text": [
      "Epoch 5/45, Train Loss: 0.5499, Train Accuracy: 0.7174, Valid Loss: 0.6266, Valid Accuracy: 0.6538\n"
     ]
    },
    {
     "name": "stderr",
     "output_type": "stream",
     "text": [
      "Epochs:  13%|█▎        | 6/45 [08:05<52:38, 80.98s/epoch]"
     ]
    },
    {
     "name": "stdout",
     "output_type": "stream",
     "text": [
      "Epoch 6/45, Train Loss: 0.5479, Train Accuracy: 0.7193, Valid Loss: 0.5480, Valid Accuracy: 0.6663\n"
     ]
    },
    {
     "name": "stderr",
     "output_type": "stream",
     "text": [
      "Epochs:  16%|█▌        | 7/45 [09:26<51:18, 81.02s/epoch]"
     ]
    },
    {
     "name": "stdout",
     "output_type": "stream",
     "text": [
      "Epoch 7/45, Train Loss: 0.5461, Train Accuracy: 0.7209, Valid Loss: 0.6603, Valid Accuracy: 0.6574\n"
     ]
    },
    {
     "name": "stderr",
     "output_type": "stream",
     "text": [
      "Epochs:  18%|█▊        | 8/45 [10:48<50:04, 81.21s/epoch]"
     ]
    },
    {
     "name": "stdout",
     "output_type": "stream",
     "text": [
      "Epoch 8/45, Train Loss: 0.5449, Train Accuracy: 0.7221, Valid Loss: 0.5461, Valid Accuracy: 0.6663\n"
     ]
    },
    {
     "name": "stderr",
     "output_type": "stream",
     "text": [
      "Epochs:  20%|██        | 9/45 [12:09<48:46, 81.30s/epoch]"
     ]
    },
    {
     "name": "stdout",
     "output_type": "stream",
     "text": [
      "Epoch 9/45, Train Loss: 0.5431, Train Accuracy: 0.7232, Valid Loss: 0.5829, Valid Accuracy: 0.6696\n"
     ]
    },
    {
     "name": "stderr",
     "output_type": "stream",
     "text": [
      "Epochs:  22%|██▏       | 10/45 [13:31<47:26, 81.33s/epoch]"
     ]
    },
    {
     "name": "stdout",
     "output_type": "stream",
     "text": [
      "Epoch 10/45, Train Loss: 0.5425, Train Accuracy: 0.7243, Valid Loss: 0.5478, Valid Accuracy: 0.6757\n"
     ]
    },
    {
     "name": "stderr",
     "output_type": "stream",
     "text": [
      "Epochs:  24%|██▍       | 11/45 [14:52<46:05, 81.33s/epoch]"
     ]
    },
    {
     "name": "stdout",
     "output_type": "stream",
     "text": [
      "Epoch 11/45, Train Loss: 0.5410, Train Accuracy: 0.7251, Valid Loss: 0.5481, Valid Accuracy: 0.6806\n"
     ]
    },
    {
     "name": "stderr",
     "output_type": "stream",
     "text": [
      "Epochs:  27%|██▋       | 12/45 [16:13<44:35, 81.09s/epoch]"
     ]
    },
    {
     "name": "stdout",
     "output_type": "stream",
     "text": [
      "Epoch 12/45, Train Loss: 0.5399, Train Accuracy: 0.7259, Valid Loss: 0.5490, Valid Accuracy: 0.6843\n"
     ]
    },
    {
     "name": "stderr",
     "output_type": "stream",
     "text": [
      "Epochs:  29%|██▉       | 13/45 [17:34<43:14, 81.08s/epoch]"
     ]
    },
    {
     "name": "stdout",
     "output_type": "stream",
     "text": [
      "Epoch 13/45, Train Loss: 0.5393, Train Accuracy: 0.7265, Valid Loss: 0.5424, Valid Accuracy: 0.6877\n"
     ]
    },
    {
     "name": "stderr",
     "output_type": "stream",
     "text": [
      "Epochs:  31%|███       | 14/45 [18:55<41:55, 81.13s/epoch]"
     ]
    },
    {
     "name": "stdout",
     "output_type": "stream",
     "text": [
      "Epoch 14/45, Train Loss: 0.5383, Train Accuracy: 0.7272, Valid Loss: 0.5423, Valid Accuracy: 0.6907\n"
     ]
    },
    {
     "name": "stderr",
     "output_type": "stream",
     "text": [
      "Epochs:  33%|███▎      | 15/45 [20:16<40:29, 80.99s/epoch]"
     ]
    },
    {
     "name": "stdout",
     "output_type": "stream",
     "text": [
      "Epoch 15/45, Train Loss: 0.5375, Train Accuracy: 0.7277, Valid Loss: 0.5475, Valid Accuracy: 0.6933\n"
     ]
    },
    {
     "name": "stderr",
     "output_type": "stream",
     "text": [
      "Epochs:  36%|███▌      | 16/45 [21:36<39:06, 80.92s/epoch]"
     ]
    },
    {
     "name": "stdout",
     "output_type": "stream",
     "text": [
      "Epoch 16/45, Train Loss: 0.5371, Train Accuracy: 0.7283, Valid Loss: 0.5430, Valid Accuracy: 0.6957\n"
     ]
    },
    {
     "name": "stderr",
     "output_type": "stream",
     "text": [
      "Epochs:  38%|███▊      | 17/45 [22:58<37:48, 81.03s/epoch]"
     ]
    },
    {
     "name": "stdout",
     "output_type": "stream",
     "text": [
      "Epoch 17/45, Train Loss: 0.5362, Train Accuracy: 0.7288, Valid Loss: 0.5376, Valid Accuracy: 0.6980\n"
     ]
    },
    {
     "name": "stderr",
     "output_type": "stream",
     "text": [
      "Epochs:  40%|████      | 18/45 [24:19<36:28, 81.07s/epoch]"
     ]
    },
    {
     "name": "stdout",
     "output_type": "stream",
     "text": [
      "Epoch 18/45, Train Loss: 0.5355, Train Accuracy: 0.7293, Valid Loss: 0.5403, Valid Accuracy: 0.7000\n"
     ]
    },
    {
     "name": "stderr",
     "output_type": "stream",
     "text": [
      "Epochs:  42%|████▏     | 19/45 [25:40<35:05, 80.99s/epoch]"
     ]
    },
    {
     "name": "stdout",
     "output_type": "stream",
     "text": [
      "Epoch 19/45, Train Loss: 0.5347, Train Accuracy: 0.7298, Valid Loss: 0.5359, Valid Accuracy: 0.7019\n"
     ]
    },
    {
     "name": "stderr",
     "output_type": "stream",
     "text": [
      "Epochs:  44%|████▍     | 20/45 [27:01<33:45, 81.02s/epoch]"
     ]
    },
    {
     "name": "stdout",
     "output_type": "stream",
     "text": [
      "Epoch 20/45, Train Loss: 0.5343, Train Accuracy: 0.7302, Valid Loss: 0.5374, Valid Accuracy: 0.7035\n"
     ]
    },
    {
     "name": "stderr",
     "output_type": "stream",
     "text": [
      "Epochs:  47%|████▋     | 21/45 [28:22<32:26, 81.09s/epoch]"
     ]
    },
    {
     "name": "stdout",
     "output_type": "stream",
     "text": [
      "Epoch 21/45, Train Loss: 0.5337, Train Accuracy: 0.7306, Valid Loss: 0.5346, Valid Accuracy: 0.7051\n"
     ]
    },
    {
     "name": "stderr",
     "output_type": "stream",
     "text": [
      "Epochs:  49%|████▉     | 22/45 [29:43<31:02, 80.98s/epoch]"
     ]
    },
    {
     "name": "stdout",
     "output_type": "stream",
     "text": [
      "Epoch 22/45, Train Loss: 0.5329, Train Accuracy: 0.7309, Valid Loss: 0.5373, Valid Accuracy: 0.7065\n"
     ]
    },
    {
     "name": "stderr",
     "output_type": "stream",
     "text": [
      "Epochs:  51%|█████     | 23/45 [31:04<29:40, 80.94s/epoch]"
     ]
    },
    {
     "name": "stdout",
     "output_type": "stream",
     "text": [
      "Epoch 23/45, Train Loss: 0.5324, Train Accuracy: 0.7313, Valid Loss: 0.5393, Valid Accuracy: 0.7079\n"
     ]
    },
    {
     "name": "stderr",
     "output_type": "stream",
     "text": [
      "Epochs:  53%|█████▎    | 24/45 [32:24<28:18, 80.89s/epoch]"
     ]
    },
    {
     "name": "stdout",
     "output_type": "stream",
     "text": [
      "Epoch 24/45, Train Loss: 0.5317, Train Accuracy: 0.7317, Valid Loss: 0.5434, Valid Accuracy: 0.7089\n"
     ]
    },
    {
     "name": "stderr",
     "output_type": "stream",
     "text": [
      "Epochs:  56%|█████▌    | 25/45 [33:45<26:59, 80.95s/epoch]"
     ]
    },
    {
     "name": "stdout",
     "output_type": "stream",
     "text": [
      "Epoch 25/45, Train Loss: 0.5309, Train Accuracy: 0.7320, Valid Loss: 0.5427, Valid Accuracy: 0.7097\n"
     ]
    },
    {
     "name": "stderr",
     "output_type": "stream",
     "text": [
      "Epochs:  58%|█████▊    | 26/45 [35:07<25:39, 81.04s/epoch]"
     ]
    },
    {
     "name": "stdout",
     "output_type": "stream",
     "text": [
      "Epoch 26/45, Train Loss: 0.5302, Train Accuracy: 0.7324, Valid Loss: 0.5530, Valid Accuracy: 0.7102\n"
     ]
    },
    {
     "name": "stderr",
     "output_type": "stream",
     "text": [
      "Epochs:  60%|██████    | 27/45 [36:28<24:19, 81.07s/epoch]"
     ]
    },
    {
     "name": "stdout",
     "output_type": "stream",
     "text": [
      "Epoch 27/45, Train Loss: 0.5296, Train Accuracy: 0.7327, Valid Loss: 0.5363, Valid Accuracy: 0.7112\n"
     ]
    },
    {
     "name": "stderr",
     "output_type": "stream",
     "text": [
      "Epochs:  62%|██████▏   | 28/45 [37:49<22:58, 81.11s/epoch]"
     ]
    },
    {
     "name": "stdout",
     "output_type": "stream",
     "text": [
      "Epoch 28/45, Train Loss: 0.5286, Train Accuracy: 0.7330, Valid Loss: 0.5716, Valid Accuracy: 0.7109\n"
     ]
    },
    {
     "name": "stderr",
     "output_type": "stream",
     "text": [
      "Epochs:  64%|██████▍   | 29/45 [39:10<21:39, 81.19s/epoch]"
     ]
    },
    {
     "name": "stdout",
     "output_type": "stream",
     "text": [
      "Epoch 29/45, Train Loss: 0.5282, Train Accuracy: 0.7333, Valid Loss: 0.5369, Valid Accuracy: 0.7118\n"
     ]
    },
    {
     "name": "stderr",
     "output_type": "stream",
     "text": [
      "Epochs:  67%|██████▋   | 30/45 [40:32<20:19, 81.30s/epoch]"
     ]
    },
    {
     "name": "stdout",
     "output_type": "stream",
     "text": [
      "Epoch 30/45, Train Loss: 0.5273, Train Accuracy: 0.7336, Valid Loss: 0.5429, Valid Accuracy: 0.7124\n"
     ]
    },
    {
     "name": "stderr",
     "output_type": "stream",
     "text": [
      "Epochs:  69%|██████▉   | 31/45 [41:53<18:58, 81.31s/epoch]"
     ]
    },
    {
     "name": "stdout",
     "output_type": "stream",
     "text": [
      "Epoch 31/45, Train Loss: 0.5264, Train Accuracy: 0.7339, Valid Loss: 0.5467, Valid Accuracy: 0.7131\n"
     ]
    },
    {
     "name": "stderr",
     "output_type": "stream",
     "text": [
      "Epochs:  71%|███████   | 32/45 [43:15<17:36, 81.30s/epoch]"
     ]
    },
    {
     "name": "stdout",
     "output_type": "stream",
     "text": [
      "Epoch 32/45, Train Loss: 0.5261, Train Accuracy: 0.7342, Valid Loss: 0.5480, Valid Accuracy: 0.7136\n"
     ]
    },
    {
     "name": "stderr",
     "output_type": "stream",
     "text": [
      "Epochs:  73%|███████▎  | 33/45 [44:36<16:16, 81.40s/epoch]"
     ]
    },
    {
     "name": "stdout",
     "output_type": "stream",
     "text": [
      "Epoch 33/45, Train Loss: 0.5258, Train Accuracy: 0.7345, Valid Loss: 0.5394, Valid Accuracy: 0.7143\n"
     ]
    },
    {
     "name": "stderr",
     "output_type": "stream",
     "text": [
      "Epochs:  76%|███████▌  | 34/45 [45:58<14:56, 81.47s/epoch]"
     ]
    },
    {
     "name": "stdout",
     "output_type": "stream",
     "text": [
      "Epoch 34/45, Train Loss: 0.5250, Train Accuracy: 0.7348, Valid Loss: 0.5385, Valid Accuracy: 0.7149\n"
     ]
    },
    {
     "name": "stderr",
     "output_type": "stream",
     "text": [
      "Epochs:  78%|███████▊  | 35/45 [47:19<13:33, 81.37s/epoch]"
     ]
    },
    {
     "name": "stdout",
     "output_type": "stream",
     "text": [
      "Epoch 35/45, Train Loss: 0.5242, Train Accuracy: 0.7351, Valid Loss: 0.5400, Valid Accuracy: 0.7156\n"
     ]
    },
    {
     "name": "stderr",
     "output_type": "stream",
     "text": [
      "Epochs:  80%|████████  | 36/45 [48:40<12:11, 81.31s/epoch]"
     ]
    },
    {
     "name": "stdout",
     "output_type": "stream",
     "text": [
      "Epoch 36/45, Train Loss: 0.5233, Train Accuracy: 0.7354, Valid Loss: 0.5407, Valid Accuracy: 0.7161\n"
     ]
    },
    {
     "name": "stderr",
     "output_type": "stream",
     "text": [
      "Epochs:  82%|████████▏ | 37/45 [50:02<10:51, 81.42s/epoch]"
     ]
    },
    {
     "name": "stdout",
     "output_type": "stream",
     "text": [
      "Epoch 37/45, Train Loss: 0.5225, Train Accuracy: 0.7356, Valid Loss: 0.5447, Valid Accuracy: 0.7166\n"
     ]
    },
    {
     "name": "stderr",
     "output_type": "stream",
     "text": [
      "Epochs:  84%|████████▍ | 38/45 [51:23<09:30, 81.45s/epoch]"
     ]
    },
    {
     "name": "stdout",
     "output_type": "stream",
     "text": [
      "Epoch 38/45, Train Loss: 0.5222, Train Accuracy: 0.7359, Valid Loss: 0.5399, Valid Accuracy: 0.7172\n"
     ]
    },
    {
     "name": "stderr",
     "output_type": "stream",
     "text": [
      "Epochs:  87%|████████▋ | 39/45 [52:45<08:08, 81.42s/epoch]"
     ]
    },
    {
     "name": "stdout",
     "output_type": "stream",
     "text": [
      "Epoch 39/45, Train Loss: 0.5216, Train Accuracy: 0.7362, Valid Loss: 0.5430, Valid Accuracy: 0.7177\n"
     ]
    },
    {
     "name": "stderr",
     "output_type": "stream",
     "text": [
      "Epochs:  89%|████████▉ | 40/45 [54:06<06:46, 81.34s/epoch]"
     ]
    },
    {
     "name": "stdout",
     "output_type": "stream",
     "text": [
      "Epoch 40/45, Train Loss: 0.5202, Train Accuracy: 0.7364, Valid Loss: 0.5419, Valid Accuracy: 0.7181\n"
     ]
    },
    {
     "name": "stderr",
     "output_type": "stream",
     "text": [
      "Epochs:  91%|█████████ | 41/45 [55:28<05:25, 81.45s/epoch]"
     ]
    },
    {
     "name": "stdout",
     "output_type": "stream",
     "text": [
      "Epoch 41/45, Train Loss: 0.5197, Train Accuracy: 0.7367, Valid Loss: 0.5421, Valid Accuracy: 0.7185\n"
     ]
    },
    {
     "name": "stderr",
     "output_type": "stream",
     "text": [
      "Epochs:  93%|█████████▎| 42/45 [56:49<04:04, 81.49s/epoch]"
     ]
    },
    {
     "name": "stdout",
     "output_type": "stream",
     "text": [
      "Epoch 42/45, Train Loss: 0.5196, Train Accuracy: 0.7370, Valid Loss: 0.5461, Valid Accuracy: 0.7189\n"
     ]
    },
    {
     "name": "stderr",
     "output_type": "stream",
     "text": [
      "Epochs:  96%|█████████▌| 43/45 [58:11<02:43, 81.53s/epoch]"
     ]
    },
    {
     "name": "stdout",
     "output_type": "stream",
     "text": [
      "Epoch 43/45, Train Loss: 0.5187, Train Accuracy: 0.7372, Valid Loss: 0.5385, Valid Accuracy: 0.7193\n"
     ]
    },
    {
     "name": "stderr",
     "output_type": "stream",
     "text": [
      "Epochs:  98%|█████████▊| 44/45 [59:32<01:21, 81.45s/epoch]"
     ]
    },
    {
     "name": "stdout",
     "output_type": "stream",
     "text": [
      "Epoch 44/45, Train Loss: 0.5175, Train Accuracy: 0.7375, Valid Loss: 0.5422, Valid Accuracy: 0.7197\n"
     ]
    },
    {
     "name": "stderr",
     "output_type": "stream",
     "text": [
      "Epochs: 100%|██████████| 45/45 [1:00:54<00:00, 81.20s/epoch]"
     ]
    },
    {
     "name": "stdout",
     "output_type": "stream",
     "text": [
      "Epoch 45/45, Train Loss: 0.5173, Train Accuracy: 0.7377, Valid Loss: 0.5407, Valid Accuracy: 0.7202\n"
     ]
    },
    {
     "name": "stderr",
     "output_type": "stream",
     "text": [
      "\n"
     ]
    }
   ],
   "source": [
    "# import timm\n",
    "from torch.utils.data import Dataset, DataLoader,TensorDataset,random_split,SubsetRandomSampler, ConcatDataset\n",
    "from sklearn.model_selection import KFold\n",
    "k_folds = 5\n",
    "batch_size = 256\n",
    "kf = KFold(n_splits=k_folds, shuffle=True)\n",
    "trn_fold_loss = []\n",
    "val_fold_loss = []\n",
    "for fold, (train_idx, test_idx) in enumerate(kf.split(dataset)):\n",
    "    \n",
    "    print(f'*** Fold {fold}***')\n",
    "    print('Training Started.....')\n",
    "    train_loader = DataLoader(dataset=dataset,\n",
    "                              batch_size=batch_size,\n",
    "                              sampler=torch.utils.data.SubsetRandomSampler(train_idx),\n",
    "    )\n",
    "    \n",
    "    test_loader = DataLoader(dataset=dataset,\n",
    "                             batch_size=batch_size,\n",
    "                             sampler=torch.utils.data.SubsetRandomSampler(test_idx),\n",
    "    )\n",
    "    \n",
    "    DEVICE = torch.device(\"cuda\")\n",
    "    model = Resnet_Ensemble(2, 15, BasicBlock, CBAM, resnet = ResNet)\n",
    "    NUM_GPU = torch.cuda.device_count()\n",
    "    if NUM_GPU > 1:\n",
    "        model = nn.DataParallel(model)\n",
    "    model = model.to(DEVICE)\n",
    "    \n",
    "    trn_loss, val_loss, trn_acc, val_acc = model_train(fold, model, epochs = 45, train_dataloader = train_loader, test_dataloader = test_loader)\n",
    "    trn_fold_loss.append(trn_loss)\n",
    "    val_fold_loss.append(val_loss)"
   ]
  },
  {
   "cell_type": "code",
   "execution_count": 15,
   "id": "21fad987",
   "metadata": {
    "execution": {
     "iopub.execute_input": "2024-03-17T11:32:16.916990Z",
     "iopub.status.busy": "2024-03-17T11:32:16.916614Z",
     "iopub.status.idle": "2024-03-17T11:32:17.111808Z",
     "shell.execute_reply": "2024-03-17T11:32:17.110886Z"
    },
    "papermill": {
     "duration": 0.245518,
     "end_time": "2024-03-17T11:32:17.114047",
     "exception": false,
     "start_time": "2024-03-17T11:32:16.868529",
     "status": "completed"
    },
    "tags": []
   },
   "outputs": [
    {
     "data": {
      "image/png": "[encoded data removed]",
      "text/plain": [
       "<Figure size 640x480 with 1 Axes>"
      ]
     },
     "metadata": {},
     "output_type": "display_data"
    }
   ],
   "source": [
    "for i in range(1):\n",
    "    plt.plot(trn_fold_loss[i], label='Training Loss')\n",
    "    plt.plot(val_fold_loss[i], label='Validation Loss')\n",
    "    plt.xlabel('Epochs')\n",
    "    plt.ylabel('Loss')\n",
    "    plt.legend()\n",
    "    plt.show()"
   ]
  }
 ],
 "metadata": {
  "kaggle": {
   "accelerator": "gpu",
   "dataSources": [
    {
     "datasetId": 4489458,
     "sourceId": 7692485,
     "sourceType": "datasetVersion"
    },
    {
     "datasetId": 4534564,
     "sourceId": 7755021,
     "sourceType": "datasetVersion"
    }
   ],
   "dockerImageVersionId": 30648,
   "isGpuEnabled": true,
   "isInternetEnabled": true,
   "language": "python",
   "sourceType": "notebook"
  },
  "kernelspec": {
   "display_name": "Python 3",
   "language": "python",
   "name": "python3"
  },
  "language_info": {
   "codemirror_mode": {
    "name": "ipython",
    "version": 3
   },
   "file_extension": ".py",
   "mimetype": "text/x-python",
   "name": "python",
   "nbconvert_exporter": "python",
   "pygments_lexer": "ipython3",
   "version": "3.10.13"
  },
  "papermill": {
   "default_parameters": {},
   "duration": 18404.234064,
   "end_time": "2024-03-17T11:32:19.921733",
   "environment_variables": {},
   "exception": null,
   "input_path": "__notebook__.ipynb",
   "output_path": "__notebook__.ipynb",
   "parameters": {},
   "start_time": "2024-03-17T06:25:35.687669",
   "version": "2.5.0"
  }
 },
 "nbformat": 4,
 "nbformat_minor": 5
}
