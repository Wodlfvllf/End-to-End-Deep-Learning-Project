{
 "cells": [
  {
   "cell_type": "code",
   "execution_count": 1,
   "id": "51779efe-76bf-4b3f-9346-f01e8d2e5515",
   "metadata": {},
   "outputs": [],
   "source": [
    "from utils_c1 import *\n",
    "from Model_c1 import *\n",
    "from dataset_c1 import *\n",
    "from train_c1 import *\n",
    "from predict_c1 import *"
   ]
  },
  {
   "cell_type": "code",
   "execution_count": 2,
   "id": "7cb8ba0f-7286-4190-835d-c2cf6c93ae73",
   "metadata": {},
   "outputs": [],
   "source": [
    "x = np.random.rand(5,32,32,2)"
   ]
  },
  {
   "cell_type": "code",
   "execution_count": 3,
   "id": "65ac026c-cf47-4daf-af75-9bfe40b73493",
   "metadata": {},
   "outputs": [],
   "source": [
    "transform = torchvision.transforms.Compose([torchvision.transforms.ToTensor()])"
   ]
  },
  {
   "cell_type": "code",
   "execution_count": 4,
   "id": "6eb5f8f7-54ad-44e0-8aa6-9bfa9b6543d5",
   "metadata": {},
   "outputs": [],
   "source": [
    "dataset = CustomDataset(x, transform = transform,mode = 'test')"
   ]
  },
  {
   "cell_type": "code",
   "execution_count": 5,
   "id": "5fc22725-69d4-497f-8e4d-e8d9656cabed",
   "metadata": {},
   "outputs": [],
   "source": [
    "dataloader = DataLoader(dataset, batch_size = 1, shuffle = True)"
   ]
  },
  {
   "cell_type": "code",
   "execution_count": 6,
   "id": "3cca967e-fbe7-4de6-bd4c-70595dc4de78",
   "metadata": {},
   "outputs": [],
   "source": [
    "# Since Kfold training has been performed we have ensemble of kfold models\n",
    "k_folds = 5\n",
    "\n",
    "outputs = []\n",
    "models = []\n",
    "predicts = []\n",
    "for fold in range(k_folds):\n",
    "    DEVICE = torch.device(\"cuda\")\n",
    "    model = Resnet_Ensemble(2, 15, BasicBlock, CBAM, resnet = ResNet)\n",
    "    model.load_state_dict(torch.load(f'/DATA/Shashank/GSOC 2024/Common Task -1/Common Task 1/best_model_{fold}.pth'))\n",
    "    model.eval()\n",
    "    model = model.to('cuda')\n",
    "    predict = Predict(model)\n",
    "    predicts.append(predict)\n",
    "\n",
    "\n",
    "\n",
    "for batch in dataloader:\n",
    "    op = []\n",
    "    img = batch['image'].to('cuda').float()\n",
    "    for fold in range(k_folds):\n",
    "        op.append(predicts[fold].predict(img).cpu().detach().numpy())\n",
    "    op = np.array(op)\n",
    "    outputs.append(op.mean())\n",
    "\n",
    "# outputs.append(np.array(op))"
   ]
  },
  {
   "cell_type": "code",
   "execution_count": 7,
   "id": "995ed8c1-7029-40c5-bde0-fa268e668262",
   "metadata": {},
   "outputs": [
    {
     "data": {
      "text/plain": [
       "[0.4, 0.4, 0.4, 0.4, 0.4]"
      ]
     },
     "execution_count": 7,
     "metadata": {},
     "output_type": "execute_result"
    }
   ],
   "source": [
    "outputs"
   ]
  },
  {
   "cell_type": "code",
   "execution_count": 8,
   "id": "923382d7-cef4-481e-bb5a-ab57fb469353",
   "metadata": {},
   "outputs": [],
   "source": [
    "outputs = np.array(outputs)"
   ]
  },
  {
   "cell_type": "code",
   "execution_count": 9,
   "id": "4daaed44-ac11-4b6f-a5e4-b985659c6d38",
   "metadata": {},
   "outputs": [
    {
     "data": {
      "text/plain": [
       "(5,)"
      ]
     },
     "execution_count": 9,
     "metadata": {},
     "output_type": "execute_result"
    }
   ],
   "source": [
    "outputs.shape"
   ]
  },
  {
   "cell_type": "code",
   "execution_count": 11,
   "id": "8e9b7c1a-e0e7-4287-bded-20e725597530",
   "metadata": {},
   "outputs": [],
   "source": [
    "outputs = outputs.reshape((outputs.shape[0], 1))"
   ]
  },
  {
   "cell_type": "code",
   "execution_count": 12,
   "id": "9aff8f9f-d630-4bf9-aceb-67ef46b8f63e",
   "metadata": {},
   "outputs": [
    {
     "data": {
      "text/plain": [
       "array([[0.4],\n",
       "       [0.4],\n",
       "       [0.4],\n",
       "       [0.4],\n",
       "       [0.4]], dtype=float32)"
      ]
     },
     "execution_count": 12,
     "metadata": {},
     "output_type": "execute_result"
    }
   ],
   "source": [
    "outputs"
   ]
  },
  {
   "cell_type": "code",
   "execution_count": null,
   "id": "0c7dcd87-5fb4-47f8-9c45-bca90710cac6",
   "metadata": {},
   "outputs": [],
   "source": []
  }
 ],
 "metadata": {
  "kernelspec": {
   "display_name": "Python 3 (ipykernel)",
   "language": "python",
   "name": "python3"
  },
  "language_info": {
   "codemirror_mode": {
    "name": "ipython",
    "version": 3
   },
   "file_extension": ".py",
   "mimetype": "text/x-python",
   "name": "python",
   "nbconvert_exporter": "python",
   "pygments_lexer": "ipython3",
   "version": "3.10.0"
  }
 },
 "nbformat": 4,
 "nbformat_minor": 5
}
