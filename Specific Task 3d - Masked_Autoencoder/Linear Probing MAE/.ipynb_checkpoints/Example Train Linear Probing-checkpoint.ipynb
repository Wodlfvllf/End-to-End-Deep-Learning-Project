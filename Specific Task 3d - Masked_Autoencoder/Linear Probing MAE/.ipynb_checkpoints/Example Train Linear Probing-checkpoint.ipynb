{
 "cells": [
  {
   "cell_type": "code",
   "execution_count": 1,
   "id": "e2eaa15b-c1d9-4513-a5ce-03fd142dbfdd",
   "metadata": {},
   "outputs": [],
   "source": [
    "from utils import *\n",
    "from model import *\n",
    "from dataset import *\n",
    "from train import *\n",
    "from predict import *"
   ]
  },
  {
   "cell_type": "code",
   "execution_count": 2,
   "id": "d8e91301-518c-4901-9b61-36c8752a7b96",
   "metadata": {},
   "outputs": [
    {
     "name": "stdout",
     "output_type": "stream",
     "text": [
      "Groups in the HDF5 file:\n",
      "Y\n",
      "jet\n",
      "Dataset shape: (10000, 125, 125, 8)\n",
      "Dataset dtype: float32\n",
      "Dataset shape: (10000, 1)\n",
      "Dataset dtype: float32\n",
      "Dataset attributes:\n"
     ]
    }
   ],
   "source": [
    "# Open the HDF5 file\n",
    "import h5py\n",
    "with h5py.File('/DATA/Shashank/Dataset_Specific_labelled.h5', 'r') as file:\n",
    "    # List all the groups in the file\n",
    "    print(\"Groups in the HDF5 file:\")\n",
    "    for group in file:\n",
    "        print(group)\n",
    "\n",
    "    # Get information about a specific dataset\n",
    "    dataset = file['jet']\n",
    "    print(\"Dataset shape:\", dataset.shape)\n",
    "    print(\"Dataset dtype:\", dataset.dtype)\n",
    "    \n",
    "    dataset = file['Y']\n",
    "    print(\"Dataset shape:\", dataset.shape)\n",
    "    print(\"Dataset dtype:\", dataset.dtype)\n",
    "\n",
    "\n",
    "    # Explore attributes of the dataset\n",
    "    print(\"Dataset attributes:\")\n",
    "    for attr_name, attr_value in dataset.attrs.items():\n",
    "        print(f\"{attr_name}: {attr_value}\")\n",
    "\n",
    "    X = np.array(file['jet'][:])\n",
    "    Y = np.array(file['Y'][:])\n",
    "    # Explore more datasets, groups, and attributes as needed\n"
   ]
  },
  {
   "cell_type": "code",
   "execution_count": 3,
   "id": "c5681fa0-fc44-443d-891a-22c151cb12b5",
   "metadata": {},
   "outputs": [],
   "source": [
    "transform = torchvision.transforms.Compose([torchvision.transforms.ToTensor()])"
   ]
  },
  {
   "cell_type": "code",
   "execution_count": 4,
   "id": "4f78b247-e46d-4efa-b954-7c9980d3c059",
   "metadata": {},
   "outputs": [],
   "source": [
    "dataset = Custom_Dataset(X, Y, transform,mode = 'train')"
   ]
  },
  {
   "cell_type": "code",
   "execution_count": 5,
   "id": "70eded6a-fb56-42bd-8e68-d6718131eed1",
   "metadata": {},
   "outputs": [],
   "source": [
    "dataloader = DataLoader(dataset, batch_size = 32, shuffle = True)"
   ]
  },
  {
   "cell_type": "code",
   "execution_count": 6,
   "id": "1ff14063-5279-49d0-8755-b81a2364cdcd",
   "metadata": {},
   "outputs": [],
   "source": [
    "model = mae_vit_base_patch16_dec512d8b(img_size=125, mask_ratio = 0.75)\n",
    "\n",
    "# If pretraining is peformed before load pretrained weights\n",
    "model = torch.load('/DATA/Shashank/GSOC 2024/Masked_Autoencoder/Masked_Autoencoder/model.pth')"
   ]
  },
  {
   "cell_type": "code",
   "execution_count": 7,
   "id": "a007a464-0aa4-42a4-8b6f-3111c70e8a9a",
   "metadata": {},
   "outputs": [],
   "source": [
    "# Instanitate Classifier\n",
    "encoder = model.encoder\n",
    "classifier = VIT_classifier(encoder, 2)"
   ]
  },
  {
   "cell_type": "code",
   "execution_count": 8,
   "id": "6c4394f1-1ed0-4dab-a537-2cea3d0c408b",
   "metadata": {},
   "outputs": [],
   "source": [
    "NUM_GPU = torch.cuda.device_count()\n",
    "if NUM_GPU > 1:\n",
    "    classifier = nn.DataParallel(classifier)\n",
    "classifier = classifier.to('cuda')"
   ]
  },
  {
   "cell_type": "code",
   "execution_count": 9,
   "id": "8c74eff4-dc55-4a2f-b993-6db9d1f177a5",
   "metadata": {},
   "outputs": [],
   "source": [
    "train_size = int(0.8 * len(dataset))\n",
    "val_size = len(dataset) - train_size\n",
    "train_dataset, val_dataset = torch.utils.data.random_split(dataset, [train_size, val_size])\n",
    "training_loss = []\n",
    "validation_loss = []\n",
    "# Create data loaders\n",
    "train_dataloader = DataLoader(train_dataset, batch_size=64, shuffle=True)\n",
    "val_dataloader = DataLoader(val_dataset, batch_size=64, shuffle=False)"
   ]
  },
  {
   "cell_type": "code",
   "execution_count": 10,
   "id": "c0fa73fe-5994-4b65-82a2-00ac0b371658",
   "metadata": {},
   "outputs": [],
   "source": [
    "trainer = CustomTrainer(classifier, train_dataloader, val_dataloader)"
   ]
  },
  {
   "cell_type": "code",
   "execution_count": 13,
   "id": "50189768-fb19-4a3a-b701-97c5a3c990ad",
   "metadata": {},
   "outputs": [
    {
     "name": "stderr",
     "output_type": "stream",
     "text": [
      "Epoch 1/1 - Training: 100%|██████████| 125/125 [02:27<00:00,  1.18s/it]\n",
      "Epoch 1/1 - Validation: 100%|██████████| 32/32 [00:11<00:00,  2.69it/s]\n"
     ]
    },
    {
     "name": "stdout",
     "output_type": "stream",
     "text": [
      "Epoch 1/1, Train Loss: 0.6747, Train Accuracy: 0.6044, Valid Loss: 0.6466, Valid Accuracy: 0.7852\n"
     ]
    }
   ],
   "source": [
    "train_losses, val_losses, train_accuracies, val_accuracies = trainer.train(epochs = 1, save_path =  '/DATA/Shashank/best_model.pth'\n",
    ")"
   ]
  },
  {
   "cell_type": "code",
   "execution_count": 14,
   "id": "438c08f9-b345-4a5c-8139-a38c21b2ebab",
   "metadata": {},
   "outputs": [
    {
     "data": {
      "image/png": "[encoded data removed]",
      "text/plain": [
       "<Figure size 640x480 with 1 Axes>"
      ]
     },
     "metadata": {},
     "output_type": "display_data"
    }
   ],
   "source": [
    "plt.plot(train_losses, label='Training Loss')\n",
    "plt.plot(val_losses, label='Validation Loss')\n",
    "plt.xlabel('Epochs')\n",
    "plt.ylabel('Loss')\n",
    "plt.legend()\n",
    "plt.show()"
   ]
  },
  {
   "cell_type": "code",
   "execution_count": null,
   "id": "fc6dae53-0be3-4524-af5f-cc8dfd2de1a7",
   "metadata": {},
   "outputs": [],
   "source": []
  }
 ],
 "metadata": {
  "kernelspec": {
   "display_name": "Python 3 (ipykernel)",
   "language": "python",
   "name": "python3"
  },
  "language_info": {
   "codemirror_mode": {
    "name": "ipython",
    "version": 3
   },
   "file_extension": ".py",
   "mimetype": "text/x-python",
   "name": "python",
   "nbconvert_exporter": "python",
   "pygments_lexer": "ipython3",
   "version": "3.10.0"
  }
 },
 "nbformat": 4,
 "nbformat_minor": 5
}
