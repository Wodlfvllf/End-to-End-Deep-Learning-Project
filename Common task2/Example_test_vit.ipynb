{
 "cells": [
  {
   "cell_type": "code",
   "execution_count": 2,
   "id": "40f4efd8-d7a2-4715-9d7f-8bb4a4e595d5",
   "metadata": {},
   "outputs": [],
   "source": [
    "from utils_2 import *\n",
    "from model_2 import *\n",
    "from dataset_2 import *\n",
    "from train_2 import *\n",
    "from predict_2 import *"
   ]
  },
  {
   "cell_type": "code",
   "execution_count": 7,
   "id": "c0f03ef4-60e2-417c-bb76-56622e1707db",
   "metadata": {},
   "outputs": [],
   "source": [
    "\n",
    "# Load You dataset\n",
    "x = np.random.rand(1,125,125,3)\n",
    "y = 1.0"
   ]
  },
  {
   "cell_type": "code",
   "execution_count": 8,
   "id": "76126136-fdda-4a74-b903-1cc9aa4aa484",
   "metadata": {},
   "outputs": [],
   "source": [
    "transform = torchvision.transforms.Compose([torchvision.transforms.ToTensor()])"
   ]
  },
  {
   "cell_type": "code",
   "execution_count": 9,
   "id": "7b1ceed8-41bc-4b63-b9f5-e06e1d070e3d",
   "metadata": {},
   "outputs": [],
   "source": [
    "dataset = CustomDataset(x, y, transform,mode = 'test')"
   ]
  },
  {
   "cell_type": "code",
   "execution_count": 10,
   "id": "e97d8e2d-e27f-45e1-8c58-75a2aab12c06",
   "metadata": {},
   "outputs": [],
   "source": [
    "dataloader = DataLoader(dataset, batch_size = 1, shuffle = True)"
   ]
  },
  {
   "cell_type": "code",
   "execution_count": 11,
   "id": "2e3529a8-5efd-4a27-b774-630bede46662",
   "metadata": {},
   "outputs": [],
   "source": [
    "# Since Kfold training has been performed we have ensemble of kfold models\n",
    "k_folds = 5\n",
    "\n",
    "outputs = []\n",
    "models = []\n",
    "predicts = []\n",
    "for fold in range(k_folds):\n",
    "    DEVICE = torch.device(\"cuda\")\n",
    "    model = VIT(2, 625, 75, Encoder)\n",
    "    model.load_state_dict(torch.load(f'./vitWeights/weights{fold}.pth'))\n",
    "    model.eval()\n",
    "    model = model.to('cuda')\n",
    "    predict = Predict(model)\n",
    "    predicts.append(predict)\n",
    "\n",
    "\n",
    "\n",
    "for batch in dataloader:\n",
    "    op = []\n",
    "    img = batch['image'].to('cuda').float()\n",
    "    for fold in range(k_folds):\n",
    "        op.append(predicts[fold].predict(img).cpu().detach().numpy())\n",
    "    op = np.array(op)\n",
    "    outputs.append(op.mean())\n",
    "\n",
    "# outputs.append(np.array(op))"
   ]
  },
  {
   "cell_type": "code",
   "execution_count": 13,
   "id": "f960b786-ae5e-438b-b73d-c895dbe8f6b8",
   "metadata": {},
   "outputs": [
    {
     "data": {
      "text/plain": [
       "[0.4117651]"
      ]
     },
     "execution_count": 13,
     "metadata": {},
     "output_type": "execute_result"
    }
   ],
   "source": [
    "outputs"
   ]
  },
  {
   "cell_type": "code",
   "execution_count": null,
   "id": "57009454-f893-4b29-ade6-c209c944d947",
   "metadata": {},
   "outputs": [],
   "source": []
  }
 ],
 "metadata": {
  "kernelspec": {
   "display_name": "Python 3 (ipykernel)",
   "language": "python",
   "name": "python3"
  },
  "language_info": {
   "codemirror_mode": {
    "name": "ipython",
    "version": 3
   },
   "file_extension": ".py",
   "mimetype": "text/x-python",
   "name": "python",
   "nbconvert_exporter": "python",
   "pygments_lexer": "ipython3",
   "version": "3.10.0"
  }
 },
 "nbformat": 4,
 "nbformat_minor": 5
}
