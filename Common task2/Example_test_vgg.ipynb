{
 "cells": [
  {
   "cell_type": "code",
   "execution_count": 1,
   "id": "da44934a-4a3f-4471-b14a-2e93c67248dd",
   "metadata": {},
   "outputs": [],
   "source": [
    "from utils_2 import *\n",
    "from model_3 import *\n",
    "from dataset_2 import *\n",
    "from train_2 import *\n",
    "from predict_2 import *"
   ]
  },
  {
   "cell_type": "code",
   "execution_count": 2,
   "id": "cd75ea5e-6120-44d3-96e4-80342316e0ec",
   "metadata": {},
   "outputs": [],
   "source": [
    "\n",
    "# Load You dataset\n",
    "x = np.random.rand(1,125,125,3)\n",
    "y = 1.0"
   ]
  },
  {
   "cell_type": "code",
   "execution_count": 3,
   "id": "d6b8fbe7-2a4b-414f-a830-95115e2299a1",
   "metadata": {},
   "outputs": [],
   "source": [
    "transform = torchvision.transforms.Compose([torchvision.transforms.ToTensor()])"
   ]
  },
  {
   "cell_type": "code",
   "execution_count": 4,
   "id": "6856ca3c-d656-48c3-a167-30e3b3ec8273",
   "metadata": {},
   "outputs": [],
   "source": [
    "dataset = CustomDataset(x, y, transform,mode = 'test')"
   ]
  },
  {
   "cell_type": "code",
   "execution_count": 5,
   "id": "9eca8f66-1756-4e2a-93c5-9ded27d858ce",
   "metadata": {},
   "outputs": [],
   "source": [
    "dataloader = DataLoader(dataset, batch_size = 1, shuffle = True)"
   ]
  },
  {
   "cell_type": "code",
   "execution_count": 7,
   "id": "6f45713f-8b29-4c35-b08d-35692d145762",
   "metadata": {},
   "outputs": [],
   "source": [
    "# Since Kfold training has been performed we have ensemble of kfold models\n",
    "k_folds = 5\n",
    "\n",
    "outputs = []\n",
    "models = []\n",
    "predicts = []\n",
    "for fold in range(k_folds):\n",
    "    DEVICE = torch.device(\"cuda\")\n",
    "    model = VGG_12(BasicBlock, 3, 16, CBAM)\n",
    "    model = nn.DataParallel(model)\n",
    "    model.load_state_dict(torch.load(f'./vggWeights/best_model_{fold}.pth'))\n",
    "    model.eval()\n",
    "    model = model.to('cuda')\n",
    "    predict = Predict(model)\n",
    "    predicts.append(predict)\n",
    "\n",
    "\n",
    "\n",
    "for batch in dataloader:\n",
    "    op = []\n",
    "    img = batch['image'].to('cuda').float()\n",
    "    for fold in range(k_folds):\n",
    "        op.append(predicts[fold].predict(img).cpu().detach().numpy())\n",
    "    op = np.array(op)\n",
    "    outputs.append(op.mean())\n",
    "\n",
    "# outputs.append(np.array(op))"
   ]
  },
  {
   "cell_type": "code",
   "execution_count": null,
   "id": "8c8ba200-1d58-417c-8a4d-1b10b6af5969",
   "metadata": {},
   "outputs": [],
   "source": []
  }
 ],
 "metadata": {
  "kernelspec": {
   "display_name": "Python 3 (ipykernel)",
   "language": "python",
   "name": "python3"
  },
  "language_info": {
   "codemirror_mode": {
    "name": "ipython",
    "version": 3
   },
   "file_extension": ".py",
   "mimetype": "text/x-python",
   "name": "python",
   "nbconvert_exporter": "python",
   "pygments_lexer": "ipython3",
   "version": "3.10.0"
  }
 },
 "nbformat": 4,
 "nbformat_minor": 5
}
